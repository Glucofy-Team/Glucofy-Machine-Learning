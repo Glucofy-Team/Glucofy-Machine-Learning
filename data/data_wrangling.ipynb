{
  "cells": [
    {
      "cell_type": "markdown",
      "metadata": {
        "id": "KVJ1bz-KyJZj"
      },
      "source": [
        "## Import Library"
      ]
    },
    {
      "cell_type": "code",
      "execution_count": 10,
      "metadata": {
        "id": "PPZ3up2dPEjY"
      },
      "outputs": [],
      "source": [
        "import pandas as pd"
      ]
    },
    {
      "cell_type": "markdown",
      "metadata": {
        "id": "MixwP27SyTBj"
      },
      "source": [
        "## Gathering Data\n",
        "The dataset was collected using a web scraper from the Glycemic Index Guide [website](https://glycemic-index.net/)."
      ]
    },
    {
      "cell_type": "code",
      "execution_count": 11,
      "metadata": {
        "id": "n1A1VPiB_Thd"
      },
      "outputs": [],
      "source": [
        "df = pd.read_csv('https://raw.githubusercontent.com/Glucofy-Team/Glucofy-Machine-Learning/main/data/nutrition%20food%20dataset%20-%20translated.csv')"
      ]
    },
    {
      "cell_type": "markdown",
      "metadata": {
        "id": "XyqbfLkk1diA"
      },
      "source": [
        "## Assessing Data\n",
        "Check for missing values, duplicate data, and inaccurate values."
      ]
    },
    {
      "cell_type": "code",
      "execution_count": 12,
      "metadata": {
        "colab": {
          "base_uri": "https://localhost:8080/"
        },
        "id": "TtfOSRF6_btG",
        "outputId": "9a7a697a-a20e-46df-c743-8db8464bb402"
      },
      "outputs": [
        {
          "name": "stdout",
          "output_type": "stream",
          "text": [
            "<class 'pandas.core.frame.DataFrame'>\n",
            "RangeIndex: 577 entries, 0 to 576\n",
            "Data columns (total 11 columns):\n",
            " #   Column                 Non-Null Count  Dtype  \n",
            "---  ------                 --------------  -----  \n",
            " 0   web-scraper-order      577 non-null    object \n",
            " 1   web-scraper-start-url  577 non-null    object \n",
            " 2   category-href          577 non-null    object \n",
            " 3   category               577 non-null    object \n",
            " 4   name                   577 non-null    object \n",
            " 5   glycemic_index         577 non-null    int64  \n",
            " 6   glycemic_load          577 non-null    float64\n",
            " 7   calories (kcal)        577 non-null    int64  \n",
            " 8   proteins (g)           577 non-null    float64\n",
            " 9   carbohydrates (g)      577 non-null    float64\n",
            " 10  fats (g)               577 non-null    float64\n",
            "dtypes: float64(4), int64(2), object(5)\n",
            "memory usage: 49.7+ KB\n"
          ]
        }
      ],
      "source": [
        "df.info()"
      ]
    },
    {
      "cell_type": "code",
      "execution_count": 13,
      "metadata": {
        "colab": {
          "base_uri": "https://localhost:8080/"
        },
        "id": "_FthJrNkLyl0",
        "outputId": "b18b87eb-b0a1-4bb3-d351-bd4801d1475d"
      },
      "outputs": [
        {
          "data": {
            "text/plain": [
              "web-scraper-order        0\n",
              "web-scraper-start-url    0\n",
              "category-href            0\n",
              "category                 0\n",
              "name                     0\n",
              "glycemic_index           0\n",
              "glycemic_load            0\n",
              "calories (kcal)          0\n",
              "proteins (g)             0\n",
              "carbohydrates (g)        0\n",
              "fats (g)                 0\n",
              "dtype: int64"
            ]
          },
          "execution_count": 13,
          "metadata": {},
          "output_type": "execute_result"
        }
      ],
      "source": [
        "df.isna().sum()"
      ]
    },
    {
      "cell_type": "code",
      "execution_count": 14,
      "metadata": {
        "colab": {
          "base_uri": "https://localhost:8080/"
        },
        "id": "NMBwnyXlL09Q",
        "outputId": "b05e18dd-fbbb-4ae5-a05f-f03d87a3674b"
      },
      "outputs": [
        {
          "data": {
            "text/plain": [
              "4"
            ]
          },
          "execution_count": 14,
          "metadata": {},
          "output_type": "execute_result"
        }
      ],
      "source": [
        "df['name'].duplicated().sum()"
      ]
    },
    {
      "cell_type": "code",
      "execution_count": 15,
      "metadata": {
        "colab": {
          "base_uri": "https://localhost:8080/",
          "height": 300
        },
        "id": "XMLzzO0AL289",
        "outputId": "6373f153-464b-4b79-d1df-8628357aaf66"
      },
      "outputs": [
        {
          "data": {
            "text/html": [
              "<div>\n",
              "<style scoped>\n",
              "    .dataframe tbody tr th:only-of-type {\n",
              "        vertical-align: middle;\n",
              "    }\n",
              "\n",
              "    .dataframe tbody tr th {\n",
              "        vertical-align: top;\n",
              "    }\n",
              "\n",
              "    .dataframe thead th {\n",
              "        text-align: right;\n",
              "    }\n",
              "</style>\n",
              "<table border=\"1\" class=\"dataframe\">\n",
              "  <thead>\n",
              "    <tr style=\"text-align: right;\">\n",
              "      <th></th>\n",
              "      <th>glycemic_index</th>\n",
              "      <th>glycemic_load</th>\n",
              "      <th>calories (kcal)</th>\n",
              "      <th>proteins (g)</th>\n",
              "      <th>carbohydrates (g)</th>\n",
              "      <th>fats (g)</th>\n",
              "    </tr>\n",
              "  </thead>\n",
              "  <tbody>\n",
              "    <tr>\n",
              "      <th>count</th>\n",
              "      <td>577.000000</td>\n",
              "      <td>577.000000</td>\n",
              "      <td>577.000000</td>\n",
              "      <td>577.000000</td>\n",
              "      <td>577.000000</td>\n",
              "      <td>577.000000</td>\n",
              "    </tr>\n",
              "    <tr>\n",
              "      <th>mean</th>\n",
              "      <td>41.521664</td>\n",
              "      <td>14.891854</td>\n",
              "      <td>216.918544</td>\n",
              "      <td>6.852530</td>\n",
              "      <td>28.513605</td>\n",
              "      <td>8.669133</td>\n",
              "    </tr>\n",
              "    <tr>\n",
              "      <th>std</th>\n",
              "      <td>24.136331</td>\n",
              "      <td>18.397778</td>\n",
              "      <td>179.784126</td>\n",
              "      <td>7.492504</td>\n",
              "      <td>27.047262</td>\n",
              "      <td>16.971254</td>\n",
              "    </tr>\n",
              "    <tr>\n",
              "      <th>min</th>\n",
              "      <td>0.000000</td>\n",
              "      <td>0.000000</td>\n",
              "      <td>2.000000</td>\n",
              "      <td>0.000000</td>\n",
              "      <td>0.000000</td>\n",
              "      <td>0.000000</td>\n",
              "    </tr>\n",
              "    <tr>\n",
              "      <th>25%</th>\n",
              "      <td>25.000000</td>\n",
              "      <td>1.600000</td>\n",
              "      <td>56.000000</td>\n",
              "      <td>1.100000</td>\n",
              "      <td>6.100000</td>\n",
              "      <td>0.200000</td>\n",
              "    </tr>\n",
              "    <tr>\n",
              "      <th>50%</th>\n",
              "      <td>40.000000</td>\n",
              "      <td>7.000000</td>\n",
              "      <td>185.000000</td>\n",
              "      <td>3.500000</td>\n",
              "      <td>17.200000</td>\n",
              "      <td>1.400000</td>\n",
              "    </tr>\n",
              "    <tr>\n",
              "      <th>75%</th>\n",
              "      <td>60.000000</td>\n",
              "      <td>22.200000</td>\n",
              "      <td>337.000000</td>\n",
              "      <td>10.000000</td>\n",
              "      <td>52.700000</td>\n",
              "      <td>8.000000</td>\n",
              "    </tr>\n",
              "    <tr>\n",
              "      <th>max</th>\n",
              "      <td>115.000000</td>\n",
              "      <td>95.000000</td>\n",
              "      <td>900.000000</td>\n",
              "      <td>46.000000</td>\n",
              "      <td>100.000000</td>\n",
              "      <td>100.000000</td>\n",
              "    </tr>\n",
              "  </tbody>\n",
              "</table>\n",
              "</div>"
            ],
            "text/plain": [
              "       glycemic_index  glycemic_load  calories (kcal)  proteins (g)  \\\n",
              "count      577.000000     577.000000       577.000000    577.000000   \n",
              "mean        41.521664      14.891854       216.918544      6.852530   \n",
              "std         24.136331      18.397778       179.784126      7.492504   \n",
              "min          0.000000       0.000000         2.000000      0.000000   \n",
              "25%         25.000000       1.600000        56.000000      1.100000   \n",
              "50%         40.000000       7.000000       185.000000      3.500000   \n",
              "75%         60.000000      22.200000       337.000000     10.000000   \n",
              "max        115.000000      95.000000       900.000000     46.000000   \n",
              "\n",
              "       carbohydrates (g)    fats (g)  \n",
              "count         577.000000  577.000000  \n",
              "mean           28.513605    8.669133  \n",
              "std            27.047262   16.971254  \n",
              "min             0.000000    0.000000  \n",
              "25%             6.100000    0.200000  \n",
              "50%            17.200000    1.400000  \n",
              "75%            52.700000    8.000000  \n",
              "max           100.000000  100.000000  "
            ]
          },
          "execution_count": 15,
          "metadata": {},
          "output_type": "execute_result"
        }
      ],
      "source": [
        "df.describe()"
      ]
    },
    {
      "cell_type": "markdown",
      "metadata": {
        "id": "bytFi88hQsND"
      },
      "source": [
        "## Cleaning Data"
      ]
    },
    {
      "cell_type": "markdown",
      "metadata": {
        "id": "79C_kCMXQt2C"
      },
      "source": [
        "- Drop unnecessary columns."
      ]
    },
    {
      "cell_type": "code",
      "execution_count": 16,
      "metadata": {
        "id": "J0z2VAKGQ2Hj"
      },
      "outputs": [],
      "source": [
        "col = ['web-scraper-order', 'web-scraper-start-url', 'category-href']\n",
        "\n",
        "df.drop(columns=col, inplace=True)"
      ]
    },
    {
      "cell_type": "markdown",
      "metadata": {},
      "source": [
        "- Drop duplicate rows."
      ]
    },
    {
      "cell_type": "code",
      "execution_count": 17,
      "metadata": {},
      "outputs": [],
      "source": [
        "df.drop_duplicates(subset=['name'], keep='first', inplace=True)"
      ]
    },
    {
      "cell_type": "code",
      "execution_count": 18,
      "metadata": {
        "colab": {
          "base_uri": "https://localhost:8080/"
        },
        "id": "6kR4z-3URgTZ",
        "outputId": "f7849ccf-a8f7-471c-9048-7a4d2619df3e"
      },
      "outputs": [
        {
          "name": "stdout",
          "output_type": "stream",
          "text": [
            "<class 'pandas.core.frame.DataFrame'>\n",
            "Index: 573 entries, 0 to 576\n",
            "Data columns (total 8 columns):\n",
            " #   Column             Non-Null Count  Dtype  \n",
            "---  ------             --------------  -----  \n",
            " 0   category           573 non-null    object \n",
            " 1   name               573 non-null    object \n",
            " 2   glycemic_index     573 non-null    int64  \n",
            " 3   glycemic_load      573 non-null    float64\n",
            " 4   calories (kcal)    573 non-null    int64  \n",
            " 5   proteins (g)       573 non-null    float64\n",
            " 6   carbohydrates (g)  573 non-null    float64\n",
            " 7   fats (g)           573 non-null    float64\n",
            "dtypes: float64(4), int64(2), object(2)\n",
            "memory usage: 40.3+ KB\n"
          ]
        }
      ],
      "source": [
        "df.info()"
      ]
    },
    {
      "cell_type": "markdown",
      "metadata": {
        "id": "9ZdeRvh-RlUB"
      },
      "source": [
        "- Change the data type of the numeric columns to `float64`."
      ]
    },
    {
      "cell_type": "code",
      "execution_count": 19,
      "metadata": {
        "id": "SXiwXTX8Rk4L"
      },
      "outputs": [],
      "source": [
        "col = ['glycemic_index', 'calories (kcal)']\n",
        "\n",
        "df[col] = df[col].astype('float64')"
      ]
    },
    {
      "cell_type": "code",
      "execution_count": 20,
      "metadata": {
        "colab": {
          "base_uri": "https://localhost:8080/"
        },
        "id": "YjuheL-iSsaJ",
        "outputId": "f83938e8-5fb3-401c-e5e6-c2b60fc391e7"
      },
      "outputs": [
        {
          "name": "stdout",
          "output_type": "stream",
          "text": [
            "<class 'pandas.core.frame.DataFrame'>\n",
            "Index: 573 entries, 0 to 576\n",
            "Data columns (total 8 columns):\n",
            " #   Column             Non-Null Count  Dtype  \n",
            "---  ------             --------------  -----  \n",
            " 0   category           573 non-null    object \n",
            " 1   name               573 non-null    object \n",
            " 2   glycemic_index     573 non-null    float64\n",
            " 3   glycemic_load      573 non-null    float64\n",
            " 4   calories (kcal)    573 non-null    float64\n",
            " 5   proteins (g)       573 non-null    float64\n",
            " 6   carbohydrates (g)  573 non-null    float64\n",
            " 7   fats (g)           573 non-null    float64\n",
            "dtypes: float64(6), object(2)\n",
            "memory usage: 40.3+ KB\n"
          ]
        }
      ],
      "source": [
        "df.info()"
      ]
    },
    {
      "cell_type": "markdown",
      "metadata": {
        "id": "Dn9b58nVyPxc"
      },
      "source": [
        "## Save Dataset"
      ]
    },
    {
      "cell_type": "code",
      "execution_count": 21,
      "metadata": {
        "id": "9M-8dTdOyRlw"
      },
      "outputs": [],
      "source": [
        "df.to_csv('nutrition food dataset - modified.csv', index=False)"
      ]
    }
  ],
  "metadata": {
    "colab": {
      "authorship_tag": "ABX9TyObDkBUvtNns1AFiCynFBg/",
      "provenance": []
    },
    "kernelspec": {
      "display_name": "Python 3",
      "name": "python3"
    },
    "language_info": {
      "codemirror_mode": {
        "name": "ipython",
        "version": 3
      },
      "file_extension": ".py",
      "mimetype": "text/x-python",
      "name": "python",
      "nbconvert_exporter": "python",
      "pygments_lexer": "ipython3",
      "version": "3.11.4"
    }
  },
  "nbformat": 4,
  "nbformat_minor": 0
}
