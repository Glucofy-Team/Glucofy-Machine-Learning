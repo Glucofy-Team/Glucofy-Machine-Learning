{
  "cells": [
    {
      "cell_type": "markdown",
      "metadata": {
        "id": "KVJ1bz-KyJZj"
      },
      "source": [
        "## Import Library"
      ]
    },
    {
      "cell_type": "code",
      "execution_count": 1,
      "metadata": {
        "id": "PPZ3up2dPEjY"
      },
      "outputs": [],
      "source": [
        "import pandas as pd"
      ]
    },
    {
      "cell_type": "markdown",
      "metadata": {
        "id": "MixwP27SyTBj"
      },
      "source": [
        "## Gathering Data\n",
        "The dataset was collected using a web scraper from the Glycemic Index Guide [website](https://glycemic-index.net/)."
      ]
    },
    {
      "cell_type": "code",
      "execution_count": 2,
      "metadata": {
        "id": "n1A1VPiB_Thd"
      },
      "outputs": [],
      "source": [
        "df = pd.read_csv('https://raw.githubusercontent.com/Glucofy-Team/Glucofy-Machine-Learning/main/data/nutrition%20food%20dataset%20-%20translated.csv')"
      ]
    },
    {
      "cell_type": "markdown",
      "metadata": {
        "id": "XyqbfLkk1diA"
      },
      "source": [
        "## Assessing Data\n",
        "Check for missing values, duplicate data, and inaccurate values."
      ]
    },
    {
      "cell_type": "code",
      "execution_count": 3,
      "metadata": {
        "colab": {
          "base_uri": "https://localhost:8080/"
        },
        "id": "TtfOSRF6_btG",
        "outputId": "9a7a697a-a20e-46df-c743-8db8464bb402"
      },
      "outputs": [
        {
          "name": "stdout",
          "output_type": "stream",
          "text": [
            "<class 'pandas.core.frame.DataFrame'>\n",
            "RangeIndex: 586 entries, 0 to 585\n",
            "Data columns (total 11 columns):\n",
            " #   Column                 Non-Null Count  Dtype  \n",
            "---  ------                 --------------  -----  \n",
            " 0   web-scraper-order      586 non-null    object \n",
            " 1   web-scraper-start-url  586 non-null    object \n",
            " 2   category-href          586 non-null    object \n",
            " 3   category               586 non-null    object \n",
            " 4   name                   586 non-null    object \n",
            " 5   glycemic_index         586 non-null    int64  \n",
            " 6   glycemic_load          586 non-null    float64\n",
            " 7   calories (kcal)        586 non-null    int64  \n",
            " 8   proteins (g)           586 non-null    float64\n",
            " 9   carbohydrates (g)      586 non-null    float64\n",
            " 10  fats (g)               586 non-null    float64\n",
            "dtypes: float64(4), int64(2), object(5)\n",
            "memory usage: 50.5+ KB\n"
          ]
        }
      ],
      "source": [
        "df.info()"
      ]
    },
    {
      "cell_type": "code",
      "execution_count": 4,
      "metadata": {
        "colab": {
          "base_uri": "https://localhost:8080/"
        },
        "id": "_FthJrNkLyl0",
        "outputId": "b18b87eb-b0a1-4bb3-d351-bd4801d1475d"
      },
      "outputs": [
        {
          "data": {
            "text/plain": [
              "web-scraper-order        0\n",
              "web-scraper-start-url    0\n",
              "category-href            0\n",
              "category                 0\n",
              "name                     0\n",
              "glycemic_index           0\n",
              "glycemic_load            0\n",
              "calories (kcal)          0\n",
              "proteins (g)             0\n",
              "carbohydrates (g)        0\n",
              "fats (g)                 0\n",
              "dtype: int64"
            ]
          },
          "execution_count": 4,
          "metadata": {},
          "output_type": "execute_result"
        }
      ],
      "source": [
        "df.isna().sum()"
      ]
    },
    {
      "cell_type": "code",
      "execution_count": 5,
      "metadata": {
        "colab": {
          "base_uri": "https://localhost:8080/"
        },
        "id": "NMBwnyXlL09Q",
        "outputId": "b05e18dd-fbbb-4ae5-a05f-f03d87a3674b"
      },
      "outputs": [
        {
          "data": {
            "text/plain": [
              "17"
            ]
          },
          "execution_count": 5,
          "metadata": {},
          "output_type": "execute_result"
        }
      ],
      "source": [
        "df['name'].duplicated().sum()"
      ]
    },
    {
      "cell_type": "code",
      "execution_count": 6,
      "metadata": {
        "colab": {
          "base_uri": "https://localhost:8080/",
          "height": 300
        },
        "id": "XMLzzO0AL289",
        "outputId": "6373f153-464b-4b79-d1df-8628357aaf66"
      },
      "outputs": [
        {
          "data": {
            "text/html": [
              "<div>\n",
              "<style scoped>\n",
              "    .dataframe tbody tr th:only-of-type {\n",
              "        vertical-align: middle;\n",
              "    }\n",
              "\n",
              "    .dataframe tbody tr th {\n",
              "        vertical-align: top;\n",
              "    }\n",
              "\n",
              "    .dataframe thead th {\n",
              "        text-align: right;\n",
              "    }\n",
              "</style>\n",
              "<table border=\"1\" class=\"dataframe\">\n",
              "  <thead>\n",
              "    <tr style=\"text-align: right;\">\n",
              "      <th></th>\n",
              "      <th>glycemic_index</th>\n",
              "      <th>glycemic_load</th>\n",
              "      <th>calories (kcal)</th>\n",
              "      <th>proteins (g)</th>\n",
              "      <th>carbohydrates (g)</th>\n",
              "      <th>fats (g)</th>\n",
              "    </tr>\n",
              "  </thead>\n",
              "  <tbody>\n",
              "    <tr>\n",
              "      <th>count</th>\n",
              "      <td>586.000000</td>\n",
              "      <td>586.000000</td>\n",
              "      <td>586.000000</td>\n",
              "      <td>586.000000</td>\n",
              "      <td>586.000000</td>\n",
              "      <td>586.000000</td>\n",
              "    </tr>\n",
              "    <tr>\n",
              "      <th>mean</th>\n",
              "      <td>41.298635</td>\n",
              "      <td>14.779181</td>\n",
              "      <td>217.597270</td>\n",
              "      <td>6.961792</td>\n",
              "      <td>28.504522</td>\n",
              "      <td>8.719266</td>\n",
              "    </tr>\n",
              "    <tr>\n",
              "      <th>std</th>\n",
              "      <td>24.131008</td>\n",
              "      <td>18.316097</td>\n",
              "      <td>180.102454</td>\n",
              "      <td>7.618162</td>\n",
              "      <td>27.074133</td>\n",
              "      <td>16.960519</td>\n",
              "    </tr>\n",
              "    <tr>\n",
              "      <th>min</th>\n",
              "      <td>0.000000</td>\n",
              "      <td>0.000000</td>\n",
              "      <td>2.000000</td>\n",
              "      <td>0.000000</td>\n",
              "      <td>0.000000</td>\n",
              "      <td>0.000000</td>\n",
              "    </tr>\n",
              "    <tr>\n",
              "      <th>25%</th>\n",
              "      <td>25.000000</td>\n",
              "      <td>1.600000</td>\n",
              "      <td>56.000000</td>\n",
              "      <td>1.125000</td>\n",
              "      <td>6.025000</td>\n",
              "      <td>0.200000</td>\n",
              "    </tr>\n",
              "    <tr>\n",
              "      <th>50%</th>\n",
              "      <td>40.000000</td>\n",
              "      <td>7.000000</td>\n",
              "      <td>187.000000</td>\n",
              "      <td>3.650000</td>\n",
              "      <td>17.100000</td>\n",
              "      <td>1.450000</td>\n",
              "    </tr>\n",
              "    <tr>\n",
              "      <th>75%</th>\n",
              "      <td>60.000000</td>\n",
              "      <td>22.175000</td>\n",
              "      <td>339.250000</td>\n",
              "      <td>10.075000</td>\n",
              "      <td>52.775000</td>\n",
              "      <td>8.000000</td>\n",
              "    </tr>\n",
              "    <tr>\n",
              "      <th>max</th>\n",
              "      <td>115.000000</td>\n",
              "      <td>95.000000</td>\n",
              "      <td>900.000000</td>\n",
              "      <td>46.000000</td>\n",
              "      <td>100.000000</td>\n",
              "      <td>100.000000</td>\n",
              "    </tr>\n",
              "  </tbody>\n",
              "</table>\n",
              "</div>"
            ],
            "text/plain": [
              "       glycemic_index  glycemic_load  calories (kcal)  proteins (g)  \\\n",
              "count      586.000000     586.000000       586.000000    586.000000   \n",
              "mean        41.298635      14.779181       217.597270      6.961792   \n",
              "std         24.131008      18.316097       180.102454      7.618162   \n",
              "min          0.000000       0.000000         2.000000      0.000000   \n",
              "25%         25.000000       1.600000        56.000000      1.125000   \n",
              "50%         40.000000       7.000000       187.000000      3.650000   \n",
              "75%         60.000000      22.175000       339.250000     10.075000   \n",
              "max        115.000000      95.000000       900.000000     46.000000   \n",
              "\n",
              "       carbohydrates (g)    fats (g)  \n",
              "count         586.000000  586.000000  \n",
              "mean           28.504522    8.719266  \n",
              "std            27.074133   16.960519  \n",
              "min             0.000000    0.000000  \n",
              "25%             6.025000    0.200000  \n",
              "50%            17.100000    1.450000  \n",
              "75%            52.775000    8.000000  \n",
              "max           100.000000  100.000000  "
            ]
          },
          "execution_count": 6,
          "metadata": {},
          "output_type": "execute_result"
        }
      ],
      "source": [
        "df.describe()"
      ]
    },
    {
      "cell_type": "markdown",
      "metadata": {
        "id": "bytFi88hQsND"
      },
      "source": [
        "## Cleaning Data"
      ]
    },
    {
      "cell_type": "markdown",
      "metadata": {
        "id": "79C_kCMXQt2C"
      },
      "source": [
        "- Drop unnecessary columns."
      ]
    },
    {
      "cell_type": "code",
      "execution_count": 7,
      "metadata": {
        "id": "J0z2VAKGQ2Hj"
      },
      "outputs": [],
      "source": [
        "col = ['web-scraper-order', 'web-scraper-start-url', 'category-href']\n",
        "\n",
        "df.drop(columns=col, inplace=True)"
      ]
    },
    {
      "cell_type": "markdown",
      "metadata": {},
      "source": [
        "- Drop duplicate rows."
      ]
    },
    {
      "cell_type": "code",
      "execution_count": 8,
      "metadata": {},
      "outputs": [],
      "source": [
        "df.drop_duplicates(subset=['name'], inplace=True)"
      ]
    },
    {
      "cell_type": "code",
      "execution_count": 9,
      "metadata": {
        "colab": {
          "base_uri": "https://localhost:8080/"
        },
        "id": "6kR4z-3URgTZ",
        "outputId": "f7849ccf-a8f7-471c-9048-7a4d2619df3e"
      },
      "outputs": [
        {
          "name": "stdout",
          "output_type": "stream",
          "text": [
            "<class 'pandas.core.frame.DataFrame'>\n",
            "Index: 569 entries, 0 to 585\n",
            "Data columns (total 8 columns):\n",
            " #   Column             Non-Null Count  Dtype  \n",
            "---  ------             --------------  -----  \n",
            " 0   category           569 non-null    object \n",
            " 1   name               569 non-null    object \n",
            " 2   glycemic_index     569 non-null    int64  \n",
            " 3   glycemic_load      569 non-null    float64\n",
            " 4   calories (kcal)    569 non-null    int64  \n",
            " 5   proteins (g)       569 non-null    float64\n",
            " 6   carbohydrates (g)  569 non-null    float64\n",
            " 7   fats (g)           569 non-null    float64\n",
            "dtypes: float64(4), int64(2), object(2)\n",
            "memory usage: 40.0+ KB\n"
          ]
        }
      ],
      "source": [
        "df.info()"
      ]
    },
    {
      "cell_type": "markdown",
      "metadata": {
        "id": "9ZdeRvh-RlUB"
      },
      "source": [
        "- Change the data type of the numeric columns to `float64`."
      ]
    },
    {
      "cell_type": "code",
      "execution_count": 10,
      "metadata": {
        "id": "SXiwXTX8Rk4L"
      },
      "outputs": [],
      "source": [
        "col = ['glycemic_index', 'calories (kcal)']\n",
        "\n",
        "df[col] = df[col].astype('float64')"
      ]
    },
    {
      "cell_type": "code",
      "execution_count": 11,
      "metadata": {
        "colab": {
          "base_uri": "https://localhost:8080/"
        },
        "id": "YjuheL-iSsaJ",
        "outputId": "f83938e8-5fb3-401c-e5e6-c2b60fc391e7"
      },
      "outputs": [
        {
          "name": "stdout",
          "output_type": "stream",
          "text": [
            "<class 'pandas.core.frame.DataFrame'>\n",
            "Index: 569 entries, 0 to 585\n",
            "Data columns (total 8 columns):\n",
            " #   Column             Non-Null Count  Dtype  \n",
            "---  ------             --------------  -----  \n",
            " 0   category           569 non-null    object \n",
            " 1   name               569 non-null    object \n",
            " 2   glycemic_index     569 non-null    float64\n",
            " 3   glycemic_load      569 non-null    float64\n",
            " 4   calories (kcal)    569 non-null    float64\n",
            " 5   proteins (g)       569 non-null    float64\n",
            " 6   carbohydrates (g)  569 non-null    float64\n",
            " 7   fats (g)           569 non-null    float64\n",
            "dtypes: float64(6), object(2)\n",
            "memory usage: 40.0+ KB\n"
          ]
        }
      ],
      "source": [
        "df.info()"
      ]
    },
    {
      "cell_type": "markdown",
      "metadata": {
        "id": "Dn9b58nVyPxc"
      },
      "source": [
        "## Save Dataset"
      ]
    },
    {
      "cell_type": "code",
      "execution_count": 13,
      "metadata": {
        "id": "9M-8dTdOyRlw"
      },
      "outputs": [],
      "source": [
        "df.to_csv('nutrition food dataset - modified.csv', index=False)"
      ]
    }
  ],
  "metadata": {
    "colab": {
      "authorship_tag": "ABX9TyObDkBUvtNns1AFiCynFBg/",
      "provenance": []
    },
    "kernelspec": {
      "display_name": "Python 3",
      "name": "python3"
    },
    "language_info": {
      "codemirror_mode": {
        "name": "ipython",
        "version": 3
      },
      "file_extension": ".py",
      "mimetype": "text/x-python",
      "name": "python",
      "nbconvert_exporter": "python",
      "pygments_lexer": "ipython3",
      "version": "3.11.4"
    }
  },
  "nbformat": 4,
  "nbformat_minor": 0
}
