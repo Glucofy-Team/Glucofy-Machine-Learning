{
  "nbformat": 4,
  "nbformat_minor": 0,
  "metadata": {
    "colab": {
      "provenance": [],
      "authorship_tag": "ABX9TyObDkBUvtNns1AFiCynFBg/"
    },
    "kernelspec": {
      "name": "python3",
      "display_name": "Python 3"
    },
    "language_info": {
      "name": "python"
    }
  },
  "cells": [
    {
      "cell_type": "markdown",
      "source": [
        "## Import Library"
      ],
      "metadata": {
        "id": "KVJ1bz-KyJZj"
      }
    },
    {
      "cell_type": "code",
      "execution_count": null,
      "metadata": {
        "id": "PPZ3up2dPEjY"
      },
      "outputs": [],
      "source": [
        "import pandas as pd"
      ]
    },
    {
      "cell_type": "markdown",
      "source": [
        "## Gathering Data\n",
        "The dataset was collected using a web scraper from the Glycemic Index Guide [website](https://glycemic-index.net/)."
      ],
      "metadata": {
        "id": "MixwP27SyTBj"
      }
    },
    {
      "cell_type": "code",
      "source": [
        "!wget --no-check-certificate \\\n",
        "  https://raw.githubusercontent.com/Glucofy-Team/Glucofy-Machine-Learning/main/data/nutrition%20food%20dataset.csv \\\n",
        "  -O /content/food.csv"
      ],
      "metadata": {
        "colab": {
          "base_uri": "https://localhost:8080/"
        },
        "id": "6ire99SU-3Qi",
        "outputId": "d5df83e2-15af-45d0-dc0c-a2a93c7d7135"
      },
      "execution_count": null,
      "outputs": [
        {
          "output_type": "stream",
          "name": "stdout",
          "text": [
            "--2024-05-24 15:18:26--  https://raw.githubusercontent.com/Glucofy-Team/Glucofy-Machine-Learning/main/data/nutrition%20food%20dataset.csv\n",
            "Resolving raw.githubusercontent.com (raw.githubusercontent.com)... 185.199.111.133, 185.199.109.133, 185.199.108.133, ...\n",
            "Connecting to raw.githubusercontent.com (raw.githubusercontent.com)|185.199.111.133|:443... connected.\n",
            "HTTP request sent, awaiting response... 200 OK\n",
            "Length: 102371 (100K) [text/plain]\n",
            "Saving to: ‘/content/food.csv’\n",
            "\n",
            "/content/food.csv   100%[===================>]  99.97K  --.-KB/s    in 0.02s   \n",
            "\n",
            "2024-05-24 15:18:26 (4.07 MB/s) - ‘/content/food.csv’ saved [102371/102371]\n",
            "\n"
          ]
        }
      ]
    },
    {
      "cell_type": "code",
      "source": [
        "df = pd.read_csv('/content/food.csv')"
      ],
      "metadata": {
        "id": "n1A1VPiB_Thd"
      },
      "execution_count": null,
      "outputs": []
    },
    {
      "cell_type": "markdown",
      "source": [
        "## Assessing Data\n",
        "Check for missing values, duplicate data, and inaccurate values."
      ],
      "metadata": {
        "id": "XyqbfLkk1diA"
      }
    },
    {
      "cell_type": "code",
      "source": [
        "df.info()"
      ],
      "metadata": {
        "colab": {
          "base_uri": "https://localhost:8080/"
        },
        "id": "TtfOSRF6_btG",
        "outputId": "9a7a697a-a20e-46df-c743-8db8464bb402"
      },
      "execution_count": null,
      "outputs": [
        {
          "output_type": "stream",
          "name": "stdout",
          "text": [
            "<class 'pandas.core.frame.DataFrame'>\n",
            "RangeIndex: 586 entries, 0 to 585\n",
            "Data columns (total 11 columns):\n",
            " #   Column                 Non-Null Count  Dtype  \n",
            "---  ------                 --------------  -----  \n",
            " 0   web-scraper-order      586 non-null    object \n",
            " 1   web-scraper-start-url  586 non-null    object \n",
            " 2   category-href          586 non-null    object \n",
            " 3   category               586 non-null    object \n",
            " 4   name                   586 non-null    object \n",
            " 5   glycemic_index         586 non-null    int64  \n",
            " 6   glycemic_load          586 non-null    float64\n",
            " 7   calories (kcal)        586 non-null    int64  \n",
            " 8   proteins (g)           586 non-null    float64\n",
            " 9   carbohydrates (g)      586 non-null    float64\n",
            " 10  fats (g)               586 non-null    float64\n",
            "dtypes: float64(4), int64(2), object(5)\n",
            "memory usage: 50.5+ KB\n"
          ]
        }
      ]
    },
    {
      "cell_type": "code",
      "source": [
        "df.isna().sum()"
      ],
      "metadata": {
        "colab": {
          "base_uri": "https://localhost:8080/"
        },
        "id": "_FthJrNkLyl0",
        "outputId": "b18b87eb-b0a1-4bb3-d351-bd4801d1475d"
      },
      "execution_count": null,
      "outputs": [
        {
          "output_type": "execute_result",
          "data": {
            "text/plain": [
              "web-scraper-order        0\n",
              "web-scraper-start-url    0\n",
              "category-href            0\n",
              "category                 0\n",
              "name                     0\n",
              "glycemic_index           0\n",
              "glycemic_load            0\n",
              "calories (kcal)          0\n",
              "proteins (g)             0\n",
              "carbohydrates (g)        0\n",
              "fats (g)                 0\n",
              "dtype: int64"
            ]
          },
          "metadata": {},
          "execution_count": 5
        }
      ]
    },
    {
      "cell_type": "code",
      "source": [
        "df.duplicated().sum()"
      ],
      "metadata": {
        "colab": {
          "base_uri": "https://localhost:8080/"
        },
        "id": "NMBwnyXlL09Q",
        "outputId": "b05e18dd-fbbb-4ae5-a05f-f03d87a3674b"
      },
      "execution_count": null,
      "outputs": [
        {
          "output_type": "execute_result",
          "data": {
            "text/plain": [
              "0"
            ]
          },
          "metadata": {},
          "execution_count": 6
        }
      ]
    },
    {
      "cell_type": "code",
      "source": [
        "df.describe()"
      ],
      "metadata": {
        "colab": {
          "base_uri": "https://localhost:8080/",
          "height": 300
        },
        "id": "XMLzzO0AL289",
        "outputId": "6373f153-464b-4b79-d1df-8628357aaf66"
      },
      "execution_count": null,
      "outputs": [
        {
          "output_type": "execute_result",
          "data": {
            "text/plain": [
              "       glycemic_index  glycemic_load  calories (kcal)  proteins (g)  \\\n",
              "count      586.000000     586.000000       586.000000    586.000000   \n",
              "mean        41.298635      14.779181       217.597270      6.961792   \n",
              "std         24.131008      18.316097       180.102454      7.618162   \n",
              "min          0.000000       0.000000         2.000000      0.000000   \n",
              "25%         25.000000       1.600000        56.000000      1.125000   \n",
              "50%         40.000000       7.000000       187.000000      3.650000   \n",
              "75%         60.000000      22.175000       339.250000     10.075000   \n",
              "max        115.000000      95.000000       900.000000     46.000000   \n",
              "\n",
              "       carbohydrates (g)    fats (g)  \n",
              "count         586.000000  586.000000  \n",
              "mean           28.504522    8.719266  \n",
              "std            27.074133   16.960519  \n",
              "min             0.000000    0.000000  \n",
              "25%             6.025000    0.200000  \n",
              "50%            17.100000    1.450000  \n",
              "75%            52.775000    8.000000  \n",
              "max           100.000000  100.000000  "
            ],
            "text/html": [
              "\n",
              "  <div id=\"df-b54003eb-ebe1-4287-9d22-28bbe0783178\" class=\"colab-df-container\">\n",
              "    <div>\n",
              "<style scoped>\n",
              "    .dataframe tbody tr th:only-of-type {\n",
              "        vertical-align: middle;\n",
              "    }\n",
              "\n",
              "    .dataframe tbody tr th {\n",
              "        vertical-align: top;\n",
              "    }\n",
              "\n",
              "    .dataframe thead th {\n",
              "        text-align: right;\n",
              "    }\n",
              "</style>\n",
              "<table border=\"1\" class=\"dataframe\">\n",
              "  <thead>\n",
              "    <tr style=\"text-align: right;\">\n",
              "      <th></th>\n",
              "      <th>glycemic_index</th>\n",
              "      <th>glycemic_load</th>\n",
              "      <th>calories (kcal)</th>\n",
              "      <th>proteins (g)</th>\n",
              "      <th>carbohydrates (g)</th>\n",
              "      <th>fats (g)</th>\n",
              "    </tr>\n",
              "  </thead>\n",
              "  <tbody>\n",
              "    <tr>\n",
              "      <th>count</th>\n",
              "      <td>586.000000</td>\n",
              "      <td>586.000000</td>\n",
              "      <td>586.000000</td>\n",
              "      <td>586.000000</td>\n",
              "      <td>586.000000</td>\n",
              "      <td>586.000000</td>\n",
              "    </tr>\n",
              "    <tr>\n",
              "      <th>mean</th>\n",
              "      <td>41.298635</td>\n",
              "      <td>14.779181</td>\n",
              "      <td>217.597270</td>\n",
              "      <td>6.961792</td>\n",
              "      <td>28.504522</td>\n",
              "      <td>8.719266</td>\n",
              "    </tr>\n",
              "    <tr>\n",
              "      <th>std</th>\n",
              "      <td>24.131008</td>\n",
              "      <td>18.316097</td>\n",
              "      <td>180.102454</td>\n",
              "      <td>7.618162</td>\n",
              "      <td>27.074133</td>\n",
              "      <td>16.960519</td>\n",
              "    </tr>\n",
              "    <tr>\n",
              "      <th>min</th>\n",
              "      <td>0.000000</td>\n",
              "      <td>0.000000</td>\n",
              "      <td>2.000000</td>\n",
              "      <td>0.000000</td>\n",
              "      <td>0.000000</td>\n",
              "      <td>0.000000</td>\n",
              "    </tr>\n",
              "    <tr>\n",
              "      <th>25%</th>\n",
              "      <td>25.000000</td>\n",
              "      <td>1.600000</td>\n",
              "      <td>56.000000</td>\n",
              "      <td>1.125000</td>\n",
              "      <td>6.025000</td>\n",
              "      <td>0.200000</td>\n",
              "    </tr>\n",
              "    <tr>\n",
              "      <th>50%</th>\n",
              "      <td>40.000000</td>\n",
              "      <td>7.000000</td>\n",
              "      <td>187.000000</td>\n",
              "      <td>3.650000</td>\n",
              "      <td>17.100000</td>\n",
              "      <td>1.450000</td>\n",
              "    </tr>\n",
              "    <tr>\n",
              "      <th>75%</th>\n",
              "      <td>60.000000</td>\n",
              "      <td>22.175000</td>\n",
              "      <td>339.250000</td>\n",
              "      <td>10.075000</td>\n",
              "      <td>52.775000</td>\n",
              "      <td>8.000000</td>\n",
              "    </tr>\n",
              "    <tr>\n",
              "      <th>max</th>\n",
              "      <td>115.000000</td>\n",
              "      <td>95.000000</td>\n",
              "      <td>900.000000</td>\n",
              "      <td>46.000000</td>\n",
              "      <td>100.000000</td>\n",
              "      <td>100.000000</td>\n",
              "    </tr>\n",
              "  </tbody>\n",
              "</table>\n",
              "</div>\n",
              "    <div class=\"colab-df-buttons\">\n",
              "\n",
              "  <div class=\"colab-df-container\">\n",
              "    <button class=\"colab-df-convert\" onclick=\"convertToInteractive('df-b54003eb-ebe1-4287-9d22-28bbe0783178')\"\n",
              "            title=\"Convert this dataframe to an interactive table.\"\n",
              "            style=\"display:none;\">\n",
              "\n",
              "  <svg xmlns=\"http://www.w3.org/2000/svg\" height=\"24px\" viewBox=\"0 -960 960 960\">\n",
              "    <path d=\"M120-120v-720h720v720H120Zm60-500h600v-160H180v160Zm220 220h160v-160H400v160Zm0 220h160v-160H400v160ZM180-400h160v-160H180v160Zm440 0h160v-160H620v160ZM180-180h160v-160H180v160Zm440 0h160v-160H620v160Z\"/>\n",
              "  </svg>\n",
              "    </button>\n",
              "\n",
              "  <style>\n",
              "    .colab-df-container {\n",
              "      display:flex;\n",
              "      gap: 12px;\n",
              "    }\n",
              "\n",
              "    .colab-df-convert {\n",
              "      background-color: #E8F0FE;\n",
              "      border: none;\n",
              "      border-radius: 50%;\n",
              "      cursor: pointer;\n",
              "      display: none;\n",
              "      fill: #1967D2;\n",
              "      height: 32px;\n",
              "      padding: 0 0 0 0;\n",
              "      width: 32px;\n",
              "    }\n",
              "\n",
              "    .colab-df-convert:hover {\n",
              "      background-color: #E2EBFA;\n",
              "      box-shadow: 0px 1px 2px rgba(60, 64, 67, 0.3), 0px 1px 3px 1px rgba(60, 64, 67, 0.15);\n",
              "      fill: #174EA6;\n",
              "    }\n",
              "\n",
              "    .colab-df-buttons div {\n",
              "      margin-bottom: 4px;\n",
              "    }\n",
              "\n",
              "    [theme=dark] .colab-df-convert {\n",
              "      background-color: #3B4455;\n",
              "      fill: #D2E3FC;\n",
              "    }\n",
              "\n",
              "    [theme=dark] .colab-df-convert:hover {\n",
              "      background-color: #434B5C;\n",
              "      box-shadow: 0px 1px 3px 1px rgba(0, 0, 0, 0.15);\n",
              "      filter: drop-shadow(0px 1px 2px rgba(0, 0, 0, 0.3));\n",
              "      fill: #FFFFFF;\n",
              "    }\n",
              "  </style>\n",
              "\n",
              "    <script>\n",
              "      const buttonEl =\n",
              "        document.querySelector('#df-b54003eb-ebe1-4287-9d22-28bbe0783178 button.colab-df-convert');\n",
              "      buttonEl.style.display =\n",
              "        google.colab.kernel.accessAllowed ? 'block' : 'none';\n",
              "\n",
              "      async function convertToInteractive(key) {\n",
              "        const element = document.querySelector('#df-b54003eb-ebe1-4287-9d22-28bbe0783178');\n",
              "        const dataTable =\n",
              "          await google.colab.kernel.invokeFunction('convertToInteractive',\n",
              "                                                    [key], {});\n",
              "        if (!dataTable) return;\n",
              "\n",
              "        const docLinkHtml = 'Like what you see? Visit the ' +\n",
              "          '<a target=\"_blank\" href=https://colab.research.google.com/notebooks/data_table.ipynb>data table notebook</a>'\n",
              "          + ' to learn more about interactive tables.';\n",
              "        element.innerHTML = '';\n",
              "        dataTable['output_type'] = 'display_data';\n",
              "        await google.colab.output.renderOutput(dataTable, element);\n",
              "        const docLink = document.createElement('div');\n",
              "        docLink.innerHTML = docLinkHtml;\n",
              "        element.appendChild(docLink);\n",
              "      }\n",
              "    </script>\n",
              "  </div>\n",
              "\n",
              "\n",
              "<div id=\"df-d1396dbf-07e4-4ea5-9816-7635da198339\">\n",
              "  <button class=\"colab-df-quickchart\" onclick=\"quickchart('df-d1396dbf-07e4-4ea5-9816-7635da198339')\"\n",
              "            title=\"Suggest charts\"\n",
              "            style=\"display:none;\">\n",
              "\n",
              "<svg xmlns=\"http://www.w3.org/2000/svg\" height=\"24px\"viewBox=\"0 0 24 24\"\n",
              "     width=\"24px\">\n",
              "    <g>\n",
              "        <path d=\"M19 3H5c-1.1 0-2 .9-2 2v14c0 1.1.9 2 2 2h14c1.1 0 2-.9 2-2V5c0-1.1-.9-2-2-2zM9 17H7v-7h2v7zm4 0h-2V7h2v10zm4 0h-2v-4h2v4z\"/>\n",
              "    </g>\n",
              "</svg>\n",
              "  </button>\n",
              "\n",
              "<style>\n",
              "  .colab-df-quickchart {\n",
              "      --bg-color: #E8F0FE;\n",
              "      --fill-color: #1967D2;\n",
              "      --hover-bg-color: #E2EBFA;\n",
              "      --hover-fill-color: #174EA6;\n",
              "      --disabled-fill-color: #AAA;\n",
              "      --disabled-bg-color: #DDD;\n",
              "  }\n",
              "\n",
              "  [theme=dark] .colab-df-quickchart {\n",
              "      --bg-color: #3B4455;\n",
              "      --fill-color: #D2E3FC;\n",
              "      --hover-bg-color: #434B5C;\n",
              "      --hover-fill-color: #FFFFFF;\n",
              "      --disabled-bg-color: #3B4455;\n",
              "      --disabled-fill-color: #666;\n",
              "  }\n",
              "\n",
              "  .colab-df-quickchart {\n",
              "    background-color: var(--bg-color);\n",
              "    border: none;\n",
              "    border-radius: 50%;\n",
              "    cursor: pointer;\n",
              "    display: none;\n",
              "    fill: var(--fill-color);\n",
              "    height: 32px;\n",
              "    padding: 0;\n",
              "    width: 32px;\n",
              "  }\n",
              "\n",
              "  .colab-df-quickchart:hover {\n",
              "    background-color: var(--hover-bg-color);\n",
              "    box-shadow: 0 1px 2px rgba(60, 64, 67, 0.3), 0 1px 3px 1px rgba(60, 64, 67, 0.15);\n",
              "    fill: var(--button-hover-fill-color);\n",
              "  }\n",
              "\n",
              "  .colab-df-quickchart-complete:disabled,\n",
              "  .colab-df-quickchart-complete:disabled:hover {\n",
              "    background-color: var(--disabled-bg-color);\n",
              "    fill: var(--disabled-fill-color);\n",
              "    box-shadow: none;\n",
              "  }\n",
              "\n",
              "  .colab-df-spinner {\n",
              "    border: 2px solid var(--fill-color);\n",
              "    border-color: transparent;\n",
              "    border-bottom-color: var(--fill-color);\n",
              "    animation:\n",
              "      spin 1s steps(1) infinite;\n",
              "  }\n",
              "\n",
              "  @keyframes spin {\n",
              "    0% {\n",
              "      border-color: transparent;\n",
              "      border-bottom-color: var(--fill-color);\n",
              "      border-left-color: var(--fill-color);\n",
              "    }\n",
              "    20% {\n",
              "      border-color: transparent;\n",
              "      border-left-color: var(--fill-color);\n",
              "      border-top-color: var(--fill-color);\n",
              "    }\n",
              "    30% {\n",
              "      border-color: transparent;\n",
              "      border-left-color: var(--fill-color);\n",
              "      border-top-color: var(--fill-color);\n",
              "      border-right-color: var(--fill-color);\n",
              "    }\n",
              "    40% {\n",
              "      border-color: transparent;\n",
              "      border-right-color: var(--fill-color);\n",
              "      border-top-color: var(--fill-color);\n",
              "    }\n",
              "    60% {\n",
              "      border-color: transparent;\n",
              "      border-right-color: var(--fill-color);\n",
              "    }\n",
              "    80% {\n",
              "      border-color: transparent;\n",
              "      border-right-color: var(--fill-color);\n",
              "      border-bottom-color: var(--fill-color);\n",
              "    }\n",
              "    90% {\n",
              "      border-color: transparent;\n",
              "      border-bottom-color: var(--fill-color);\n",
              "    }\n",
              "  }\n",
              "</style>\n",
              "\n",
              "  <script>\n",
              "    async function quickchart(key) {\n",
              "      const quickchartButtonEl =\n",
              "        document.querySelector('#' + key + ' button');\n",
              "      quickchartButtonEl.disabled = true;  // To prevent multiple clicks.\n",
              "      quickchartButtonEl.classList.add('colab-df-spinner');\n",
              "      try {\n",
              "        const charts = await google.colab.kernel.invokeFunction(\n",
              "            'suggestCharts', [key], {});\n",
              "      } catch (error) {\n",
              "        console.error('Error during call to suggestCharts:', error);\n",
              "      }\n",
              "      quickchartButtonEl.classList.remove('colab-df-spinner');\n",
              "      quickchartButtonEl.classList.add('colab-df-quickchart-complete');\n",
              "    }\n",
              "    (() => {\n",
              "      let quickchartButtonEl =\n",
              "        document.querySelector('#df-d1396dbf-07e4-4ea5-9816-7635da198339 button');\n",
              "      quickchartButtonEl.style.display =\n",
              "        google.colab.kernel.accessAllowed ? 'block' : 'none';\n",
              "    })();\n",
              "  </script>\n",
              "</div>\n",
              "    </div>\n",
              "  </div>\n"
            ],
            "application/vnd.google.colaboratory.intrinsic+json": {
              "type": "dataframe",
              "summary": "{\n  \"name\": \"df\",\n  \"rows\": 8,\n  \"fields\": [\n    {\n      \"column\": \"glycemic_index\",\n      \"properties\": {\n        \"dtype\": \"number\",\n        \"std\": 194.7170224460872,\n        \"min\": 0.0,\n        \"max\": 586.0,\n        \"num_unique_values\": 8,\n        \"samples\": [\n          41.29863481228669,\n          40.0,\n          586.0\n        ],\n        \"semantic_type\": \"\",\n        \"description\": \"\"\n      }\n    },\n    {\n      \"column\": \"glycemic_load\",\n      \"properties\": {\n        \"dtype\": \"number\",\n        \"std\": 201.4817354079299,\n        \"min\": 0.0,\n        \"max\": 586.0,\n        \"num_unique_values\": 8,\n        \"samples\": [\n          14.779180887372014,\n          7.0,\n          586.0\n        ],\n        \"semantic_type\": \"\",\n        \"description\": \"\"\n      }\n    },\n    {\n      \"column\": \"calories (kcal)\",\n      \"properties\": {\n        \"dtype\": \"number\",\n        \"std\": 298.81529134457645,\n        \"min\": 2.0,\n        \"max\": 900.0,\n        \"num_unique_values\": 8,\n        \"samples\": [\n          217.59726962457339,\n          187.0,\n          586.0\n        ],\n        \"semantic_type\": \"\",\n        \"description\": \"\"\n      }\n    },\n    {\n      \"column\": \"proteins (g)\",\n      \"properties\": {\n        \"dtype\": \"number\",\n        \"std\": 203.90768175855604,\n        \"min\": 0.0,\n        \"max\": 586.0,\n        \"num_unique_values\": 8,\n        \"samples\": [\n          6.96179180887372,\n          3.6500000000000004,\n          586.0\n        ],\n        \"semantic_type\": \"\",\n        \"description\": \"\"\n      }\n    },\n    {\n      \"column\": \"carbohydrates (g)\",\n      \"properties\": {\n        \"dtype\": \"number\",\n        \"std\": 198.03373041902842,\n        \"min\": 0.0,\n        \"max\": 586.0,\n        \"num_unique_values\": 8,\n        \"samples\": [\n          28.504522184300345,\n          17.1,\n          586.0\n        ],\n        \"semantic_type\": \"\",\n        \"description\": \"\"\n      }\n    },\n    {\n      \"column\": \"fats (g)\",\n      \"properties\": {\n        \"dtype\": \"number\",\n        \"std\": 203.1137066841269,\n        \"min\": 0.0,\n        \"max\": 586.0,\n        \"num_unique_values\": 8,\n        \"samples\": [\n          8.719266211604097,\n          1.45,\n          586.0\n        ],\n        \"semantic_type\": \"\",\n        \"description\": \"\"\n      }\n    }\n  ]\n}"
            }
          },
          "metadata": {},
          "execution_count": 7
        }
      ]
    },
    {
      "cell_type": "markdown",
      "source": [
        "## Cleaning Data"
      ],
      "metadata": {
        "id": "bytFi88hQsND"
      }
    },
    {
      "cell_type": "markdown",
      "source": [
        "- Drop unnecessary columns."
      ],
      "metadata": {
        "id": "79C_kCMXQt2C"
      }
    },
    {
      "cell_type": "code",
      "source": [
        "col = ['web-scraper-order', 'web-scraper-start-url', 'category-href']\n",
        "\n",
        "df.drop(columns=col, inplace=True)"
      ],
      "metadata": {
        "id": "J0z2VAKGQ2Hj"
      },
      "execution_count": null,
      "outputs": []
    },
    {
      "cell_type": "code",
      "source": [
        "df.info()"
      ],
      "metadata": {
        "colab": {
          "base_uri": "https://localhost:8080/"
        },
        "id": "6kR4z-3URgTZ",
        "outputId": "f7849ccf-a8f7-471c-9048-7a4d2619df3e"
      },
      "execution_count": null,
      "outputs": [
        {
          "output_type": "stream",
          "name": "stdout",
          "text": [
            "<class 'pandas.core.frame.DataFrame'>\n",
            "RangeIndex: 586 entries, 0 to 585\n",
            "Data columns (total 8 columns):\n",
            " #   Column             Non-Null Count  Dtype  \n",
            "---  ------             --------------  -----  \n",
            " 0   category           586 non-null    object \n",
            " 1   name               586 non-null    object \n",
            " 2   glycemic_index     586 non-null    int64  \n",
            " 3   glycemic_load      586 non-null    float64\n",
            " 4   calories (kcal)    586 non-null    int64  \n",
            " 5   proteins (g)       586 non-null    float64\n",
            " 6   carbohydrates (g)  586 non-null    float64\n",
            " 7   fats (g)           586 non-null    float64\n",
            "dtypes: float64(4), int64(2), object(2)\n",
            "memory usage: 36.8+ KB\n"
          ]
        }
      ]
    },
    {
      "cell_type": "markdown",
      "source": [
        "- Change the data type of the numeric columns to `float64`."
      ],
      "metadata": {
        "id": "9ZdeRvh-RlUB"
      }
    },
    {
      "cell_type": "code",
      "source": [
        "col = ['glycemic_index', 'calories (kcal)']\n",
        "\n",
        "df[col] = df[col].astype('float64')"
      ],
      "metadata": {
        "id": "SXiwXTX8Rk4L"
      },
      "execution_count": null,
      "outputs": []
    },
    {
      "cell_type": "code",
      "source": [
        "df.info()"
      ],
      "metadata": {
        "colab": {
          "base_uri": "https://localhost:8080/"
        },
        "id": "YjuheL-iSsaJ",
        "outputId": "f83938e8-5fb3-401c-e5e6-c2b60fc391e7"
      },
      "execution_count": null,
      "outputs": [
        {
          "output_type": "stream",
          "name": "stdout",
          "text": [
            "<class 'pandas.core.frame.DataFrame'>\n",
            "RangeIndex: 586 entries, 0 to 585\n",
            "Data columns (total 8 columns):\n",
            " #   Column             Non-Null Count  Dtype  \n",
            "---  ------             --------------  -----  \n",
            " 0   category           586 non-null    object \n",
            " 1   name               586 non-null    object \n",
            " 2   glycemic_index     586 non-null    float64\n",
            " 3   glycemic_load      586 non-null    float64\n",
            " 4   calories (kcal)    586 non-null    float64\n",
            " 5   proteins (g)       586 non-null    float64\n",
            " 6   carbohydrates (g)  586 non-null    float64\n",
            " 7   fats (g)           586 non-null    float64\n",
            "dtypes: float64(6), object(2)\n",
            "memory usage: 36.8+ KB\n"
          ]
        }
      ]
    },
    {
      "cell_type": "markdown",
      "source": [
        "## Save Dataset"
      ],
      "metadata": {
        "id": "Dn9b58nVyPxc"
      }
    },
    {
      "cell_type": "code",
      "source": [
        "df.to_csv('(modified) nutrition food dataset.csv', index=False)"
      ],
      "metadata": {
        "id": "9M-8dTdOyRlw"
      },
      "execution_count": null,
      "outputs": []
    }
  ]
}