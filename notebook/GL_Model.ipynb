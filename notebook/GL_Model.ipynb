{
  "cells": [
    {
      "cell_type": "markdown",
      "source": [
        "### Import Library"
      ],
      "metadata": {
        "id": "Qe0JbgdhbShw"
      },
      "id": "Qe0JbgdhbShw"
    },
    {
      "cell_type": "code",
      "source": [
        "import numpy as np\n",
        "import pandas as pd\n",
        "import seaborn as sns\n",
        "import matplotlib.pyplot as plt\n",
        "import tensorflow as tf\n",
        "\n",
        "from keras.callbacks import EarlyStopping\n",
        "from sklearn import metrics\n",
        "from sklearn.preprocessing import LabelEncoder, StandardScaler, OneHotEncoder\n",
        "from sklearn.model_selection import train_test_split"
      ],
      "metadata": {
        "id": "yJnWbX2_iwQQ"
      },
      "id": "yJnWbX2_iwQQ",
      "execution_count": null,
      "outputs": []
    },
    {
      "cell_type": "markdown",
      "source": [
        "### Load Data"
      ],
      "metadata": {
        "id": "BXctRKGVbVPN"
      },
      "id": "BXctRKGVbVPN"
    },
    {
      "cell_type": "code",
      "source": [
        "data = pd.read_csv('https://raw.githubusercontent.com/Glucofy-Team/Glucofy-Machine-Learning/main/data/nutrition%20food%20dataset%20-%20modified.csv')\n",
        "data"
      ],
      "metadata": {
        "id": "Bqs4xLqazoTX",
        "colab": {
          "base_uri": "https://localhost:8080/",
          "height": 423
        },
        "outputId": "c534ab02-e340-4dde-c866-ac6cd41f86ea"
      },
      "id": "Bqs4xLqazoTX",
      "execution_count": null,
      "outputs": [
        {
          "output_type": "execute_result",
          "data": {
            "text/plain": [
              "         category               name  glycemic_index  glycemic_load  \\\n",
              "0         Lainnya               Ragi            35.0            6.3   \n",
              "1         Lainnya           Ragi bir            35.0            0.0   \n",
              "2         Lainnya      Maltodekstrin            95.0           94.0   \n",
              "3         Lainnya          Palm pulp            20.0            1.2   \n",
              "4         Lainnya        Telur dadar            49.0            7.3   \n",
              "..            ...                ...             ...            ...   \n",
              "564  Kue dan roti  Roti Pumpernickel            45.0           21.6   \n",
              "565  Kue dan roti         Roti Beras            70.0           48.0   \n",
              "566  Kue dan roti         Roti dedak            65.0           29.4   \n",
              "567  Kue dan roti          Roti labu            40.0           17.0   \n",
              "568  Kue dan roti          Roti buah            47.0           24.4   \n",
              "\n",
              "     calories (kcal)  proteins (g)  carbohydrates (g)  fats (g)  \n",
              "0              105.0           8.0               18.0       1.9  \n",
              "1               75.0          12.7                0.0       2.7  \n",
              "2              380.0           0.0               99.0       0.0  \n",
              "3              354.0           3.4                6.2      33.5  \n",
              "4              210.0          14.0               15.0       2.1  \n",
              "..               ...           ...                ...       ...  \n",
              "564            250.0           9.0               48.0       3.1  \n",
              "565            306.0           6.3               68.6       0.7  \n",
              "566            227.0           7.0               45.2       1.3  \n",
              "567            211.0           5.5               42.6       2.4  \n",
              "568            370.0           7.6               52.0       7.4  \n",
              "\n",
              "[569 rows x 8 columns]"
            ],
            "text/html": [
              "\n",
              "  <div id=\"df-8209de3c-23bd-48c4-8f9d-e92d39899610\" class=\"colab-df-container\">\n",
              "    <div>\n",
              "<style scoped>\n",
              "    .dataframe tbody tr th:only-of-type {\n",
              "        vertical-align: middle;\n",
              "    }\n",
              "\n",
              "    .dataframe tbody tr th {\n",
              "        vertical-align: top;\n",
              "    }\n",
              "\n",
              "    .dataframe thead th {\n",
              "        text-align: right;\n",
              "    }\n",
              "</style>\n",
              "<table border=\"1\" class=\"dataframe\">\n",
              "  <thead>\n",
              "    <tr style=\"text-align: right;\">\n",
              "      <th></th>\n",
              "      <th>category</th>\n",
              "      <th>name</th>\n",
              "      <th>glycemic_index</th>\n",
              "      <th>glycemic_load</th>\n",
              "      <th>calories (kcal)</th>\n",
              "      <th>proteins (g)</th>\n",
              "      <th>carbohydrates (g)</th>\n",
              "      <th>fats (g)</th>\n",
              "    </tr>\n",
              "  </thead>\n",
              "  <tbody>\n",
              "    <tr>\n",
              "      <th>0</th>\n",
              "      <td>Lainnya</td>\n",
              "      <td>Ragi</td>\n",
              "      <td>35.0</td>\n",
              "      <td>6.3</td>\n",
              "      <td>105.0</td>\n",
              "      <td>8.0</td>\n",
              "      <td>18.0</td>\n",
              "      <td>1.9</td>\n",
              "    </tr>\n",
              "    <tr>\n",
              "      <th>1</th>\n",
              "      <td>Lainnya</td>\n",
              "      <td>Ragi bir</td>\n",
              "      <td>35.0</td>\n",
              "      <td>0.0</td>\n",
              "      <td>75.0</td>\n",
              "      <td>12.7</td>\n",
              "      <td>0.0</td>\n",
              "      <td>2.7</td>\n",
              "    </tr>\n",
              "    <tr>\n",
              "      <th>2</th>\n",
              "      <td>Lainnya</td>\n",
              "      <td>Maltodekstrin</td>\n",
              "      <td>95.0</td>\n",
              "      <td>94.0</td>\n",
              "      <td>380.0</td>\n",
              "      <td>0.0</td>\n",
              "      <td>99.0</td>\n",
              "      <td>0.0</td>\n",
              "    </tr>\n",
              "    <tr>\n",
              "      <th>3</th>\n",
              "      <td>Lainnya</td>\n",
              "      <td>Palm pulp</td>\n",
              "      <td>20.0</td>\n",
              "      <td>1.2</td>\n",
              "      <td>354.0</td>\n",
              "      <td>3.4</td>\n",
              "      <td>6.2</td>\n",
              "      <td>33.5</td>\n",
              "    </tr>\n",
              "    <tr>\n",
              "      <th>4</th>\n",
              "      <td>Lainnya</td>\n",
              "      <td>Telur dadar</td>\n",
              "      <td>49.0</td>\n",
              "      <td>7.3</td>\n",
              "      <td>210.0</td>\n",
              "      <td>14.0</td>\n",
              "      <td>15.0</td>\n",
              "      <td>2.1</td>\n",
              "    </tr>\n",
              "    <tr>\n",
              "      <th>...</th>\n",
              "      <td>...</td>\n",
              "      <td>...</td>\n",
              "      <td>...</td>\n",
              "      <td>...</td>\n",
              "      <td>...</td>\n",
              "      <td>...</td>\n",
              "      <td>...</td>\n",
              "      <td>...</td>\n",
              "    </tr>\n",
              "    <tr>\n",
              "      <th>564</th>\n",
              "      <td>Kue dan roti</td>\n",
              "      <td>Roti Pumpernickel</td>\n",
              "      <td>45.0</td>\n",
              "      <td>21.6</td>\n",
              "      <td>250.0</td>\n",
              "      <td>9.0</td>\n",
              "      <td>48.0</td>\n",
              "      <td>3.1</td>\n",
              "    </tr>\n",
              "    <tr>\n",
              "      <th>565</th>\n",
              "      <td>Kue dan roti</td>\n",
              "      <td>Roti Beras</td>\n",
              "      <td>70.0</td>\n",
              "      <td>48.0</td>\n",
              "      <td>306.0</td>\n",
              "      <td>6.3</td>\n",
              "      <td>68.6</td>\n",
              "      <td>0.7</td>\n",
              "    </tr>\n",
              "    <tr>\n",
              "      <th>566</th>\n",
              "      <td>Kue dan roti</td>\n",
              "      <td>Roti dedak</td>\n",
              "      <td>65.0</td>\n",
              "      <td>29.4</td>\n",
              "      <td>227.0</td>\n",
              "      <td>7.0</td>\n",
              "      <td>45.2</td>\n",
              "      <td>1.3</td>\n",
              "    </tr>\n",
              "    <tr>\n",
              "      <th>567</th>\n",
              "      <td>Kue dan roti</td>\n",
              "      <td>Roti labu</td>\n",
              "      <td>40.0</td>\n",
              "      <td>17.0</td>\n",
              "      <td>211.0</td>\n",
              "      <td>5.5</td>\n",
              "      <td>42.6</td>\n",
              "      <td>2.4</td>\n",
              "    </tr>\n",
              "    <tr>\n",
              "      <th>568</th>\n",
              "      <td>Kue dan roti</td>\n",
              "      <td>Roti buah</td>\n",
              "      <td>47.0</td>\n",
              "      <td>24.4</td>\n",
              "      <td>370.0</td>\n",
              "      <td>7.6</td>\n",
              "      <td>52.0</td>\n",
              "      <td>7.4</td>\n",
              "    </tr>\n",
              "  </tbody>\n",
              "</table>\n",
              "<p>569 rows × 8 columns</p>\n",
              "</div>\n",
              "    <div class=\"colab-df-buttons\">\n",
              "\n",
              "  <div class=\"colab-df-container\">\n",
              "    <button class=\"colab-df-convert\" onclick=\"convertToInteractive('df-8209de3c-23bd-48c4-8f9d-e92d39899610')\"\n",
              "            title=\"Convert this dataframe to an interactive table.\"\n",
              "            style=\"display:none;\">\n",
              "\n",
              "  <svg xmlns=\"http://www.w3.org/2000/svg\" height=\"24px\" viewBox=\"0 -960 960 960\">\n",
              "    <path d=\"M120-120v-720h720v720H120Zm60-500h600v-160H180v160Zm220 220h160v-160H400v160Zm0 220h160v-160H400v160ZM180-400h160v-160H180v160Zm440 0h160v-160H620v160ZM180-180h160v-160H180v160Zm440 0h160v-160H620v160Z\"/>\n",
              "  </svg>\n",
              "    </button>\n",
              "\n",
              "  <style>\n",
              "    .colab-df-container {\n",
              "      display:flex;\n",
              "      gap: 12px;\n",
              "    }\n",
              "\n",
              "    .colab-df-convert {\n",
              "      background-color: #E8F0FE;\n",
              "      border: none;\n",
              "      border-radius: 50%;\n",
              "      cursor: pointer;\n",
              "      display: none;\n",
              "      fill: #1967D2;\n",
              "      height: 32px;\n",
              "      padding: 0 0 0 0;\n",
              "      width: 32px;\n",
              "    }\n",
              "\n",
              "    .colab-df-convert:hover {\n",
              "      background-color: #E2EBFA;\n",
              "      box-shadow: 0px 1px 2px rgba(60, 64, 67, 0.3), 0px 1px 3px 1px rgba(60, 64, 67, 0.15);\n",
              "      fill: #174EA6;\n",
              "    }\n",
              "\n",
              "    .colab-df-buttons div {\n",
              "      margin-bottom: 4px;\n",
              "    }\n",
              "\n",
              "    [theme=dark] .colab-df-convert {\n",
              "      background-color: #3B4455;\n",
              "      fill: #D2E3FC;\n",
              "    }\n",
              "\n",
              "    [theme=dark] .colab-df-convert:hover {\n",
              "      background-color: #434B5C;\n",
              "      box-shadow: 0px 1px 3px 1px rgba(0, 0, 0, 0.15);\n",
              "      filter: drop-shadow(0px 1px 2px rgba(0, 0, 0, 0.3));\n",
              "      fill: #FFFFFF;\n",
              "    }\n",
              "  </style>\n",
              "\n",
              "    <script>\n",
              "      const buttonEl =\n",
              "        document.querySelector('#df-8209de3c-23bd-48c4-8f9d-e92d39899610 button.colab-df-convert');\n",
              "      buttonEl.style.display =\n",
              "        google.colab.kernel.accessAllowed ? 'block' : 'none';\n",
              "\n",
              "      async function convertToInteractive(key) {\n",
              "        const element = document.querySelector('#df-8209de3c-23bd-48c4-8f9d-e92d39899610');\n",
              "        const dataTable =\n",
              "          await google.colab.kernel.invokeFunction('convertToInteractive',\n",
              "                                                    [key], {});\n",
              "        if (!dataTable) return;\n",
              "\n",
              "        const docLinkHtml = 'Like what you see? Visit the ' +\n",
              "          '<a target=\"_blank\" href=https://colab.research.google.com/notebooks/data_table.ipynb>data table notebook</a>'\n",
              "          + ' to learn more about interactive tables.';\n",
              "        element.innerHTML = '';\n",
              "        dataTable['output_type'] = 'display_data';\n",
              "        await google.colab.output.renderOutput(dataTable, element);\n",
              "        const docLink = document.createElement('div');\n",
              "        docLink.innerHTML = docLinkHtml;\n",
              "        element.appendChild(docLink);\n",
              "      }\n",
              "    </script>\n",
              "  </div>\n",
              "\n",
              "\n",
              "<div id=\"df-29e0a842-12a6-4cfd-912a-97a08799c5f9\">\n",
              "  <button class=\"colab-df-quickchart\" onclick=\"quickchart('df-29e0a842-12a6-4cfd-912a-97a08799c5f9')\"\n",
              "            title=\"Suggest charts\"\n",
              "            style=\"display:none;\">\n",
              "\n",
              "<svg xmlns=\"http://www.w3.org/2000/svg\" height=\"24px\"viewBox=\"0 0 24 24\"\n",
              "     width=\"24px\">\n",
              "    <g>\n",
              "        <path d=\"M19 3H5c-1.1 0-2 .9-2 2v14c0 1.1.9 2 2 2h14c1.1 0 2-.9 2-2V5c0-1.1-.9-2-2-2zM9 17H7v-7h2v7zm4 0h-2V7h2v10zm4 0h-2v-4h2v4z\"/>\n",
              "    </g>\n",
              "</svg>\n",
              "  </button>\n",
              "\n",
              "<style>\n",
              "  .colab-df-quickchart {\n",
              "      --bg-color: #E8F0FE;\n",
              "      --fill-color: #1967D2;\n",
              "      --hover-bg-color: #E2EBFA;\n",
              "      --hover-fill-color: #174EA6;\n",
              "      --disabled-fill-color: #AAA;\n",
              "      --disabled-bg-color: #DDD;\n",
              "  }\n",
              "\n",
              "  [theme=dark] .colab-df-quickchart {\n",
              "      --bg-color: #3B4455;\n",
              "      --fill-color: #D2E3FC;\n",
              "      --hover-bg-color: #434B5C;\n",
              "      --hover-fill-color: #FFFFFF;\n",
              "      --disabled-bg-color: #3B4455;\n",
              "      --disabled-fill-color: #666;\n",
              "  }\n",
              "\n",
              "  .colab-df-quickchart {\n",
              "    background-color: var(--bg-color);\n",
              "    border: none;\n",
              "    border-radius: 50%;\n",
              "    cursor: pointer;\n",
              "    display: none;\n",
              "    fill: var(--fill-color);\n",
              "    height: 32px;\n",
              "    padding: 0;\n",
              "    width: 32px;\n",
              "  }\n",
              "\n",
              "  .colab-df-quickchart:hover {\n",
              "    background-color: var(--hover-bg-color);\n",
              "    box-shadow: 0 1px 2px rgba(60, 64, 67, 0.3), 0 1px 3px 1px rgba(60, 64, 67, 0.15);\n",
              "    fill: var(--button-hover-fill-color);\n",
              "  }\n",
              "\n",
              "  .colab-df-quickchart-complete:disabled,\n",
              "  .colab-df-quickchart-complete:disabled:hover {\n",
              "    background-color: var(--disabled-bg-color);\n",
              "    fill: var(--disabled-fill-color);\n",
              "    box-shadow: none;\n",
              "  }\n",
              "\n",
              "  .colab-df-spinner {\n",
              "    border: 2px solid var(--fill-color);\n",
              "    border-color: transparent;\n",
              "    border-bottom-color: var(--fill-color);\n",
              "    animation:\n",
              "      spin 1s steps(1) infinite;\n",
              "  }\n",
              "\n",
              "  @keyframes spin {\n",
              "    0% {\n",
              "      border-color: transparent;\n",
              "      border-bottom-color: var(--fill-color);\n",
              "      border-left-color: var(--fill-color);\n",
              "    }\n",
              "    20% {\n",
              "      border-color: transparent;\n",
              "      border-left-color: var(--fill-color);\n",
              "      border-top-color: var(--fill-color);\n",
              "    }\n",
              "    30% {\n",
              "      border-color: transparent;\n",
              "      border-left-color: var(--fill-color);\n",
              "      border-top-color: var(--fill-color);\n",
              "      border-right-color: var(--fill-color);\n",
              "    }\n",
              "    40% {\n",
              "      border-color: transparent;\n",
              "      border-right-color: var(--fill-color);\n",
              "      border-top-color: var(--fill-color);\n",
              "    }\n",
              "    60% {\n",
              "      border-color: transparent;\n",
              "      border-right-color: var(--fill-color);\n",
              "    }\n",
              "    80% {\n",
              "      border-color: transparent;\n",
              "      border-right-color: var(--fill-color);\n",
              "      border-bottom-color: var(--fill-color);\n",
              "    }\n",
              "    90% {\n",
              "      border-color: transparent;\n",
              "      border-bottom-color: var(--fill-color);\n",
              "    }\n",
              "  }\n",
              "</style>\n",
              "\n",
              "  <script>\n",
              "    async function quickchart(key) {\n",
              "      const quickchartButtonEl =\n",
              "        document.querySelector('#' + key + ' button');\n",
              "      quickchartButtonEl.disabled = true;  // To prevent multiple clicks.\n",
              "      quickchartButtonEl.classList.add('colab-df-spinner');\n",
              "      try {\n",
              "        const charts = await google.colab.kernel.invokeFunction(\n",
              "            'suggestCharts', [key], {});\n",
              "      } catch (error) {\n",
              "        console.error('Error during call to suggestCharts:', error);\n",
              "      }\n",
              "      quickchartButtonEl.classList.remove('colab-df-spinner');\n",
              "      quickchartButtonEl.classList.add('colab-df-quickchart-complete');\n",
              "    }\n",
              "    (() => {\n",
              "      let quickchartButtonEl =\n",
              "        document.querySelector('#df-29e0a842-12a6-4cfd-912a-97a08799c5f9 button');\n",
              "      quickchartButtonEl.style.display =\n",
              "        google.colab.kernel.accessAllowed ? 'block' : 'none';\n",
              "    })();\n",
              "  </script>\n",
              "</div>\n",
              "\n",
              "  <div id=\"id_04d6991a-aa45-4bb3-b64b-6d1f00fe1842\">\n",
              "    <style>\n",
              "      .colab-df-generate {\n",
              "        background-color: #E8F0FE;\n",
              "        border: none;\n",
              "        border-radius: 50%;\n",
              "        cursor: pointer;\n",
              "        display: none;\n",
              "        fill: #1967D2;\n",
              "        height: 32px;\n",
              "        padding: 0 0 0 0;\n",
              "        width: 32px;\n",
              "      }\n",
              "\n",
              "      .colab-df-generate:hover {\n",
              "        background-color: #E2EBFA;\n",
              "        box-shadow: 0px 1px 2px rgba(60, 64, 67, 0.3), 0px 1px 3px 1px rgba(60, 64, 67, 0.15);\n",
              "        fill: #174EA6;\n",
              "      }\n",
              "\n",
              "      [theme=dark] .colab-df-generate {\n",
              "        background-color: #3B4455;\n",
              "        fill: #D2E3FC;\n",
              "      }\n",
              "\n",
              "      [theme=dark] .colab-df-generate:hover {\n",
              "        background-color: #434B5C;\n",
              "        box-shadow: 0px 1px 3px 1px rgba(0, 0, 0, 0.15);\n",
              "        filter: drop-shadow(0px 1px 2px rgba(0, 0, 0, 0.3));\n",
              "        fill: #FFFFFF;\n",
              "      }\n",
              "    </style>\n",
              "    <button class=\"colab-df-generate\" onclick=\"generateWithVariable('data')\"\n",
              "            title=\"Generate code using this dataframe.\"\n",
              "            style=\"display:none;\">\n",
              "\n",
              "  <svg xmlns=\"http://www.w3.org/2000/svg\" height=\"24px\"viewBox=\"0 0 24 24\"\n",
              "       width=\"24px\">\n",
              "    <path d=\"M7,19H8.4L18.45,9,17,7.55,7,17.6ZM5,21V16.75L18.45,3.32a2,2,0,0,1,2.83,0l1.4,1.43a1.91,1.91,0,0,1,.58,1.4,1.91,1.91,0,0,1-.58,1.4L9.25,21ZM18.45,9,17,7.55Zm-12,3A5.31,5.31,0,0,0,4.9,8.1,5.31,5.31,0,0,0,1,6.5,5.31,5.31,0,0,0,4.9,4.9,5.31,5.31,0,0,0,6.5,1,5.31,5.31,0,0,0,8.1,4.9,5.31,5.31,0,0,0,12,6.5,5.46,5.46,0,0,0,6.5,12Z\"/>\n",
              "  </svg>\n",
              "    </button>\n",
              "    <script>\n",
              "      (() => {\n",
              "      const buttonEl =\n",
              "        document.querySelector('#id_04d6991a-aa45-4bb3-b64b-6d1f00fe1842 button.colab-df-generate');\n",
              "      buttonEl.style.display =\n",
              "        google.colab.kernel.accessAllowed ? 'block' : 'none';\n",
              "\n",
              "      buttonEl.onclick = () => {\n",
              "        google.colab.notebook.generateWithVariable('data');\n",
              "      }\n",
              "      })();\n",
              "    </script>\n",
              "  </div>\n",
              "\n",
              "    </div>\n",
              "  </div>\n"
            ],
            "application/vnd.google.colaboratory.intrinsic+json": {
              "type": "dataframe",
              "variable_name": "data",
              "summary": "{\n  \"name\": \"data\",\n  \"rows\": 569,\n  \"fields\": [\n    {\n      \"column\": \"category\",\n      \"properties\": {\n        \"dtype\": \"category\",\n        \"num_unique_values\": 16,\n        \"samples\": [\n          \"Lainnya\",\n          \"Sayuran\",\n          \"Seafood\"\n        ],\n        \"semantic_type\": \"\",\n        \"description\": \"\"\n      }\n    },\n    {\n      \"column\": \"name\",\n      \"properties\": {\n        \"dtype\": \"string\",\n        \"num_unique_values\": 569,\n        \"samples\": [\n          \"Daging babi tanpa lemak\",\n          \"Selai kacang (Tanpa Gula)\",\n          \"Jintan\"\n        ],\n        \"semantic_type\": \"\",\n        \"description\": \"\"\n      }\n    },\n    {\n      \"column\": \"glycemic_index\",\n      \"properties\": {\n        \"dtype\": \"number\",\n        \"std\": 24.103939019059943,\n        \"min\": 0.0,\n        \"max\": 115.0,\n        \"num_unique_values\": 64,\n        \"samples\": [\n          79.0,\n          27.0,\n          35.0\n        ],\n        \"semantic_type\": \"\",\n        \"description\": \"\"\n      }\n    },\n    {\n      \"column\": \"glycemic_load\",\n      \"properties\": {\n        \"dtype\": \"number\",\n        \"std\": 18.408954794788063,\n        \"min\": 0.0,\n        \"max\": 95.0,\n        \"num_unique_values\": 274,\n        \"samples\": [\n          4.8,\n          30.5,\n          61.6\n        ],\n        \"semantic_type\": \"\",\n        \"description\": \"\"\n      }\n    },\n    {\n      \"column\": \"calories (kcal)\",\n      \"properties\": {\n        \"dtype\": \"number\",\n        \"std\": 179.44734475147553,\n        \"min\": 2.0,\n        \"max\": 900.0,\n        \"num_unique_values\": 301,\n        \"samples\": [\n          264.0,\n          452.0,\n          118.0\n        ],\n        \"semantic_type\": \"\",\n        \"description\": \"\"\n      }\n    },\n    {\n      \"column\": \"proteins (g)\",\n      \"properties\": {\n        \"dtype\": \"number\",\n        \"std\": 7.525223973009477,\n        \"min\": 0.0,\n        \"max\": 46.0,\n        \"num_unique_values\": 171,\n        \"samples\": [\n          19.7,\n          19.4,\n          4.4\n        ],\n        \"semantic_type\": \"\",\n        \"description\": \"\"\n      }\n    },\n    {\n      \"column\": \"carbohydrates (g)\",\n      \"properties\": {\n        \"dtype\": \"number\",\n        \"std\": 27.07660649602947,\n        \"min\": 0.0,\n        \"max\": 100.0,\n        \"num_unique_values\": 307,\n        \"samples\": [\n          84.7,\n          70.0,\n          62.7\n        ],\n        \"semantic_type\": \"\",\n        \"description\": \"\"\n      }\n    },\n    {\n      \"column\": \"fats (g)\",\n      \"properties\": {\n        \"dtype\": \"number\",\n        \"std\": 16.882671257038588,\n        \"min\": 0.0,\n        \"max\": 100.0,\n        \"num_unique_values\": 171,\n        \"samples\": [\n          19.5,\n          1.8,\n          0.7\n        ],\n        \"semantic_type\": \"\",\n        \"description\": \"\"\n      }\n    }\n  ]\n}"
            }
          },
          "metadata": {},
          "execution_count": 27
        }
      ]
    },
    {
      "cell_type": "markdown",
      "source": [
        "### Preprocessing Data"
      ],
      "metadata": {
        "id": "Dui2Z_whcLph"
      },
      "id": "Dui2Z_whcLph"
    },
    {
      "cell_type": "code",
      "source": [
        "def categorize_gl_new(gl):\n",
        "    if gl <= 10:\n",
        "        return 'Low'\n",
        "    elif gl <= 19:\n",
        "        return 'Medium'\n",
        "    else:\n",
        "        return 'High'\n",
        "\n",
        "data['gl_category'] = data['glycemic_load'].apply(categorize_gl_new)"
      ],
      "metadata": {
        "id": "qxj-gk4l_c_T"
      },
      "id": "qxj-gk4l_c_T",
      "execution_count": null,
      "outputs": []
    },
    {
      "cell_type": "markdown",
      "source": [
        "- Separate numeric features and target variables."
      ],
      "metadata": {
        "id": "Ys74RpeScPNM"
      },
      "id": "Ys74RpeScPNM"
    },
    {
      "cell_type": "code",
      "source": [
        "numeric_features = ['calories (kcal)', 'proteins (g)', 'carbohydrates (g)', 'fats (g)', 'glycemic_index']\n",
        "X = data[numeric_features]\n",
        "\n",
        "y_gl = data['glycemic_load']\n",
        "y_gl_category = data['gl_category']"
      ],
      "metadata": {
        "id": "h8Gk91qP0OFN"
      },
      "id": "h8Gk91qP0OFN",
      "execution_count": null,
      "outputs": []
    },
    {
      "cell_type": "markdown",
      "source": [
        "- Using one hot encoding for category classification."
      ],
      "metadata": {
        "id": "aS-n0tVnnskc"
      },
      "id": "aS-n0tVnnskc"
    },
    {
      "cell_type": "code",
      "source": [
        "label_encoder_gl = LabelEncoder()\n",
        "y_gl_category_encoded = label_encoder_gl.fit_transform(y_gl_category)"
      ],
      "metadata": {
        "id": "N-SInVmmCDWi"
      },
      "id": "N-SInVmmCDWi",
      "execution_count": null,
      "outputs": []
    },
    {
      "cell_type": "code",
      "source": [
        "onehot_encoder = OneHotEncoder(sparse_output=False)\n",
        "y_gl_category_onehot = onehot_encoder.fit_transform(y_gl_category_encoded.reshape(-1, 1))"
      ],
      "metadata": {
        "id": "vkf8LBKxefjW"
      },
      "id": "vkf8LBKxefjW",
      "execution_count": null,
      "outputs": []
    },
    {
      "cell_type": "code",
      "source": [
        "y_gl_array = y_gl.to_numpy()"
      ],
      "metadata": {
        "id": "6R8r0jETaAEj"
      },
      "id": "6R8r0jETaAEj",
      "execution_count": null,
      "outputs": []
    },
    {
      "cell_type": "code",
      "source": [
        "y_combined = np.column_stack((y_gl_category_onehot, y_gl_array))"
      ],
      "metadata": {
        "id": "isD-IFZGZ28B"
      },
      "id": "isD-IFZGZ28B",
      "execution_count": null,
      "outputs": []
    },
    {
      "cell_type": "markdown",
      "source": [
        "- Split the data into training and test sets."
      ],
      "metadata": {
        "id": "K6eqEiwucXd1"
      },
      "id": "K6eqEiwucXd1"
    },
    {
      "cell_type": "code",
      "source": [
        "X_train, X_test, y_train, y_test = train_test_split(X, y_combined, test_size=0.1, random_state=42)"
      ],
      "metadata": {
        "id": "a0JUTfmPcaU8"
      },
      "id": "a0JUTfmPcaU8",
      "execution_count": null,
      "outputs": []
    },
    {
      "cell_type": "markdown",
      "source": [
        "- Standardize the data to ensure the input features are balanced."
      ],
      "metadata": {
        "id": "BpecujVMcbB0"
      },
      "id": "BpecujVMcbB0"
    },
    {
      "cell_type": "code",
      "source": [
        "scaler = StandardScaler()\n",
        "X_train_scaled = scaler.fit_transform(X_train)\n",
        "X_test_scaled = scaler.transform(X_test)"
      ],
      "metadata": {
        "id": "lkIzyoF1Cp-h"
      },
      "id": "lkIzyoF1Cp-h",
      "execution_count": null,
      "outputs": []
    },
    {
      "cell_type": "markdown",
      "source": [
        "### Build and Train Model"
      ],
      "metadata": {
        "id": "G4ikvaeRndrZ"
      },
      "id": "G4ikvaeRndrZ"
    },
    {
      "cell_type": "code",
      "source": [
        "input_shape = X_train.shape[1]\n",
        "\n",
        "inputs = tf.keras.Input(shape=(input_shape,))\n",
        "\n",
        "x = tf.keras.layers.Dense(32, activation='relu')(inputs)\n",
        "x = tf.keras.layers.Dense(32, activation='relu')(x)\n",
        "x = tf.keras.layers.Dense(64, activation='relu')(x)\n",
        "x = tf.keras.layers.Dense(128, activation='relu')(x)\n",
        "x = tf.keras.layers.Dropout(0.2)(x)\n",
        "\n",
        "num_categories = y_gl_category_onehot.shape[1]\n",
        "output1 = tf.keras.layers.Dense(num_categories, activation='softmax', name='category_output')(x)\n",
        "output2 = tf.keras.layers.Dense(1, activation='relu', name='gl_output')(x)"
      ],
      "metadata": {
        "id": "TighmjhCbrDo"
      },
      "id": "TighmjhCbrDo",
      "execution_count": null,
      "outputs": []
    },
    {
      "cell_type": "code",
      "source": [
        "model = tf.keras.Model(inputs=inputs, outputs=[output1, output2])\n",
        "\n",
        "y_train_category = y_train[:, :num_categories]\n",
        "y_train_gl = y_train[:, num_categories]\n",
        "\n",
        "y_test_category = y_test[:, :num_categories]\n",
        "y_test_gl = y_test[:, num_categories]"
      ],
      "metadata": {
        "id": "Lr6t_e9vc9Hj"
      },
      "id": "Lr6t_e9vc9Hj",
      "execution_count": null,
      "outputs": []
    },
    {
      "cell_type": "code",
      "source": [
        "def adjust_learning_rate():\n",
        "\n",
        "    lr_schedule = tf.keras.callbacks.LearningRateScheduler(lambda epoch: 1e-6 * 10**(epoch / 20))\n",
        "\n",
        "    optimizer = tf.keras.optimizers.Adam()\n",
        "\n",
        "    model.compile(optimizer=optimizer,\n",
        "              loss={'category_output': 'categorical_crossentropy', 'gl_output': 'huber_loss'},\n",
        "              metrics={'category_output': 'accuracy', 'gl_output': 'mae'})\n",
        "\n",
        "    history = model.fit(X_train_scaled,\n",
        "                        {'category_output': y_train_category, 'gl_output': y_train_gl},\n",
        "                        epochs=100,\n",
        "                        callbacks=[lr_schedule],\n",
        "                        verbose=0)\n",
        "\n",
        "    return history"
      ],
      "metadata": {
        "id": "iY6XqWH0cdJP"
      },
      "id": "iY6XqWH0cdJP",
      "execution_count": null,
      "outputs": []
    },
    {
      "cell_type": "code",
      "source": [
        "lr_history = adjust_learning_rate()"
      ],
      "metadata": {
        "id": "RxD3cgGneI-X"
      },
      "id": "RxD3cgGneI-X",
      "execution_count": null,
      "outputs": []
    },
    {
      "cell_type": "code",
      "source": [
        "plt.semilogx(lr_history.history['lr'], lr_history.history['loss'])\n",
        "plt.axis([1e-6, 1e-1, 0, 45])\n",
        "plt.show()"
      ],
      "metadata": {
        "colab": {
          "base_uri": "https://localhost:8080/",
          "height": 440
        },
        "id": "WzNAwb8lfpj4",
        "outputId": "90d8985d-a831-4f0a-d6f8-fc0fc0cd4b9c"
      },
      "id": "WzNAwb8lfpj4",
      "execution_count": null,
      "outputs": [
        {
          "output_type": "display_data",
          "data": {
            "text/plain": [
              "<Figure size 640x480 with 1 Axes>"
            ],
            "image/png": "[encoded data removed]"
          },
          "metadata": {}
        }
      ]
    },
    {
      "cell_type": "code",
      "source": [
        "model = tf.keras.Model(inputs=inputs, outputs=[output1, output2])\n",
        "\n",
        "model.compile(optimizer=tf.keras.optimizers.Adam(learning_rate=2e-3),\n",
        "              loss={'category_output': 'categorical_crossentropy', 'gl_output': 'huber_loss'},\n",
        "              metrics={'category_output': 'accuracy', 'gl_output': 'mae'})\n",
        "\n",
        "model.fit(\n",
        "    X_train_scaled,\n",
        "    {'category_output': y_train_category, 'gl_output': y_train_gl},\n",
        "    epochs=75,\n",
        "    validation_data=(X_test_scaled, {'category_output': y_test_category, 'gl_output': y_test_gl}),\n",
        "    verbose=2)"
      ],
      "metadata": {
        "colab": {
          "base_uri": "https://localhost:8080/"
        },
        "id": "ViJSU8eFcS5k",
        "outputId": "e2ef0da2-d148-4da1-af22-ee1e8d0c4cbb"
      },
      "id": "ViJSU8eFcS5k",
      "execution_count": null,
      "outputs": [
        {
          "output_type": "stream",
          "name": "stdout",
          "text": [
            "Epoch 1/75\n",
            "17/17 - 3s - loss: 2.7985 - category_output_loss: 0.4310 - gl_output_loss: 2.3675 - category_output_accuracy: 0.8918 - gl_output_mae: 2.7815 - val_loss: 2.4840 - val_category_output_loss: 0.3678 - val_gl_output_loss: 2.1161 - val_category_output_accuracy: 0.8475 - val_gl_output_mae: 2.5583 - 3s/epoch - 205ms/step\n",
            "Epoch 2/75\n",
            "17/17 - 0s - loss: 2.2402 - category_output_loss: 0.3682 - gl_output_loss: 1.8720 - category_output_accuracy: 0.9013 - gl_output_mae: 2.2841 - val_loss: 1.6264 - val_category_output_loss: 0.3217 - val_gl_output_loss: 1.3046 - val_category_output_accuracy: 0.8814 - val_gl_output_mae: 1.7070 - 125ms/epoch - 7ms/step\n",
            "Epoch 3/75\n",
            "17/17 - 0s - loss: 1.9997 - category_output_loss: 0.2611 - gl_output_loss: 1.7386 - category_output_accuracy: 0.9260 - gl_output_mae: 2.1457 - val_loss: 1.5787 - val_category_output_loss: 0.2507 - val_gl_output_loss: 1.3280 - val_category_output_accuracy: 0.8814 - val_gl_output_mae: 1.7507 - 220ms/epoch - 13ms/step\n",
            "Epoch 4/75\n",
            "17/17 - 0s - loss: 1.9193 - category_output_loss: 0.2781 - gl_output_loss: 1.6411 - category_output_accuracy: 0.9317 - gl_output_mae: 2.0479 - val_loss: 1.5006 - val_category_output_loss: 0.2164 - val_gl_output_loss: 1.2843 - val_category_output_accuracy: 0.8983 - val_gl_output_mae: 1.6985 - 256ms/epoch - 15ms/step\n",
            "Epoch 5/75\n",
            "17/17 - 0s - loss: 1.7718 - category_output_loss: 0.2257 - gl_output_loss: 1.5460 - category_output_accuracy: 0.9374 - gl_output_mae: 1.9474 - val_loss: 1.1555 - val_category_output_loss: 0.1979 - val_gl_output_loss: 0.9576 - val_category_output_accuracy: 0.8983 - val_gl_output_mae: 1.3359 - 265ms/epoch - 16ms/step\n",
            "Epoch 6/75\n",
            "17/17 - 0s - loss: 1.6201 - category_output_loss: 0.2554 - gl_output_loss: 1.3647 - category_output_accuracy: 0.9507 - gl_output_mae: 1.7517 - val_loss: 0.9803 - val_category_output_loss: 0.1628 - val_gl_output_loss: 0.8175 - val_category_output_accuracy: 0.8983 - val_gl_output_mae: 1.1723 - 178ms/epoch - 10ms/step\n",
            "Epoch 7/75\n",
            "17/17 - 0s - loss: 1.4808 - category_output_loss: 0.2224 - gl_output_loss: 1.2583 - category_output_accuracy: 0.9526 - gl_output_mae: 1.6389 - val_loss: 1.0543 - val_category_output_loss: 0.1520 - val_gl_output_loss: 0.9023 - val_category_output_accuracy: 0.9153 - val_gl_output_mae: 1.2798 - 213ms/epoch - 13ms/step\n",
            "Epoch 8/75\n",
            "17/17 - 0s - loss: 1.5488 - category_output_loss: 0.1772 - gl_output_loss: 1.3716 - category_output_accuracy: 0.9620 - gl_output_mae: 1.7600 - val_loss: 0.7934 - val_category_output_loss: 0.1402 - val_gl_output_loss: 0.6532 - val_category_output_accuracy: 0.9492 - val_gl_output_mae: 1.0069 - 159ms/epoch - 9ms/step\n",
            "Epoch 9/75\n",
            "17/17 - 0s - loss: 1.3989 - category_output_loss: 0.1937 - gl_output_loss: 1.2051 - category_output_accuracy: 0.9602 - gl_output_mae: 1.5818 - val_loss: 0.9058 - val_category_output_loss: 0.1324 - val_gl_output_loss: 0.7735 - val_category_output_accuracy: 0.9492 - val_gl_output_mae: 1.1458 - 310ms/epoch - 18ms/step\n",
            "Epoch 10/75\n",
            "17/17 - 0s - loss: 1.4782 - category_output_loss: 0.1808 - gl_output_loss: 1.2973 - category_output_accuracy: 0.9602 - gl_output_mae: 1.6784 - val_loss: 0.7378 - val_category_output_loss: 0.1400 - val_gl_output_loss: 0.5979 - val_category_output_accuracy: 0.9322 - val_gl_output_mae: 0.9438 - 204ms/epoch - 12ms/step\n",
            "Epoch 11/75\n",
            "17/17 - 0s - loss: 1.3268 - category_output_loss: 0.1684 - gl_output_loss: 1.1584 - category_output_accuracy: 0.9639 - gl_output_mae: 1.5313 - val_loss: 0.6912 - val_category_output_loss: 0.1476 - val_gl_output_loss: 0.5435 - val_category_output_accuracy: 0.9492 - val_gl_output_mae: 0.8705 - 80ms/epoch - 5ms/step\n",
            "Epoch 12/75\n",
            "17/17 - 0s - loss: 1.3527 - category_output_loss: 0.1855 - gl_output_loss: 1.1672 - category_output_accuracy: 0.9620 - gl_output_mae: 1.5325 - val_loss: 0.5395 - val_category_output_loss: 0.1264 - val_gl_output_loss: 0.4131 - val_category_output_accuracy: 0.9661 - val_gl_output_mae: 0.7439 - 82ms/epoch - 5ms/step\n",
            "Epoch 13/75\n",
            "17/17 - 0s - loss: 1.4505 - category_output_loss: 0.1741 - gl_output_loss: 1.2764 - category_output_accuracy: 0.9734 - gl_output_mae: 1.6458 - val_loss: 0.7392 - val_category_output_loss: 0.1399 - val_gl_output_loss: 0.5993 - val_category_output_accuracy: 0.9661 - val_gl_output_mae: 0.9441 - 66ms/epoch - 4ms/step\n",
            "Epoch 14/75\n",
            "17/17 - 0s - loss: 1.2346 - category_output_loss: 0.1590 - gl_output_loss: 1.0756 - category_output_accuracy: 0.9715 - gl_output_mae: 1.4355 - val_loss: 0.5791 - val_category_output_loss: 0.1413 - val_gl_output_loss: 0.4378 - val_category_output_accuracy: 0.9492 - val_gl_output_mae: 0.7530 - 67ms/epoch - 4ms/step\n",
            "Epoch 15/75\n",
            "17/17 - 0s - loss: 1.2825 - category_output_loss: 0.1600 - gl_output_loss: 1.1225 - category_output_accuracy: 0.9677 - gl_output_mae: 1.4856 - val_loss: 0.5354 - val_category_output_loss: 0.1390 - val_gl_output_loss: 0.3964 - val_category_output_accuracy: 0.9492 - val_gl_output_mae: 0.7065 - 83ms/epoch - 5ms/step\n",
            "Epoch 16/75\n",
            "17/17 - 0s - loss: 1.2054 - category_output_loss: 0.1504 - gl_output_loss: 1.0550 - category_output_accuracy: 0.9715 - gl_output_mae: 1.4130 - val_loss: 0.7018 - val_category_output_loss: 0.1350 - val_gl_output_loss: 0.5668 - val_category_output_accuracy: 0.9661 - val_gl_output_mae: 0.9015 - 89ms/epoch - 5ms/step\n",
            "Epoch 17/75\n",
            "17/17 - 0s - loss: 1.1251 - category_output_loss: 0.1328 - gl_output_loss: 0.9923 - category_output_accuracy: 0.9810 - gl_output_mae: 1.3494 - val_loss: 0.7358 - val_category_output_loss: 0.1377 - val_gl_output_loss: 0.5982 - val_category_output_accuracy: 0.9661 - val_gl_output_mae: 0.9411 - 65ms/epoch - 4ms/step\n",
            "Epoch 18/75\n",
            "17/17 - 0s - loss: 1.2515 - category_output_loss: 0.1195 - gl_output_loss: 1.1320 - category_output_accuracy: 0.9791 - gl_output_mae: 1.4864 - val_loss: 0.6486 - val_category_output_loss: 0.1329 - val_gl_output_loss: 0.5157 - val_category_output_accuracy: 0.9661 - val_gl_output_mae: 0.8361 - 81ms/epoch - 5ms/step\n",
            "Epoch 19/75\n",
            "17/17 - 0s - loss: 1.2111 - category_output_loss: 0.1210 - gl_output_loss: 1.0901 - category_output_accuracy: 0.9753 - gl_output_mae: 1.4390 - val_loss: 0.4855 - val_category_output_loss: 0.1298 - val_gl_output_loss: 0.3556 - val_category_output_accuracy: 0.9661 - val_gl_output_mae: 0.6345 - 82ms/epoch - 5ms/step\n",
            "Epoch 20/75\n",
            "17/17 - 0s - loss: 1.1770 - category_output_loss: 0.1319 - gl_output_loss: 1.0451 - category_output_accuracy: 0.9772 - gl_output_mae: 1.3939 - val_loss: 0.8893 - val_category_output_loss: 0.1460 - val_gl_output_loss: 0.7433 - val_category_output_accuracy: 0.9661 - val_gl_output_mae: 1.0305 - 65ms/epoch - 4ms/step\n",
            "Epoch 21/75\n",
            "17/17 - 0s - loss: 1.1602 - category_output_loss: 0.1351 - gl_output_loss: 1.0251 - category_output_accuracy: 0.9753 - gl_output_mae: 1.3708 - val_loss: 0.8585 - val_category_output_loss: 0.1539 - val_gl_output_loss: 0.7046 - val_category_output_accuracy: 0.9661 - val_gl_output_mae: 1.0009 - 68ms/epoch - 4ms/step\n",
            "Epoch 22/75\n",
            "17/17 - 0s - loss: 1.1959 - category_output_loss: 0.1490 - gl_output_loss: 1.0469 - category_output_accuracy: 0.9772 - gl_output_mae: 1.3888 - val_loss: 0.6389 - val_category_output_loss: 0.1120 - val_gl_output_loss: 0.5268 - val_category_output_accuracy: 0.9661 - val_gl_output_mae: 0.8239 - 65ms/epoch - 4ms/step\n",
            "Epoch 23/75\n",
            "17/17 - 0s - loss: 1.1879 - category_output_loss: 0.1072 - gl_output_loss: 1.0807 - category_output_accuracy: 0.9791 - gl_output_mae: 1.4178 - val_loss: 0.4720 - val_category_output_loss: 0.1530 - val_gl_output_loss: 0.3190 - val_category_output_accuracy: 0.9661 - val_gl_output_mae: 0.5799 - 80ms/epoch - 5ms/step\n",
            "Epoch 24/75\n",
            "17/17 - 0s - loss: 1.2200 - category_output_loss: 0.1310 - gl_output_loss: 1.0890 - category_output_accuracy: 0.9772 - gl_output_mae: 1.4306 - val_loss: 0.6499 - val_category_output_loss: 0.1874 - val_gl_output_loss: 0.4625 - val_category_output_accuracy: 0.9661 - val_gl_output_mae: 0.7364 - 64ms/epoch - 4ms/step\n",
            "Epoch 25/75\n",
            "17/17 - 0s - loss: 1.1440 - category_output_loss: 0.1190 - gl_output_loss: 1.0250 - category_output_accuracy: 0.9696 - gl_output_mae: 1.3658 - val_loss: 0.5632 - val_category_output_loss: 0.1764 - val_gl_output_loss: 0.3868 - val_category_output_accuracy: 0.9661 - val_gl_output_mae: 0.6978 - 89ms/epoch - 5ms/step\n",
            "Epoch 26/75\n",
            "17/17 - 0s - loss: 1.1442 - category_output_loss: 0.1165 - gl_output_loss: 1.0277 - category_output_accuracy: 0.9772 - gl_output_mae: 1.3661 - val_loss: 1.0745 - val_category_output_loss: 0.1731 - val_gl_output_loss: 0.9014 - val_category_output_accuracy: 0.9661 - val_gl_output_mae: 1.1891 - 81ms/epoch - 5ms/step\n",
            "Epoch 27/75\n",
            "17/17 - 0s - loss: 1.0991 - category_output_loss: 0.1270 - gl_output_loss: 0.9721 - category_output_accuracy: 0.9753 - gl_output_mae: 1.3128 - val_loss: 0.4556 - val_category_output_loss: 0.1433 - val_gl_output_loss: 0.3124 - val_category_output_accuracy: 0.9661 - val_gl_output_mae: 0.5759 - 81ms/epoch - 5ms/step\n",
            "Epoch 28/75\n",
            "17/17 - 0s - loss: 1.1028 - category_output_loss: 0.1131 - gl_output_loss: 0.9896 - category_output_accuracy: 0.9791 - gl_output_mae: 1.3258 - val_loss: 0.4634 - val_category_output_loss: 0.1689 - val_gl_output_loss: 0.2945 - val_category_output_accuracy: 0.9661 - val_gl_output_mae: 0.5468 - 132ms/epoch - 8ms/step\n",
            "Epoch 29/75\n",
            "17/17 - 0s - loss: 1.1570 - category_output_loss: 0.1224 - gl_output_loss: 1.0345 - category_output_accuracy: 0.9829 - gl_output_mae: 1.3692 - val_loss: 0.6175 - val_category_output_loss: 0.2008 - val_gl_output_loss: 0.4167 - val_category_output_accuracy: 0.9661 - val_gl_output_mae: 0.6850 - 116ms/epoch - 7ms/step\n",
            "Epoch 30/75\n",
            "17/17 - 0s - loss: 1.1265 - category_output_loss: 0.1388 - gl_output_loss: 0.9878 - category_output_accuracy: 0.9677 - gl_output_mae: 1.3081 - val_loss: 0.8835 - val_category_output_loss: 0.1939 - val_gl_output_loss: 0.6896 - val_category_output_accuracy: 0.9661 - val_gl_output_mae: 0.9936 - 106ms/epoch - 6ms/step\n",
            "Epoch 31/75\n",
            "17/17 - 0s - loss: 1.1050 - category_output_loss: 0.1200 - gl_output_loss: 0.9850 - category_output_accuracy: 0.9715 - gl_output_mae: 1.3147 - val_loss: 0.4360 - val_category_output_loss: 0.1634 - val_gl_output_loss: 0.2726 - val_category_output_accuracy: 0.9661 - val_gl_output_mae: 0.5367 - 111ms/epoch - 7ms/step\n",
            "Epoch 32/75\n",
            "17/17 - 0s - loss: 1.0047 - category_output_loss: 0.1229 - gl_output_loss: 0.8819 - category_output_accuracy: 0.9658 - gl_output_mae: 1.2092 - val_loss: 0.7608 - val_category_output_loss: 0.1626 - val_gl_output_loss: 0.5982 - val_category_output_accuracy: 0.9661 - val_gl_output_mae: 0.8982 - 114ms/epoch - 7ms/step\n",
            "Epoch 33/75\n",
            "17/17 - 0s - loss: 1.0926 - category_output_loss: 0.1191 - gl_output_loss: 0.9734 - category_output_accuracy: 0.9810 - gl_output_mae: 1.2997 - val_loss: 0.4868 - val_category_output_loss: 0.1841 - val_gl_output_loss: 0.3027 - val_category_output_accuracy: 0.9661 - val_gl_output_mae: 0.5496 - 113ms/epoch - 7ms/step\n",
            "Epoch 34/75\n",
            "17/17 - 0s - loss: 0.9642 - category_output_loss: 0.0993 - gl_output_loss: 0.8648 - category_output_accuracy: 0.9791 - gl_output_mae: 1.1920 - val_loss: 0.8866 - val_category_output_loss: 0.1923 - val_gl_output_loss: 0.6943 - val_category_output_accuracy: 0.9661 - val_gl_output_mae: 1.0122 - 108ms/epoch - 6ms/step\n",
            "Epoch 35/75\n",
            "17/17 - 0s - loss: 1.0786 - category_output_loss: 0.1129 - gl_output_loss: 0.9658 - category_output_accuracy: 0.9791 - gl_output_mae: 1.2831 - val_loss: 0.3879 - val_category_output_loss: 0.1559 - val_gl_output_loss: 0.2320 - val_category_output_accuracy: 0.9661 - val_gl_output_mae: 0.5060 - 104ms/epoch - 6ms/step\n",
            "Epoch 36/75\n",
            "17/17 - 0s - loss: 1.0385 - category_output_loss: 0.0927 - gl_output_loss: 0.9458 - category_output_accuracy: 0.9829 - gl_output_mae: 1.2652 - val_loss: 0.4831 - val_category_output_loss: 0.1686 - val_gl_output_loss: 0.3146 - val_category_output_accuracy: 0.9661 - val_gl_output_mae: 0.5496 - 133ms/epoch - 8ms/step\n",
            "Epoch 37/75\n",
            "17/17 - 0s - loss: 0.9776 - category_output_loss: 0.1002 - gl_output_loss: 0.8774 - category_output_accuracy: 0.9829 - gl_output_mae: 1.1933 - val_loss: 0.6186 - val_category_output_loss: 0.2088 - val_gl_output_loss: 0.4098 - val_category_output_accuracy: 0.9661 - val_gl_output_mae: 0.6567 - 130ms/epoch - 8ms/step\n",
            "Epoch 38/75\n",
            "17/17 - 0s - loss: 1.0055 - category_output_loss: 0.1105 - gl_output_loss: 0.8950 - category_output_accuracy: 0.9791 - gl_output_mae: 1.2196 - val_loss: 0.9636 - val_category_output_loss: 0.1577 - val_gl_output_loss: 0.8058 - val_category_output_accuracy: 0.9661 - val_gl_output_mae: 1.0995 - 96ms/epoch - 6ms/step\n",
            "Epoch 39/75\n",
            "17/17 - 0s - loss: 1.0312 - category_output_loss: 0.1149 - gl_output_loss: 0.9163 - category_output_accuracy: 0.9734 - gl_output_mae: 1.2290 - val_loss: 0.3331 - val_category_output_loss: 0.1514 - val_gl_output_loss: 0.1817 - val_category_output_accuracy: 0.9661 - val_gl_output_mae: 0.3984 - 101ms/epoch - 6ms/step\n",
            "Epoch 40/75\n",
            "17/17 - 0s - loss: 0.9738 - category_output_loss: 0.0842 - gl_output_loss: 0.8896 - category_output_accuracy: 0.9810 - gl_output_mae: 1.2003 - val_loss: 0.6578 - val_category_output_loss: 0.1969 - val_gl_output_loss: 0.4609 - val_category_output_accuracy: 0.9661 - val_gl_output_mae: 0.7332 - 117ms/epoch - 7ms/step\n",
            "Epoch 41/75\n",
            "17/17 - 0s - loss: 0.9896 - category_output_loss: 0.1139 - gl_output_loss: 0.8757 - category_output_accuracy: 0.9848 - gl_output_mae: 1.1990 - val_loss: 0.3317 - val_category_output_loss: 0.1576 - val_gl_output_loss: 0.1741 - val_category_output_accuracy: 0.9661 - val_gl_output_mae: 0.4046 - 100ms/epoch - 6ms/step\n",
            "Epoch 42/75\n",
            "17/17 - 0s - loss: 0.9424 - category_output_loss: 0.0995 - gl_output_loss: 0.8429 - category_output_accuracy: 0.9791 - gl_output_mae: 1.1563 - val_loss: 0.3781 - val_category_output_loss: 0.1855 - val_gl_output_loss: 0.1926 - val_category_output_accuracy: 0.9661 - val_gl_output_mae: 0.4222 - 115ms/epoch - 7ms/step\n",
            "Epoch 43/75\n",
            "17/17 - 0s - loss: 1.0468 - category_output_loss: 0.1113 - gl_output_loss: 0.9355 - category_output_accuracy: 0.9810 - gl_output_mae: 1.2468 - val_loss: 1.2321 - val_category_output_loss: 0.1890 - val_gl_output_loss: 1.0431 - val_category_output_accuracy: 0.9661 - val_gl_output_mae: 1.3537 - 112ms/epoch - 7ms/step\n",
            "Epoch 44/75\n",
            "17/17 - 0s - loss: 1.0990 - category_output_loss: 0.1167 - gl_output_loss: 0.9823 - category_output_accuracy: 0.9848 - gl_output_mae: 1.2998 - val_loss: 0.5338 - val_category_output_loss: 0.1818 - val_gl_output_loss: 0.3520 - val_category_output_accuracy: 0.9661 - val_gl_output_mae: 0.6307 - 114ms/epoch - 7ms/step\n",
            "Epoch 45/75\n",
            "17/17 - 0s - loss: 0.9263 - category_output_loss: 0.0848 - gl_output_loss: 0.8415 - category_output_accuracy: 0.9867 - gl_output_mae: 1.1494 - val_loss: 0.4272 - val_category_output_loss: 0.1945 - val_gl_output_loss: 0.2326 - val_category_output_accuracy: 0.9661 - val_gl_output_mae: 0.4558 - 125ms/epoch - 7ms/step\n",
            "Epoch 46/75\n",
            "17/17 - 0s - loss: 0.9178 - category_output_loss: 0.0949 - gl_output_loss: 0.8229 - category_output_accuracy: 0.9886 - gl_output_mae: 1.1383 - val_loss: 0.6510 - val_category_output_loss: 0.1752 - val_gl_output_loss: 0.4758 - val_category_output_accuracy: 0.9661 - val_gl_output_mae: 0.7581 - 115ms/epoch - 7ms/step\n",
            "Epoch 47/75\n",
            "17/17 - 0s - loss: 0.8456 - category_output_loss: 0.0867 - gl_output_loss: 0.7589 - category_output_accuracy: 0.9848 - gl_output_mae: 1.0592 - val_loss: 0.4988 - val_category_output_loss: 0.1833 - val_gl_output_loss: 0.3155 - val_category_output_accuracy: 0.9661 - val_gl_output_mae: 0.5783 - 116ms/epoch - 7ms/step\n",
            "Epoch 48/75\n",
            "17/17 - 0s - loss: 0.9291 - category_output_loss: 0.0832 - gl_output_loss: 0.8459 - category_output_accuracy: 0.9848 - gl_output_mae: 1.1546 - val_loss: 0.4650 - val_category_output_loss: 0.1637 - val_gl_output_loss: 0.3013 - val_category_output_accuracy: 0.9661 - val_gl_output_mae: 0.5279 - 98ms/epoch - 6ms/step\n",
            "Epoch 49/75\n",
            "17/17 - 0s - loss: 1.0097 - category_output_loss: 0.1099 - gl_output_loss: 0.8999 - category_output_accuracy: 0.9848 - gl_output_mae: 1.1925 - val_loss: 0.5074 - val_category_output_loss: 0.1876 - val_gl_output_loss: 0.3198 - val_category_output_accuracy: 0.9661 - val_gl_output_mae: 0.5757 - 108ms/epoch - 6ms/step\n",
            "Epoch 50/75\n",
            "17/17 - 0s - loss: 0.9900 - category_output_loss: 0.1006 - gl_output_loss: 0.8893 - category_output_accuracy: 0.9829 - gl_output_mae: 1.2002 - val_loss: 0.4831 - val_category_output_loss: 0.1744 - val_gl_output_loss: 0.3087 - val_category_output_accuracy: 0.9661 - val_gl_output_mae: 0.5537 - 110ms/epoch - 6ms/step\n",
            "Epoch 51/75\n",
            "17/17 - 0s - loss: 0.9141 - category_output_loss: 0.0899 - gl_output_loss: 0.8243 - category_output_accuracy: 0.9791 - gl_output_mae: 1.1354 - val_loss: 0.6910 - val_category_output_loss: 0.1863 - val_gl_output_loss: 0.5047 - val_category_output_accuracy: 0.9661 - val_gl_output_mae: 0.7661 - 104ms/epoch - 6ms/step\n",
            "Epoch 52/75\n",
            "17/17 - 0s - loss: 0.9082 - category_output_loss: 0.0821 - gl_output_loss: 0.8261 - category_output_accuracy: 0.9848 - gl_output_mae: 1.1232 - val_loss: 0.4263 - val_category_output_loss: 0.1728 - val_gl_output_loss: 0.2535 - val_category_output_accuracy: 0.9661 - val_gl_output_mae: 0.4660 - 112ms/epoch - 7ms/step\n",
            "Epoch 53/75\n",
            "17/17 - 0s - loss: 0.9908 - category_output_loss: 0.0678 - gl_output_loss: 0.9229 - category_output_accuracy: 0.9867 - gl_output_mae: 1.2300 - val_loss: 0.3838 - val_category_output_loss: 0.1810 - val_gl_output_loss: 0.2028 - val_category_output_accuracy: 0.9661 - val_gl_output_mae: 0.4276 - 135ms/epoch - 8ms/step\n",
            "Epoch 54/75\n",
            "17/17 - 0s - loss: 0.9085 - category_output_loss: 0.0988 - gl_output_loss: 0.8097 - category_output_accuracy: 0.9829 - gl_output_mae: 1.1208 - val_loss: 0.4734 - val_category_output_loss: 0.1400 - val_gl_output_loss: 0.3335 - val_category_output_accuracy: 0.9661 - val_gl_output_mae: 0.5774 - 111ms/epoch - 7ms/step\n",
            "Epoch 55/75\n",
            "17/17 - 0s - loss: 0.9118 - category_output_loss: 0.0788 - gl_output_loss: 0.8329 - category_output_accuracy: 0.9810 - gl_output_mae: 1.1391 - val_loss: 0.3288 - val_category_output_loss: 0.1508 - val_gl_output_loss: 0.1780 - val_category_output_accuracy: 0.9661 - val_gl_output_mae: 0.4199 - 115ms/epoch - 7ms/step\n",
            "Epoch 56/75\n",
            "17/17 - 0s - loss: 0.9189 - category_output_loss: 0.0758 - gl_output_loss: 0.8431 - category_output_accuracy: 0.9829 - gl_output_mae: 1.1422 - val_loss: 0.5869 - val_category_output_loss: 0.1656 - val_gl_output_loss: 0.4213 - val_category_output_accuracy: 0.9661 - val_gl_output_mae: 0.6859 - 78ms/epoch - 5ms/step\n",
            "Epoch 57/75\n",
            "17/17 - 0s - loss: 0.9071 - category_output_loss: 0.1005 - gl_output_loss: 0.8066 - category_output_accuracy: 0.9848 - gl_output_mae: 1.1204 - val_loss: 0.8242 - val_category_output_loss: 0.1407 - val_gl_output_loss: 0.6835 - val_category_output_accuracy: 0.9661 - val_gl_output_mae: 0.9927 - 81ms/epoch - 5ms/step\n",
            "Epoch 58/75\n",
            "17/17 - 0s - loss: 0.9756 - category_output_loss: 0.0910 - gl_output_loss: 0.8846 - category_output_accuracy: 0.9886 - gl_output_mae: 1.1949 - val_loss: 0.3881 - val_category_output_loss: 0.1421 - val_gl_output_loss: 0.2459 - val_category_output_accuracy: 0.9661 - val_gl_output_mae: 0.4975 - 80ms/epoch - 5ms/step\n",
            "Epoch 59/75\n",
            "17/17 - 0s - loss: 0.9574 - category_output_loss: 0.0861 - gl_output_loss: 0.8713 - category_output_accuracy: 0.9791 - gl_output_mae: 1.1790 - val_loss: 0.3495 - val_category_output_loss: 0.1600 - val_gl_output_loss: 0.1894 - val_category_output_accuracy: 0.9492 - val_gl_output_mae: 0.4386 - 65ms/epoch - 4ms/step\n",
            "Epoch 60/75\n",
            "17/17 - 0s - loss: 0.9074 - category_output_loss: 0.0972 - gl_output_loss: 0.8102 - category_output_accuracy: 0.9886 - gl_output_mae: 1.1107 - val_loss: 0.4711 - val_category_output_loss: 0.1649 - val_gl_output_loss: 0.3062 - val_category_output_accuracy: 0.9661 - val_gl_output_mae: 0.5807 - 65ms/epoch - 4ms/step\n",
            "Epoch 61/75\n",
            "17/17 - 0s - loss: 0.9013 - category_output_loss: 0.0913 - gl_output_loss: 0.8101 - category_output_accuracy: 0.9829 - gl_output_mae: 1.1108 - val_loss: 0.4290 - val_category_output_loss: 0.1996 - val_gl_output_loss: 0.2295 - val_category_output_accuracy: 0.9661 - val_gl_output_mae: 0.4636 - 80ms/epoch - 5ms/step\n",
            "Epoch 62/75\n",
            "17/17 - 0s - loss: 0.9349 - category_output_loss: 0.0951 - gl_output_loss: 0.8398 - category_output_accuracy: 0.9829 - gl_output_mae: 1.1368 - val_loss: 0.3128 - val_category_output_loss: 0.1552 - val_gl_output_loss: 0.1577 - val_category_output_accuracy: 0.9661 - val_gl_output_mae: 0.3903 - 67ms/epoch - 4ms/step\n",
            "Epoch 63/75\n",
            "17/17 - 0s - loss: 0.9849 - category_output_loss: 0.0950 - gl_output_loss: 0.8899 - category_output_accuracy: 0.9848 - gl_output_mae: 1.1879 - val_loss: 0.4384 - val_category_output_loss: 0.1694 - val_gl_output_loss: 0.2690 - val_category_output_accuracy: 0.9661 - val_gl_output_mae: 0.5268 - 74ms/epoch - 4ms/step\n",
            "Epoch 64/75\n",
            "17/17 - 0s - loss: 0.9018 - category_output_loss: 0.0798 - gl_output_loss: 0.8219 - category_output_accuracy: 0.9829 - gl_output_mae: 1.1211 - val_loss: 0.4459 - val_category_output_loss: 0.1781 - val_gl_output_loss: 0.2678 - val_category_output_accuracy: 0.9661 - val_gl_output_mae: 0.5140 - 99ms/epoch - 6ms/step\n",
            "Epoch 65/75\n",
            "17/17 - 0s - loss: 0.9259 - category_output_loss: 0.0639 - gl_output_loss: 0.8620 - category_output_accuracy: 0.9848 - gl_output_mae: 1.1581 - val_loss: 0.3378 - val_category_output_loss: 0.1456 - val_gl_output_loss: 0.1922 - val_category_output_accuracy: 0.9661 - val_gl_output_mae: 0.4395 - 65ms/epoch - 4ms/step\n",
            "Epoch 66/75\n",
            "17/17 - 0s - loss: 1.0057 - category_output_loss: 0.0813 - gl_output_loss: 0.9244 - category_output_accuracy: 0.9905 - gl_output_mae: 1.2225 - val_loss: 0.4860 - val_category_output_loss: 0.1475 - val_gl_output_loss: 0.3386 - val_category_output_accuracy: 0.9661 - val_gl_output_mae: 0.6060 - 69ms/epoch - 4ms/step\n",
            "Epoch 67/75\n",
            "17/17 - 0s - loss: 0.9125 - category_output_loss: 0.0866 - gl_output_loss: 0.8259 - category_output_accuracy: 0.9905 - gl_output_mae: 1.1217 - val_loss: 0.3021 - val_category_output_loss: 0.1440 - val_gl_output_loss: 0.1582 - val_category_output_accuracy: 0.9661 - val_gl_output_mae: 0.3937 - 94ms/epoch - 6ms/step\n",
            "Epoch 68/75\n",
            "17/17 - 0s - loss: 0.9505 - category_output_loss: 0.0868 - gl_output_loss: 0.8637 - category_output_accuracy: 0.9829 - gl_output_mae: 1.1645 - val_loss: 0.4126 - val_category_output_loss: 0.1342 - val_gl_output_loss: 0.2785 - val_category_output_accuracy: 0.9661 - val_gl_output_mae: 0.5205 - 79ms/epoch - 5ms/step\n",
            "Epoch 69/75\n",
            "17/17 - 0s - loss: 0.8957 - category_output_loss: 0.0707 - gl_output_loss: 0.8249 - category_output_accuracy: 0.9848 - gl_output_mae: 1.1202 - val_loss: 0.4664 - val_category_output_loss: 0.1777 - val_gl_output_loss: 0.2887 - val_category_output_accuracy: 0.9661 - val_gl_output_mae: 0.5298 - 66ms/epoch - 4ms/step\n",
            "Epoch 70/75\n",
            "17/17 - 0s - loss: 0.8471 - category_output_loss: 0.0759 - gl_output_loss: 0.7711 - category_output_accuracy: 0.9829 - gl_output_mae: 1.0587 - val_loss: 0.4288 - val_category_output_loss: 0.1495 - val_gl_output_loss: 0.2793 - val_category_output_accuracy: 0.9661 - val_gl_output_mae: 0.5283 - 65ms/epoch - 4ms/step\n",
            "Epoch 71/75\n",
            "17/17 - 0s - loss: 0.8169 - category_output_loss: 0.0583 - gl_output_loss: 0.7586 - category_output_accuracy: 0.9886 - gl_output_mae: 1.0556 - val_loss: 0.4618 - val_category_output_loss: 0.1744 - val_gl_output_loss: 0.2873 - val_category_output_accuracy: 0.9661 - val_gl_output_mae: 0.5387 - 81ms/epoch - 5ms/step\n",
            "Epoch 72/75\n",
            "17/17 - 0s - loss: 0.8561 - category_output_loss: 0.0767 - gl_output_loss: 0.7794 - category_output_accuracy: 0.9829 - gl_output_mae: 1.0752 - val_loss: 0.2921 - val_category_output_loss: 0.1475 - val_gl_output_loss: 0.1447 - val_category_output_accuracy: 0.9661 - val_gl_output_mae: 0.3773 - 80ms/epoch - 5ms/step\n",
            "Epoch 73/75\n",
            "17/17 - 0s - loss: 0.8572 - category_output_loss: 0.0854 - gl_output_loss: 0.7717 - category_output_accuracy: 0.9848 - gl_output_mae: 1.0577 - val_loss: 0.5946 - val_category_output_loss: 0.1501 - val_gl_output_loss: 0.4444 - val_category_output_accuracy: 0.9661 - val_gl_output_mae: 0.7299 - 65ms/epoch - 4ms/step\n",
            "Epoch 74/75\n",
            "17/17 - 0s - loss: 0.9611 - category_output_loss: 0.0763 - gl_output_loss: 0.8848 - category_output_accuracy: 0.9886 - gl_output_mae: 1.1828 - val_loss: 0.4563 - val_category_output_loss: 0.1772 - val_gl_output_loss: 0.2792 - val_category_output_accuracy: 0.9661 - val_gl_output_mae: 0.5323 - 81ms/epoch - 5ms/step\n",
            "Epoch 75/75\n",
            "17/17 - 0s - loss: 0.8625 - category_output_loss: 0.0863 - gl_output_loss: 0.7762 - category_output_accuracy: 0.9791 - gl_output_mae: 1.0622 - val_loss: 0.2873 - val_category_output_loss: 0.1332 - val_gl_output_loss: 0.1540 - val_category_output_accuracy: 0.9661 - val_gl_output_mae: 0.3927 - 67ms/epoch - 4ms/step\n"
          ]
        },
        {
          "output_type": "execute_result",
          "data": {
            "text/plain": [
              "<keras.src.callbacks.History at 0x7e45b9981330>"
            ]
          },
          "metadata": {},
          "execution_count": 16
        }
      ]
    },
    {
      "cell_type": "markdown",
      "source": [
        "### Evaluate Model"
      ],
      "metadata": {
        "id": "_O_LtZbdnZQB"
      },
      "id": "_O_LtZbdnZQB"
    },
    {
      "cell_type": "code",
      "source": [
        "results = model.evaluate(X_test_scaled, {'category_output': y_test_category, 'gl_output': y_test_gl})\n",
        "\n",
        "print(f\"GL Category Accuracy: {results[3]:.4f}\")\n",
        "print(f\"GL MAE: {results[4]:.4f}\")"
      ],
      "metadata": {
        "colab": {
          "base_uri": "https://localhost:8080/"
        },
        "id": "KDVQkfTunNLv",
        "outputId": "5e1a7aa7-7a57-4076-fb87-48ce21c65ef6"
      },
      "id": "KDVQkfTunNLv",
      "execution_count": null,
      "outputs": [
        {
          "output_type": "stream",
          "name": "stdout",
          "text": [
            "2/2 [==============================] - 0s 9ms/step - loss: 0.2873 - category_output_loss: 0.1332 - gl_output_loss: 0.1540 - category_output_accuracy: 0.9661 - gl_output_mae: 0.3927\n",
            "GL Category Accuracy: 0.9661\n",
            "GL MAE: 0.3927\n"
          ]
        }
      ]
    },
    {
      "cell_type": "code",
      "source": [
        "new_data = np.array([[391.0,\t10.7,\t27.0,\t26.5, 35.0]])\n",
        "new_data_scaled = scaler.transform(new_data)\n",
        "\n",
        "new_prediction = model.predict(new_data_scaled)\n",
        "gl_new_prediction = round((new_prediction[1])[0][0], 1)\n",
        "gl_new_category = new_prediction[0]\n",
        "\n",
        "category_index = np.argmax(gl_new_category, axis=1)\n",
        "category_label = label_encoder_gl.inverse_transform(category_index)\n",
        "\n",
        "print('Glycemic Load Prediction: ', gl_new_prediction)\n",
        "print('Glycemic Load Category:', category_label[0])"
      ],
      "metadata": {
        "colab": {
          "base_uri": "https://localhost:8080/"
        },
        "id": "yr3AoJWHlNim",
        "outputId": "145059cf-c6bd-44fd-bf56-e9442bfa0df7"
      },
      "id": "yr3AoJWHlNim",
      "execution_count": null,
      "outputs": [
        {
          "output_type": "stream",
          "name": "stderr",
          "text": [
            "/usr/local/lib/python3.10/dist-packages/sklearn/base.py:439: UserWarning: X does not have valid feature names, but StandardScaler was fitted with feature names\n",
            "  warnings.warn(\n"
          ]
        },
        {
          "output_type": "stream",
          "name": "stdout",
          "text": [
            "1/1 [==============================] - 0s 46ms/step\n",
            "Glycemic Load Prediction:  9.2\n",
            "Glycemic Load Category: Low\n"
          ]
        }
      ]
    },
    {
      "cell_type": "markdown",
      "source": [
        "### Save Model"
      ],
      "metadata": {
        "id": "o7qureWoXCfm"
      },
      "id": "o7qureWoXCfm"
    },
    {
      "cell_type": "code",
      "source": [
        "model.save('Glycemic Load Model.h5')"
      ],
      "metadata": {
        "id": "atwgfUL2Xkqe"
      },
      "id": "atwgfUL2Xkqe",
      "execution_count": null,
      "outputs": []
    }
  ],
  "metadata": {
    "kernelspec": {
      "display_name": "Python 3 (ipykernel)",
      "language": "python",
      "name": "python3"
    },
    "language_info": {
      "codemirror_mode": {
        "name": "ipython",
        "version": 3
      },
      "file_extension": ".py",
      "mimetype": "text/x-python",
      "name": "python",
      "nbconvert_exporter": "python",
      "pygments_lexer": "ipython3",
      "version": "3.12.2"
    },
    "colab": {
      "provenance": []
    }
  },
  "nbformat": 4,
  "nbformat_minor": 5
}