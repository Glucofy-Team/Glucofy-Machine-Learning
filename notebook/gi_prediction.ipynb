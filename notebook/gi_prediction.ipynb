{
  "cells": [
    {
      "cell_type": "markdown",
      "id": "Qe0JbgdhbShw",
      "metadata": {
        "id": "Qe0JbgdhbShw"
      },
      "source": [
        "### Import Library"
      ]
    },
    {
      "cell_type": "code",
      "execution_count": null,
      "id": "yJnWbX2_iwQQ",
      "metadata": {
        "id": "yJnWbX2_iwQQ"
      },
      "outputs": [],
      "source": [
        "import numpy as np\n",
        "import pandas as pd\n",
        "import seaborn as sns\n",
        "import matplotlib.pyplot as plt\n",
        "import tensorflow as tf\n",
        "\n",
        "from keras.callbacks import EarlyStopping\n",
        "from sklearn import metrics\n",
        "from sklearn.linear_model import LinearRegression\n",
        "from sklearn.tree import DecisionTreeRegressor\n",
        "from sklearn.svm import SVR\n",
        "from sklearn.model_selection import train_test_split\n",
        "from sklearn.preprocessing import StandardScaler"
      ]
    },
    {
      "cell_type": "markdown",
      "id": "BXctRKGVbVPN",
      "metadata": {
        "id": "BXctRKGVbVPN"
      },
      "source": [
        "### Load Data"
      ]
    },
    {
      "cell_type": "code",
      "execution_count": null,
      "id": "Bqs4xLqazoTX",
      "metadata": {
        "colab": {
          "base_uri": "https://localhost:8080/",
          "height": 423
        },
        "id": "Bqs4xLqazoTX",
        "outputId": "911c935a-da3b-4454-eb6f-d04715416377"
      },
      "outputs": [
        {
          "data": {
            "application/vnd.google.colaboratory.intrinsic+json": {
              "summary": "{\n  \"name\": \"data\",\n  \"rows\": 586,\n  \"fields\": [\n    {\n      \"column\": \"category\",\n      \"properties\": {\n        \"dtype\": \"category\",\n        \"num_unique_values\": 17,\n        \"samples\": [\n          \"Other\",\n          \"Vegetables\",\n          \"Seafood\"\n        ],\n        \"semantic_type\": \"\",\n        \"description\": \"\"\n      }\n    },\n    {\n      \"column\": \"name\",\n      \"properties\": {\n        \"dtype\": \"string\",\n        \"num_unique_values\": 578,\n        \"samples\": [\n          \"Fennel\",\n          \"Rice Bread\",\n          \"Cream (30%)\"\n        ],\n        \"semantic_type\": \"\",\n        \"description\": \"\"\n      }\n    },\n    {\n      \"column\": \"glycemic_index\",\n      \"properties\": {\n        \"dtype\": \"number\",\n        \"std\": 24.13100778240758,\n        \"min\": 0.0,\n        \"max\": 115.0,\n        \"num_unique_values\": 65,\n        \"samples\": [\n          79.0,\n          69.0,\n          35.0\n        ],\n        \"semantic_type\": \"\",\n        \"description\": \"\"\n      }\n    },\n    {\n      \"column\": \"glycemic_load\",\n      \"properties\": {\n        \"dtype\": \"number\",\n        \"std\": 18.316096606085676,\n        \"min\": 0.0,\n        \"max\": 95.0,\n        \"num_unique_values\": 279,\n        \"samples\": [\n          4.8,\n          17.2,\n          61.6\n        ],\n        \"semantic_type\": \"\",\n        \"description\": \"\"\n      }\n    },\n    {\n      \"column\": \"calories (kcal)\",\n      \"properties\": {\n        \"dtype\": \"number\",\n        \"std\": 180.10245401229338,\n        \"min\": 2.0,\n        \"max\": 900.0,\n        \"num_unique_values\": 302,\n        \"samples\": [\n          310.0,\n          384.0,\n          208.0\n        ],\n        \"semantic_type\": \"\",\n        \"description\": \"\"\n      }\n    },\n    {\n      \"column\": \"proteins (g)\",\n      \"properties\": {\n        \"dtype\": \"number\",\n        \"std\": 7.618161679973942,\n        \"min\": 0.0,\n        \"max\": 46.0,\n        \"num_unique_values\": 172,\n        \"samples\": [\n          1.6,\n          36.5,\n          10.5\n        ],\n        \"semantic_type\": \"\",\n        \"description\": \"\"\n      }\n    },\n    {\n      \"column\": \"carbohydrates (g)\",\n      \"properties\": {\n        \"dtype\": \"number\",\n        \"std\": 27.074133443881706,\n        \"min\": 0.0,\n        \"max\": 100.0,\n        \"num_unique_values\": 312,\n        \"samples\": [\n          34.9,\n          20.0,\n          95.0\n        ],\n        \"semantic_type\": \"\",\n        \"description\": \"\"\n      }\n    },\n    {\n      \"column\": \"fats (g)\",\n      \"properties\": {\n        \"dtype\": \"number\",\n        \"std\": 16.96051919180265,\n        \"min\": 0.0,\n        \"max\": 100.0,\n        \"num_unique_values\": 174,\n        \"samples\": [\n          21.0,\n          3.5,\n          10.4\n        ],\n        \"semantic_type\": \"\",\n        \"description\": \"\"\n      }\n    }\n  ]\n}",
              "type": "dataframe",
              "variable_name": "data"
            },
            "text/html": [
              "\n",
              "  <div id=\"df-1ad99972-1baa-4be7-a1cf-7a81361751d8\" class=\"colab-df-container\">\n",
              "    <div>\n",
              "<style scoped>\n",
              "    .dataframe tbody tr th:only-of-type {\n",
              "        vertical-align: middle;\n",
              "    }\n",
              "\n",
              "    .dataframe tbody tr th {\n",
              "        vertical-align: top;\n",
              "    }\n",
              "\n",
              "    .dataframe thead th {\n",
              "        text-align: right;\n",
              "    }\n",
              "</style>\n",
              "<table border=\"1\" class=\"dataframe\">\n",
              "  <thead>\n",
              "    <tr style=\"text-align: right;\">\n",
              "      <th></th>\n",
              "      <th>category</th>\n",
              "      <th>name</th>\n",
              "      <th>glycemic_index</th>\n",
              "      <th>glycemic_load</th>\n",
              "      <th>calories (kcal)</th>\n",
              "      <th>proteins (g)</th>\n",
              "      <th>carbohydrates (g)</th>\n",
              "      <th>fats (g)</th>\n",
              "    </tr>\n",
              "  </thead>\n",
              "  <tbody>\n",
              "    <tr>\n",
              "      <th>0</th>\n",
              "      <td>Other</td>\n",
              "      <td>Yeast</td>\n",
              "      <td>35.0</td>\n",
              "      <td>6.3</td>\n",
              "      <td>105.0</td>\n",
              "      <td>8.0</td>\n",
              "      <td>18.0</td>\n",
              "      <td>1.9</td>\n",
              "    </tr>\n",
              "    <tr>\n",
              "      <th>1</th>\n",
              "      <td>Other</td>\n",
              "      <td>Brewer’s yeast</td>\n",
              "      <td>35.0</td>\n",
              "      <td>0.0</td>\n",
              "      <td>75.0</td>\n",
              "      <td>12.7</td>\n",
              "      <td>0.0</td>\n",
              "      <td>2.7</td>\n",
              "    </tr>\n",
              "    <tr>\n",
              "      <th>2</th>\n",
              "      <td>Other</td>\n",
              "      <td>Maltodextrin</td>\n",
              "      <td>95.0</td>\n",
              "      <td>94.0</td>\n",
              "      <td>380.0</td>\n",
              "      <td>0.0</td>\n",
              "      <td>99.0</td>\n",
              "      <td>0.0</td>\n",
              "    </tr>\n",
              "    <tr>\n",
              "      <th>3</th>\n",
              "      <td>Other</td>\n",
              "      <td>Palm pulp</td>\n",
              "      <td>20.0</td>\n",
              "      <td>1.2</td>\n",
              "      <td>354.0</td>\n",
              "      <td>3.4</td>\n",
              "      <td>6.2</td>\n",
              "      <td>33.5</td>\n",
              "    </tr>\n",
              "    <tr>\n",
              "      <th>4</th>\n",
              "      <td>Other</td>\n",
              "      <td>Omelette</td>\n",
              "      <td>49.0</td>\n",
              "      <td>7.3</td>\n",
              "      <td>210.0</td>\n",
              "      <td>14.0</td>\n",
              "      <td>15.0</td>\n",
              "      <td>2.1</td>\n",
              "    </tr>\n",
              "    <tr>\n",
              "      <th>...</th>\n",
              "      <td>...</td>\n",
              "      <td>...</td>\n",
              "      <td>...</td>\n",
              "      <td>...</td>\n",
              "      <td>...</td>\n",
              "      <td>...</td>\n",
              "      <td>...</td>\n",
              "      <td>...</td>\n",
              "    </tr>\n",
              "    <tr>\n",
              "      <th>581</th>\n",
              "      <td>Baked products</td>\n",
              "      <td>Pumpernickel Bread</td>\n",
              "      <td>45.0</td>\n",
              "      <td>21.6</td>\n",
              "      <td>250.0</td>\n",
              "      <td>9.0</td>\n",
              "      <td>48.0</td>\n",
              "      <td>3.1</td>\n",
              "    </tr>\n",
              "    <tr>\n",
              "      <th>582</th>\n",
              "      <td>Baked products</td>\n",
              "      <td>Rice Bread</td>\n",
              "      <td>70.0</td>\n",
              "      <td>48.0</td>\n",
              "      <td>306.0</td>\n",
              "      <td>6.3</td>\n",
              "      <td>68.6</td>\n",
              "      <td>0.7</td>\n",
              "    </tr>\n",
              "    <tr>\n",
              "      <th>583</th>\n",
              "      <td>Baked products</td>\n",
              "      <td>Bran bread</td>\n",
              "      <td>65.0</td>\n",
              "      <td>29.4</td>\n",
              "      <td>227.0</td>\n",
              "      <td>7.0</td>\n",
              "      <td>45.2</td>\n",
              "      <td>1.3</td>\n",
              "    </tr>\n",
              "    <tr>\n",
              "      <th>584</th>\n",
              "      <td>Baked products</td>\n",
              "      <td>Pumpkin bread</td>\n",
              "      <td>40.0</td>\n",
              "      <td>17.0</td>\n",
              "      <td>211.0</td>\n",
              "      <td>5.5</td>\n",
              "      <td>42.6</td>\n",
              "      <td>2.4</td>\n",
              "    </tr>\n",
              "    <tr>\n",
              "      <th>585</th>\n",
              "      <td>Baked products</td>\n",
              "      <td>Fruit bread</td>\n",
              "      <td>47.0</td>\n",
              "      <td>24.4</td>\n",
              "      <td>370.0</td>\n",
              "      <td>7.6</td>\n",
              "      <td>52.0</td>\n",
              "      <td>7.4</td>\n",
              "    </tr>\n",
              "  </tbody>\n",
              "</table>\n",
              "<p>586 rows × 8 columns</p>\n",
              "</div>\n",
              "    <div class=\"colab-df-buttons\">\n",
              "\n",
              "  <div class=\"colab-df-container\">\n",
              "    <button class=\"colab-df-convert\" onclick=\"convertToInteractive('df-1ad99972-1baa-4be7-a1cf-7a81361751d8')\"\n",
              "            title=\"Convert this dataframe to an interactive table.\"\n",
              "            style=\"display:none;\">\n",
              "\n",
              "  <svg xmlns=\"http://www.w3.org/2000/svg\" height=\"24px\" viewBox=\"0 -960 960 960\">\n",
              "    <path d=\"M120-120v-720h720v720H120Zm60-500h600v-160H180v160Zm220 220h160v-160H400v160Zm0 220h160v-160H400v160ZM180-400h160v-160H180v160Zm440 0h160v-160H620v160ZM180-180h160v-160H180v160Zm440 0h160v-160H620v160Z\"/>\n",
              "  </svg>\n",
              "    </button>\n",
              "\n",
              "  <style>\n",
              "    .colab-df-container {\n",
              "      display:flex;\n",
              "      gap: 12px;\n",
              "    }\n",
              "\n",
              "    .colab-df-convert {\n",
              "      background-color: #E8F0FE;\n",
              "      border: none;\n",
              "      border-radius: 50%;\n",
              "      cursor: pointer;\n",
              "      display: none;\n",
              "      fill: #1967D2;\n",
              "      height: 32px;\n",
              "      padding: 0 0 0 0;\n",
              "      width: 32px;\n",
              "    }\n",
              "\n",
              "    .colab-df-convert:hover {\n",
              "      background-color: #E2EBFA;\n",
              "      box-shadow: 0px 1px 2px rgba(60, 64, 67, 0.3), 0px 1px 3px 1px rgba(60, 64, 67, 0.15);\n",
              "      fill: #174EA6;\n",
              "    }\n",
              "\n",
              "    .colab-df-buttons div {\n",
              "      margin-bottom: 4px;\n",
              "    }\n",
              "\n",
              "    [theme=dark] .colab-df-convert {\n",
              "      background-color: #3B4455;\n",
              "      fill: #D2E3FC;\n",
              "    }\n",
              "\n",
              "    [theme=dark] .colab-df-convert:hover {\n",
              "      background-color: #434B5C;\n",
              "      box-shadow: 0px 1px 3px 1px rgba(0, 0, 0, 0.15);\n",
              "      filter: drop-shadow(0px 1px 2px rgba(0, 0, 0, 0.3));\n",
              "      fill: #FFFFFF;\n",
              "    }\n",
              "  </style>\n",
              "\n",
              "    <script>\n",
              "      const buttonEl =\n",
              "        document.querySelector('#df-1ad99972-1baa-4be7-a1cf-7a81361751d8 button.colab-df-convert');\n",
              "      buttonEl.style.display =\n",
              "        google.colab.kernel.accessAllowed ? 'block' : 'none';\n",
              "\n",
              "      async function convertToInteractive(key) {\n",
              "        const element = document.querySelector('#df-1ad99972-1baa-4be7-a1cf-7a81361751d8');\n",
              "        const dataTable =\n",
              "          await google.colab.kernel.invokeFunction('convertToInteractive',\n",
              "                                                    [key], {});\n",
              "        if (!dataTable) return;\n",
              "\n",
              "        const docLinkHtml = 'Like what you see? Visit the ' +\n",
              "          '<a target=\"_blank\" href=https://colab.research.google.com/notebooks/data_table.ipynb>data table notebook</a>'\n",
              "          + ' to learn more about interactive tables.';\n",
              "        element.innerHTML = '';\n",
              "        dataTable['output_type'] = 'display_data';\n",
              "        await google.colab.output.renderOutput(dataTable, element);\n",
              "        const docLink = document.createElement('div');\n",
              "        docLink.innerHTML = docLinkHtml;\n",
              "        element.appendChild(docLink);\n",
              "      }\n",
              "    </script>\n",
              "  </div>\n",
              "\n",
              "\n",
              "<div id=\"df-170ab0ab-40f4-477c-ada0-07aa96cd1ef1\">\n",
              "  <button class=\"colab-df-quickchart\" onclick=\"quickchart('df-170ab0ab-40f4-477c-ada0-07aa96cd1ef1')\"\n",
              "            title=\"Suggest charts\"\n",
              "            style=\"display:none;\">\n",
              "\n",
              "<svg xmlns=\"http://www.w3.org/2000/svg\" height=\"24px\"viewBox=\"0 0 24 24\"\n",
              "     width=\"24px\">\n",
              "    <g>\n",
              "        <path d=\"M19 3H5c-1.1 0-2 .9-2 2v14c0 1.1.9 2 2 2h14c1.1 0 2-.9 2-2V5c0-1.1-.9-2-2-2zM9 17H7v-7h2v7zm4 0h-2V7h2v10zm4 0h-2v-4h2v4z\"/>\n",
              "    </g>\n",
              "</svg>\n",
              "  </button>\n",
              "\n",
              "<style>\n",
              "  .colab-df-quickchart {\n",
              "      --bg-color: #E8F0FE;\n",
              "      --fill-color: #1967D2;\n",
              "      --hover-bg-color: #E2EBFA;\n",
              "      --hover-fill-color: #174EA6;\n",
              "      --disabled-fill-color: #AAA;\n",
              "      --disabled-bg-color: #DDD;\n",
              "  }\n",
              "\n",
              "  [theme=dark] .colab-df-quickchart {\n",
              "      --bg-color: #3B4455;\n",
              "      --fill-color: #D2E3FC;\n",
              "      --hover-bg-color: #434B5C;\n",
              "      --hover-fill-color: #FFFFFF;\n",
              "      --disabled-bg-color: #3B4455;\n",
              "      --disabled-fill-color: #666;\n",
              "  }\n",
              "\n",
              "  .colab-df-quickchart {\n",
              "    background-color: var(--bg-color);\n",
              "    border: none;\n",
              "    border-radius: 50%;\n",
              "    cursor: pointer;\n",
              "    display: none;\n",
              "    fill: var(--fill-color);\n",
              "    height: 32px;\n",
              "    padding: 0;\n",
              "    width: 32px;\n",
              "  }\n",
              "\n",
              "  .colab-df-quickchart:hover {\n",
              "    background-color: var(--hover-bg-color);\n",
              "    box-shadow: 0 1px 2px rgba(60, 64, 67, 0.3), 0 1px 3px 1px rgba(60, 64, 67, 0.15);\n",
              "    fill: var(--button-hover-fill-color);\n",
              "  }\n",
              "\n",
              "  .colab-df-quickchart-complete:disabled,\n",
              "  .colab-df-quickchart-complete:disabled:hover {\n",
              "    background-color: var(--disabled-bg-color);\n",
              "    fill: var(--disabled-fill-color);\n",
              "    box-shadow: none;\n",
              "  }\n",
              "\n",
              "  .colab-df-spinner {\n",
              "    border: 2px solid var(--fill-color);\n",
              "    border-color: transparent;\n",
              "    border-bottom-color: var(--fill-color);\n",
              "    animation:\n",
              "      spin 1s steps(1) infinite;\n",
              "  }\n",
              "\n",
              "  @keyframes spin {\n",
              "    0% {\n",
              "      border-color: transparent;\n",
              "      border-bottom-color: var(--fill-color);\n",
              "      border-left-color: var(--fill-color);\n",
              "    }\n",
              "    20% {\n",
              "      border-color: transparent;\n",
              "      border-left-color: var(--fill-color);\n",
              "      border-top-color: var(--fill-color);\n",
              "    }\n",
              "    30% {\n",
              "      border-color: transparent;\n",
              "      border-left-color: var(--fill-color);\n",
              "      border-top-color: var(--fill-color);\n",
              "      border-right-color: var(--fill-color);\n",
              "    }\n",
              "    40% {\n",
              "      border-color: transparent;\n",
              "      border-right-color: var(--fill-color);\n",
              "      border-top-color: var(--fill-color);\n",
              "    }\n",
              "    60% {\n",
              "      border-color: transparent;\n",
              "      border-right-color: var(--fill-color);\n",
              "    }\n",
              "    80% {\n",
              "      border-color: transparent;\n",
              "      border-right-color: var(--fill-color);\n",
              "      border-bottom-color: var(--fill-color);\n",
              "    }\n",
              "    90% {\n",
              "      border-color: transparent;\n",
              "      border-bottom-color: var(--fill-color);\n",
              "    }\n",
              "  }\n",
              "</style>\n",
              "\n",
              "  <script>\n",
              "    async function quickchart(key) {\n",
              "      const quickchartButtonEl =\n",
              "        document.querySelector('#' + key + ' button');\n",
              "      quickchartButtonEl.disabled = true;  // To prevent multiple clicks.\n",
              "      quickchartButtonEl.classList.add('colab-df-spinner');\n",
              "      try {\n",
              "        const charts = await google.colab.kernel.invokeFunction(\n",
              "            'suggestCharts', [key], {});\n",
              "      } catch (error) {\n",
              "        console.error('Error during call to suggestCharts:', error);\n",
              "      }\n",
              "      quickchartButtonEl.classList.remove('colab-df-spinner');\n",
              "      quickchartButtonEl.classList.add('colab-df-quickchart-complete');\n",
              "    }\n",
              "    (() => {\n",
              "      let quickchartButtonEl =\n",
              "        document.querySelector('#df-170ab0ab-40f4-477c-ada0-07aa96cd1ef1 button');\n",
              "      quickchartButtonEl.style.display =\n",
              "        google.colab.kernel.accessAllowed ? 'block' : 'none';\n",
              "    })();\n",
              "  </script>\n",
              "</div>\n",
              "\n",
              "  <div id=\"id_ad2401ea-dd3f-447e-beb7-ddb12b34802f\">\n",
              "    <style>\n",
              "      .colab-df-generate {\n",
              "        background-color: #E8F0FE;\n",
              "        border: none;\n",
              "        border-radius: 50%;\n",
              "        cursor: pointer;\n",
              "        display: none;\n",
              "        fill: #1967D2;\n",
              "        height: 32px;\n",
              "        padding: 0 0 0 0;\n",
              "        width: 32px;\n",
              "      }\n",
              "\n",
              "      .colab-df-generate:hover {\n",
              "        background-color: #E2EBFA;\n",
              "        box-shadow: 0px 1px 2px rgba(60, 64, 67, 0.3), 0px 1px 3px 1px rgba(60, 64, 67, 0.15);\n",
              "        fill: #174EA6;\n",
              "      }\n",
              "\n",
              "      [theme=dark] .colab-df-generate {\n",
              "        background-color: #3B4455;\n",
              "        fill: #D2E3FC;\n",
              "      }\n",
              "\n",
              "      [theme=dark] .colab-df-generate:hover {\n",
              "        background-color: #434B5C;\n",
              "        box-shadow: 0px 1px 3px 1px rgba(0, 0, 0, 0.15);\n",
              "        filter: drop-shadow(0px 1px 2px rgba(0, 0, 0, 0.3));\n",
              "        fill: #FFFFFF;\n",
              "      }\n",
              "    </style>\n",
              "    <button class=\"colab-df-generate\" onclick=\"generateWithVariable('data')\"\n",
              "            title=\"Generate code using this dataframe.\"\n",
              "            style=\"display:none;\">\n",
              "\n",
              "  <svg xmlns=\"http://www.w3.org/2000/svg\" height=\"24px\"viewBox=\"0 0 24 24\"\n",
              "       width=\"24px\">\n",
              "    <path d=\"M7,19H8.4L18.45,9,17,7.55,7,17.6ZM5,21V16.75L18.45,3.32a2,2,0,0,1,2.83,0l1.4,1.43a1.91,1.91,0,0,1,.58,1.4,1.91,1.91,0,0,1-.58,1.4L9.25,21ZM18.45,9,17,7.55Zm-12,3A5.31,5.31,0,0,0,4.9,8.1,5.31,5.31,0,0,0,1,6.5,5.31,5.31,0,0,0,4.9,4.9,5.31,5.31,0,0,0,6.5,1,5.31,5.31,0,0,0,8.1,4.9,5.31,5.31,0,0,0,12,6.5,5.46,5.46,0,0,0,6.5,12Z\"/>\n",
              "  </svg>\n",
              "    </button>\n",
              "    <script>\n",
              "      (() => {\n",
              "      const buttonEl =\n",
              "        document.querySelector('#id_ad2401ea-dd3f-447e-beb7-ddb12b34802f button.colab-df-generate');\n",
              "      buttonEl.style.display =\n",
              "        google.colab.kernel.accessAllowed ? 'block' : 'none';\n",
              "\n",
              "      buttonEl.onclick = () => {\n",
              "        google.colab.notebook.generateWithVariable('data');\n",
              "      }\n",
              "      })();\n",
              "    </script>\n",
              "  </div>\n",
              "\n",
              "    </div>\n",
              "  </div>\n"
            ],
            "text/plain": [
              "           category                name  glycemic_index  glycemic_load  \\\n",
              "0             Other               Yeast            35.0            6.3   \n",
              "1             Other      Brewer’s yeast            35.0            0.0   \n",
              "2             Other        Maltodextrin            95.0           94.0   \n",
              "3             Other           Palm pulp            20.0            1.2   \n",
              "4             Other            Omelette            49.0            7.3   \n",
              "..              ...                 ...             ...            ...   \n",
              "581  Baked products  Pumpernickel Bread            45.0           21.6   \n",
              "582  Baked products          Rice Bread            70.0           48.0   \n",
              "583  Baked products          Bran bread            65.0           29.4   \n",
              "584  Baked products       Pumpkin bread            40.0           17.0   \n",
              "585  Baked products         Fruit bread            47.0           24.4   \n",
              "\n",
              "     calories (kcal)  proteins (g)  carbohydrates (g)  fats (g)  \n",
              "0              105.0           8.0               18.0       1.9  \n",
              "1               75.0          12.7                0.0       2.7  \n",
              "2              380.0           0.0               99.0       0.0  \n",
              "3              354.0           3.4                6.2      33.5  \n",
              "4              210.0          14.0               15.0       2.1  \n",
              "..               ...           ...                ...       ...  \n",
              "581            250.0           9.0               48.0       3.1  \n",
              "582            306.0           6.3               68.6       0.7  \n",
              "583            227.0           7.0               45.2       1.3  \n",
              "584            211.0           5.5               42.6       2.4  \n",
              "585            370.0           7.6               52.0       7.4  \n",
              "\n",
              "[586 rows x 8 columns]"
            ]
          },
          "execution_count": 2,
          "metadata": {},
          "output_type": "execute_result"
        }
      ],
      "source": [
        "data = pd.read_csv('https://raw.githubusercontent.com/Glucofy-Team/Glucofy-Machine-Learning/main/data/(modified)%20nutrition%20food%20dataset.csv')\n",
        "data"
      ]
    },
    {
      "cell_type": "markdown",
      "id": "UQkCjyGmbZDM",
      "metadata": {
        "id": "UQkCjyGmbZDM"
      },
      "source": [
        "**Correlation Matrix**"
      ]
    },
    {
      "cell_type": "code",
      "execution_count": null,
      "id": "VN0WsJFibcCE",
      "metadata": {
        "colab": {
          "base_uri": "https://localhost:8080/",
          "height": 578
        },
        "id": "VN0WsJFibcCE",
        "outputId": "895a749c-a031-4c44-d56b-88ddada56e40"
      },
      "outputs": [
        {
          "data": {
            "image/png": "[encoded data removed]",
            "text/plain": [
              "<Figure size 500x500 with 2 Axes>"
            ]
          },
          "metadata": {},
          "output_type": "display_data"
        }
      ],
      "source": [
        "correlation_matrix = data[['glycemic_index', 'glycemic_load', 'calories (kcal)', 'proteins (g)', 'carbohydrates (g)', 'fats (g)']].corr()\n",
        "\n",
        "plt.figure(figsize=(5, 5))\n",
        "sns.heatmap(correlation_matrix, annot=True, fmt='.2f')\n",
        "plt.title('Correlation Matrix')\n",
        "plt.show()"
      ]
    },
    {
      "cell_type": "markdown",
      "id": "Dui2Z_whcLph",
      "metadata": {
        "id": "Dui2Z_whcLph"
      },
      "source": [
        "### Preprocessing Data"
      ]
    },
    {
      "cell_type": "markdown",
      "id": "Ys74RpeScPNM",
      "metadata": {
        "id": "Ys74RpeScPNM"
      },
      "source": [
        "- Separate numeric features and target variables."
      ]
    },
    {
      "cell_type": "code",
      "execution_count": null,
      "id": "h8Gk91qP0OFN",
      "metadata": {
        "id": "h8Gk91qP0OFN"
      },
      "outputs": [],
      "source": [
        "numeric_features = ['calories (kcal)', 'proteins (g)', 'carbohydrates (g)', 'fats (g)']\n",
        "X = data[numeric_features]\n",
        "y_gi = data['glycemic_index']"
      ]
    },
    {
      "cell_type": "markdown",
      "id": "K6eqEiwucXd1",
      "metadata": {
        "id": "K6eqEiwucXd1"
      },
      "source": [
        "- Split the data into training and test sets."
      ]
    },
    {
      "cell_type": "code",
      "execution_count": null,
      "id": "a0JUTfmPcaU8",
      "metadata": {
        "id": "a0JUTfmPcaU8"
      },
      "outputs": [],
      "source": [
        "X_train, X_test, y_gi_train, y_gi_test = train_test_split(X, y_gi, test_size=0.1, random_state=42)"
      ]
    },
    {
      "cell_type": "markdown",
      "id": "BpecujVMcbB0",
      "metadata": {
        "id": "BpecujVMcbB0"
      },
      "source": [
        "- Standardize the data to ensure the input features are balanced."
      ]
    },
    {
      "cell_type": "code",
      "execution_count": null,
      "id": "lkIzyoF1Cp-h",
      "metadata": {
        "id": "lkIzyoF1Cp-h"
      },
      "outputs": [],
      "source": [
        "scaler = StandardScaler()\n",
        "X_train_scaled = scaler.fit_transform(X_train)\n",
        "X_test_scaled = scaler.transform(X_test)"
      ]
    },
    {
      "cell_type": "markdown",
      "id": "9Vn-B4fjco4E",
      "metadata": {
        "id": "9Vn-B4fjco4E"
      },
      "source": [
        "### Glycemic Index Prediction"
      ]
    },
    {
      "cell_type": "code",
      "execution_count": null,
      "id": "OnYGzTOirpHA",
      "metadata": {
        "colab": {
          "base_uri": "https://localhost:8080/"
        },
        "id": "OnYGzTOirpHA",
        "outputId": "f3406440-f35c-49ea-c2ec-5f3a1448da3e"
      },
      "outputs": [
        {
          "name": "stdout",
          "output_type": "stream",
          "text": [
            "Baseline MAE Loss: 21.54964139838549\n"
          ]
        }
      ],
      "source": [
        "baseline_pred = np.mean(y_gi_train)\n",
        "baseline_loss = np.mean(np.abs(y_gi_test - baseline_pred))\n",
        "print(f'Baseline MAE Loss: {baseline_loss}')"
      ]
    },
    {
      "cell_type": "markdown",
      "id": "0tHLd0OnPqr2",
      "metadata": {
        "id": "0tHLd0OnPqr2"
      },
      "source": [
        "#### Linear Regression"
      ]
    },
    {
      "cell_type": "code",
      "execution_count": null,
      "id": "je8XWMflPpx9",
      "metadata": {
        "id": "je8XWMflPpx9"
      },
      "outputs": [],
      "source": [
        "regression = LinearRegression()\n",
        "regression_gi = regression.fit(X_train_scaled, y_gi_train)"
      ]
    },
    {
      "cell_type": "code",
      "execution_count": null,
      "id": "4-jkmRflS067",
      "metadata": {
        "id": "4-jkmRflS067"
      },
      "outputs": [],
      "source": [
        "def model_evaluation(model, X_test, y_test):\n",
        "    y_pred = model.predict(X_test)\n",
        "\n",
        "    MAE = metrics.mean_absolute_error(y_test, y_pred)\n",
        "    MSE = metrics.mean_squared_error(y_test, y_pred)\n",
        "    RMSE = np.sqrt(MSE)\n",
        "    R2_Score = metrics.r2_score(y_test, y_pred)\n",
        "\n",
        "    return MAE, MSE, RMSE, R2_Score"
      ]
    },
    {
      "cell_type": "code",
      "execution_count": null,
      "id": "t26FyvwoVn-8",
      "metadata": {
        "id": "t26FyvwoVn-8"
      },
      "outputs": [],
      "source": [
        "reg_mae, reg_mse, reg_rmse, reg_r2 = model_evaluation(regression_gi, X_test_scaled, y_gi_test)"
      ]
    },
    {
      "cell_type": "code",
      "execution_count": null,
      "id": "d4WmkgayT2qy",
      "metadata": {
        "colab": {
          "base_uri": "https://localhost:8080/",
          "height": 89
        },
        "id": "d4WmkgayT2qy",
        "outputId": "adf8416d-0f11-4475-b3f0-6a2c9852e668"
      },
      "outputs": [
        {
          "data": {
            "application/vnd.google.colaboratory.intrinsic+json": {
              "summary": "{\n  \"name\": \"regression_gi_df\",\n  \"rows\": 1,\n  \"fields\": [\n    {\n      \"column\": \"MAE\",\n      \"properties\": {\n        \"dtype\": \"number\",\n        \"std\": null,\n        \"min\": 15.108708011213716,\n        \"max\": 15.108708011213716,\n        \"num_unique_values\": 1,\n        \"samples\": [\n          15.108708011213716\n        ],\n        \"semantic_type\": \"\",\n        \"description\": \"\"\n      }\n    },\n    {\n      \"column\": \"MSE\",\n      \"properties\": {\n        \"dtype\": \"number\",\n        \"std\": null,\n        \"min\": 328.69875830638233,\n        \"max\": 328.69875830638233,\n        \"num_unique_values\": 1,\n        \"samples\": [\n          328.69875830638233\n        ],\n        \"semantic_type\": \"\",\n        \"description\": \"\"\n      }\n    },\n    {\n      \"column\": \"RMSE\",\n      \"properties\": {\n        \"dtype\": \"number\",\n        \"std\": null,\n        \"min\": 18.130051249414116,\n        \"max\": 18.130051249414116,\n        \"num_unique_values\": 1,\n        \"samples\": [\n          18.130051249414116\n        ],\n        \"semantic_type\": \"\",\n        \"description\": \"\"\n      }\n    },\n    {\n      \"column\": \"R2-Score\",\n      \"properties\": {\n        \"dtype\": \"number\",\n        \"std\": null,\n        \"min\": 0.506491954439364,\n        \"max\": 0.506491954439364,\n        \"num_unique_values\": 1,\n        \"samples\": [\n          0.506491954439364\n        ],\n        \"semantic_type\": \"\",\n        \"description\": \"\"\n      }\n    }\n  ]\n}",
              "type": "dataframe",
              "variable_name": "regression_gi_df"
            },
            "text/html": [
              "\n",
              "  <div id=\"df-41f6fa02-4ccd-41e9-b0ba-1705d72bbb9c\" class=\"colab-df-container\">\n",
              "    <div>\n",
              "<style scoped>\n",
              "    .dataframe tbody tr th:only-of-type {\n",
              "        vertical-align: middle;\n",
              "    }\n",
              "\n",
              "    .dataframe tbody tr th {\n",
              "        vertical-align: top;\n",
              "    }\n",
              "\n",
              "    .dataframe thead th {\n",
              "        text-align: right;\n",
              "    }\n",
              "</style>\n",
              "<table border=\"1\" class=\"dataframe\">\n",
              "  <thead>\n",
              "    <tr style=\"text-align: right;\">\n",
              "      <th></th>\n",
              "      <th>MAE</th>\n",
              "      <th>MSE</th>\n",
              "      <th>RMSE</th>\n",
              "      <th>R2-Score</th>\n",
              "    </tr>\n",
              "  </thead>\n",
              "  <tbody>\n",
              "    <tr>\n",
              "      <th>Linear Reg.</th>\n",
              "      <td>15.108708</td>\n",
              "      <td>328.698758</td>\n",
              "      <td>18.130051</td>\n",
              "      <td>0.506492</td>\n",
              "    </tr>\n",
              "  </tbody>\n",
              "</table>\n",
              "</div>\n",
              "    <div class=\"colab-df-buttons\">\n",
              "\n",
              "  <div class=\"colab-df-container\">\n",
              "    <button class=\"colab-df-convert\" onclick=\"convertToInteractive('df-41f6fa02-4ccd-41e9-b0ba-1705d72bbb9c')\"\n",
              "            title=\"Convert this dataframe to an interactive table.\"\n",
              "            style=\"display:none;\">\n",
              "\n",
              "  <svg xmlns=\"http://www.w3.org/2000/svg\" height=\"24px\" viewBox=\"0 -960 960 960\">\n",
              "    <path d=\"M120-120v-720h720v720H120Zm60-500h600v-160H180v160Zm220 220h160v-160H400v160Zm0 220h160v-160H400v160ZM180-400h160v-160H180v160Zm440 0h160v-160H620v160ZM180-180h160v-160H180v160Zm440 0h160v-160H620v160Z\"/>\n",
              "  </svg>\n",
              "    </button>\n",
              "\n",
              "  <style>\n",
              "    .colab-df-container {\n",
              "      display:flex;\n",
              "      gap: 12px;\n",
              "    }\n",
              "\n",
              "    .colab-df-convert {\n",
              "      background-color: #E8F0FE;\n",
              "      border: none;\n",
              "      border-radius: 50%;\n",
              "      cursor: pointer;\n",
              "      display: none;\n",
              "      fill: #1967D2;\n",
              "      height: 32px;\n",
              "      padding: 0 0 0 0;\n",
              "      width: 32px;\n",
              "    }\n",
              "\n",
              "    .colab-df-convert:hover {\n",
              "      background-color: #E2EBFA;\n",
              "      box-shadow: 0px 1px 2px rgba(60, 64, 67, 0.3), 0px 1px 3px 1px rgba(60, 64, 67, 0.15);\n",
              "      fill: #174EA6;\n",
              "    }\n",
              "\n",
              "    .colab-df-buttons div {\n",
              "      margin-bottom: 4px;\n",
              "    }\n",
              "\n",
              "    [theme=dark] .colab-df-convert {\n",
              "      background-color: #3B4455;\n",
              "      fill: #D2E3FC;\n",
              "    }\n",
              "\n",
              "    [theme=dark] .colab-df-convert:hover {\n",
              "      background-color: #434B5C;\n",
              "      box-shadow: 0px 1px 3px 1px rgba(0, 0, 0, 0.15);\n",
              "      filter: drop-shadow(0px 1px 2px rgba(0, 0, 0, 0.3));\n",
              "      fill: #FFFFFF;\n",
              "    }\n",
              "  </style>\n",
              "\n",
              "    <script>\n",
              "      const buttonEl =\n",
              "        document.querySelector('#df-41f6fa02-4ccd-41e9-b0ba-1705d72bbb9c button.colab-df-convert');\n",
              "      buttonEl.style.display =\n",
              "        google.colab.kernel.accessAllowed ? 'block' : 'none';\n",
              "\n",
              "      async function convertToInteractive(key) {\n",
              "        const element = document.querySelector('#df-41f6fa02-4ccd-41e9-b0ba-1705d72bbb9c');\n",
              "        const dataTable =\n",
              "          await google.colab.kernel.invokeFunction('convertToInteractive',\n",
              "                                                    [key], {});\n",
              "        if (!dataTable) return;\n",
              "\n",
              "        const docLinkHtml = 'Like what you see? Visit the ' +\n",
              "          '<a target=\"_blank\" href=https://colab.research.google.com/notebooks/data_table.ipynb>data table notebook</a>'\n",
              "          + ' to learn more about interactive tables.';\n",
              "        element.innerHTML = '';\n",
              "        dataTable['output_type'] = 'display_data';\n",
              "        await google.colab.output.renderOutput(dataTable, element);\n",
              "        const docLink = document.createElement('div');\n",
              "        docLink.innerHTML = docLinkHtml;\n",
              "        element.appendChild(docLink);\n",
              "      }\n",
              "    </script>\n",
              "  </div>\n",
              "\n",
              "\n",
              "  <div id=\"id_49463709-c9e7-4c54-8b4a-8a11b8f2b9eb\">\n",
              "    <style>\n",
              "      .colab-df-generate {\n",
              "        background-color: #E8F0FE;\n",
              "        border: none;\n",
              "        border-radius: 50%;\n",
              "        cursor: pointer;\n",
              "        display: none;\n",
              "        fill: #1967D2;\n",
              "        height: 32px;\n",
              "        padding: 0 0 0 0;\n",
              "        width: 32px;\n",
              "      }\n",
              "\n",
              "      .colab-df-generate:hover {\n",
              "        background-color: #E2EBFA;\n",
              "        box-shadow: 0px 1px 2px rgba(60, 64, 67, 0.3), 0px 1px 3px 1px rgba(60, 64, 67, 0.15);\n",
              "        fill: #174EA6;\n",
              "      }\n",
              "\n",
              "      [theme=dark] .colab-df-generate {\n",
              "        background-color: #3B4455;\n",
              "        fill: #D2E3FC;\n",
              "      }\n",
              "\n",
              "      [theme=dark] .colab-df-generate:hover {\n",
              "        background-color: #434B5C;\n",
              "        box-shadow: 0px 1px 3px 1px rgba(0, 0, 0, 0.15);\n",
              "        filter: drop-shadow(0px 1px 2px rgba(0, 0, 0, 0.3));\n",
              "        fill: #FFFFFF;\n",
              "      }\n",
              "    </style>\n",
              "    <button class=\"colab-df-generate\" onclick=\"generateWithVariable('regression_gi_df')\"\n",
              "            title=\"Generate code using this dataframe.\"\n",
              "            style=\"display:none;\">\n",
              "\n",
              "  <svg xmlns=\"http://www.w3.org/2000/svg\" height=\"24px\"viewBox=\"0 0 24 24\"\n",
              "       width=\"24px\">\n",
              "    <path d=\"M7,19H8.4L18.45,9,17,7.55,7,17.6ZM5,21V16.75L18.45,3.32a2,2,0,0,1,2.83,0l1.4,1.43a1.91,1.91,0,0,1,.58,1.4,1.91,1.91,0,0,1-.58,1.4L9.25,21ZM18.45,9,17,7.55Zm-12,3A5.31,5.31,0,0,0,4.9,8.1,5.31,5.31,0,0,0,1,6.5,5.31,5.31,0,0,0,4.9,4.9,5.31,5.31,0,0,0,6.5,1,5.31,5.31,0,0,0,8.1,4.9,5.31,5.31,0,0,0,12,6.5,5.46,5.46,0,0,0,6.5,12Z\"/>\n",
              "  </svg>\n",
              "    </button>\n",
              "    <script>\n",
              "      (() => {\n",
              "      const buttonEl =\n",
              "        document.querySelector('#id_49463709-c9e7-4c54-8b4a-8a11b8f2b9eb button.colab-df-generate');\n",
              "      buttonEl.style.display =\n",
              "        google.colab.kernel.accessAllowed ? 'block' : 'none';\n",
              "\n",
              "      buttonEl.onclick = () => {\n",
              "        google.colab.notebook.generateWithVariable('regression_gi_df');\n",
              "      }\n",
              "      })();\n",
              "    </script>\n",
              "  </div>\n",
              "\n",
              "    </div>\n",
              "  </div>\n"
            ],
            "text/plain": [
              "                   MAE         MSE       RMSE  R2-Score\n",
              "Linear Reg.  15.108708  328.698758  18.130051  0.506492"
            ]
          },
          "execution_count": 11,
          "metadata": {},
          "output_type": "execute_result"
        }
      ],
      "source": [
        "regression_gi_df = pd.DataFrame([[reg_mae, reg_mse, reg_rmse, reg_r2]],\n",
        "                                index=['Linear Reg.'],\n",
        "                                columns=['MAE', 'MSE', 'RMSE' ,'R2-Score'])\n",
        "\n",
        "regression_gi_df"
      ]
    },
    {
      "cell_type": "markdown",
      "id": "dxVJdFRQVk8P",
      "metadata": {
        "id": "dxVJdFRQVk8P"
      },
      "source": [
        "#### Decision Tree"
      ]
    },
    {
      "cell_type": "code",
      "execution_count": null,
      "id": "_nymw1BoVEPu",
      "metadata": {
        "colab": {
          "base_uri": "https://localhost:8080/",
          "height": 91
        },
        "id": "_nymw1BoVEPu",
        "outputId": "90c25523-af44-4d9f-c001-ced84fa71bcc"
      },
      "outputs": [
        {
          "data": {
            "text/html": [
              "<style>#sk-container-id-1 {color: black;background-color: white;}#sk-container-id-1 pre{padding: 0;}#sk-container-id-1 div.sk-toggleable {background-color: white;}#sk-container-id-1 label.sk-toggleable__label {cursor: pointer;display: block;width: 100%;margin-bottom: 0;padding: 0.3em;box-sizing: border-box;text-align: center;}#sk-container-id-1 label.sk-toggleable__label-arrow:before {content: \"▸\";float: left;margin-right: 0.25em;color: #696969;}#sk-container-id-1 label.sk-toggleable__label-arrow:hover:before {color: black;}#sk-container-id-1 div.sk-estimator:hover label.sk-toggleable__label-arrow:before {color: black;}#sk-container-id-1 div.sk-toggleable__content {max-height: 0;max-width: 0;overflow: hidden;text-align: left;background-color: #f0f8ff;}#sk-container-id-1 div.sk-toggleable__content pre {margin: 0.2em;color: black;border-radius: 0.25em;background-color: #f0f8ff;}#sk-container-id-1 input.sk-toggleable__control:checked~div.sk-toggleable__content {max-height: 200px;max-width: 100%;overflow: auto;}#sk-container-id-1 input.sk-toggleable__control:checked~label.sk-toggleable__label-arrow:before {content: \"▾\";}#sk-container-id-1 div.sk-estimator input.sk-toggleable__control:checked~label.sk-toggleable__label {background-color: #d4ebff;}#sk-container-id-1 div.sk-label input.sk-toggleable__control:checked~label.sk-toggleable__label {background-color: #d4ebff;}#sk-container-id-1 input.sk-hidden--visually {border: 0;clip: rect(1px 1px 1px 1px);clip: rect(1px, 1px, 1px, 1px);height: 1px;margin: -1px;overflow: hidden;padding: 0;position: absolute;width: 1px;}#sk-container-id-1 div.sk-estimator {font-family: monospace;background-color: #f0f8ff;border: 1px dotted black;border-radius: 0.25em;box-sizing: border-box;margin-bottom: 0.5em;}#sk-container-id-1 div.sk-estimator:hover {background-color: #d4ebff;}#sk-container-id-1 div.sk-parallel-item::after {content: \"\";width: 100%;border-bottom: 1px solid gray;flex-grow: 1;}#sk-container-id-1 div.sk-label:hover label.sk-toggleable__label {background-color: #d4ebff;}#sk-container-id-1 div.sk-serial::before {content: \"\";position: absolute;border-left: 1px solid gray;box-sizing: border-box;top: 0;bottom: 0;left: 50%;z-index: 0;}#sk-container-id-1 div.sk-serial {display: flex;flex-direction: column;align-items: center;background-color: white;padding-right: 0.2em;padding-left: 0.2em;position: relative;}#sk-container-id-1 div.sk-item {position: relative;z-index: 1;}#sk-container-id-1 div.sk-parallel {display: flex;align-items: stretch;justify-content: center;background-color: white;position: relative;}#sk-container-id-1 div.sk-item::before, #sk-container-id-1 div.sk-parallel-item::before {content: \"\";position: absolute;border-left: 1px solid gray;box-sizing: border-box;top: 0;bottom: 0;left: 50%;z-index: -1;}#sk-container-id-1 div.sk-parallel-item {display: flex;flex-direction: column;z-index: 1;position: relative;background-color: white;}#sk-container-id-1 div.sk-parallel-item:first-child::after {align-self: flex-end;width: 50%;}#sk-container-id-1 div.sk-parallel-item:last-child::after {align-self: flex-start;width: 50%;}#sk-container-id-1 div.sk-parallel-item:only-child::after {width: 0;}#sk-container-id-1 div.sk-dashed-wrapped {border: 1px dashed gray;margin: 0 0.4em 0.5em 0.4em;box-sizing: border-box;padding-bottom: 0.4em;background-color: white;}#sk-container-id-1 div.sk-label label {font-family: monospace;font-weight: bold;display: inline-block;line-height: 1.2em;}#sk-container-id-1 div.sk-label-container {text-align: center;}#sk-container-id-1 div.sk-container {/* jupyter's `normalize.less` sets `[hidden] { display: none; }` but bootstrap.min.css set `[hidden] { display: none !important; }` so we also need the `!important` here to be able to override the default hidden behavior on the sphinx rendered scikit-learn.org. See: https://github.com/scikit-learn/scikit-learn/issues/21755 */display: inline-block !important;position: relative;}#sk-container-id-1 div.sk-text-repr-fallback {display: none;}</style><div id=\"sk-container-id-1\" class=\"sk-top-container\"><div class=\"sk-text-repr-fallback\"><pre>DecisionTreeRegressor(max_depth=5, min_samples_leaf=2, min_samples_split=5,\n",
              "                      random_state=42)</pre><b>In a Jupyter environment, please rerun this cell to show the HTML representation or trust the notebook. <br />On GitHub, the HTML representation is unable to render, please try loading this page with nbviewer.org.</b></div><div class=\"sk-container\" hidden><div class=\"sk-item\"><div class=\"sk-estimator sk-toggleable\"><input class=\"sk-toggleable__control sk-hidden--visually\" id=\"sk-estimator-id-1\" type=\"checkbox\" checked><label for=\"sk-estimator-id-1\" class=\"sk-toggleable__label sk-toggleable__label-arrow\">DecisionTreeRegressor</label><div class=\"sk-toggleable__content\"><pre>DecisionTreeRegressor(max_depth=5, min_samples_leaf=2, min_samples_split=5,\n",
              "                      random_state=42)</pre></div></div></div></div></div>"
            ],
            "text/plain": [
              "DecisionTreeRegressor(max_depth=5, min_samples_leaf=2, min_samples_split=5,\n",
              "                      random_state=42)"
            ]
          },
          "execution_count": 12,
          "metadata": {},
          "output_type": "execute_result"
        }
      ],
      "source": [
        "tree_regressor = DecisionTreeRegressor(\n",
        "    max_depth=5,\n",
        "    min_samples_split=5,\n",
        "    min_samples_leaf=2,\n",
        "    random_state=42\n",
        ")\n",
        "\n",
        "tree_regressor.fit(X_train_scaled, y_gi_train)"
      ]
    },
    {
      "cell_type": "code",
      "execution_count": null,
      "id": "PlB5ehKFVWAD",
      "metadata": {
        "colab": {
          "base_uri": "https://localhost:8080/",
          "height": 89
        },
        "id": "PlB5ehKFVWAD",
        "outputId": "522dc28b-acd5-42d2-b6d9-ac05a24e00bd"
      },
      "outputs": [
        {
          "data": {
            "application/vnd.google.colaboratory.intrinsic+json": {
              "summary": "{\n  \"name\": \"tree_gi_df\",\n  \"rows\": 1,\n  \"fields\": [\n    {\n      \"column\": \"MAE\",\n      \"properties\": {\n        \"dtype\": \"number\",\n        \"std\": null,\n        \"min\": 13.877474789328906,\n        \"max\": 13.877474789328906,\n        \"num_unique_values\": 1,\n        \"samples\": [\n          13.877474789328906\n        ],\n        \"semantic_type\": \"\",\n        \"description\": \"\"\n      }\n    },\n    {\n      \"column\": \"MSE\",\n      \"properties\": {\n        \"dtype\": \"number\",\n        \"std\": null,\n        \"min\": 336.3769533007712,\n        \"max\": 336.3769533007712,\n        \"num_unique_values\": 1,\n        \"samples\": [\n          336.3769533007712\n        ],\n        \"semantic_type\": \"\",\n        \"description\": \"\"\n      }\n    },\n    {\n      \"column\": \"RMSE\",\n      \"properties\": {\n        \"dtype\": \"number\",\n        \"std\": null,\n        \"min\": 18.340582141817944,\n        \"max\": 18.340582141817944,\n        \"num_unique_values\": 1,\n        \"samples\": [\n          18.340582141817944\n        ],\n        \"semantic_type\": \"\",\n        \"description\": \"\"\n      }\n    },\n    {\n      \"column\": \"R2-Score\",\n      \"properties\": {\n        \"dtype\": \"number\",\n        \"std\": null,\n        \"min\": 0.49496391878556834,\n        \"max\": 0.49496391878556834,\n        \"num_unique_values\": 1,\n        \"samples\": [\n          0.49496391878556834\n        ],\n        \"semantic_type\": \"\",\n        \"description\": \"\"\n      }\n    }\n  ]\n}",
              "type": "dataframe",
              "variable_name": "tree_gi_df"
            },
            "text/html": [
              "\n",
              "  <div id=\"df-efeda607-f8b4-4789-a975-325c29b75b86\" class=\"colab-df-container\">\n",
              "    <div>\n",
              "<style scoped>\n",
              "    .dataframe tbody tr th:only-of-type {\n",
              "        vertical-align: middle;\n",
              "    }\n",
              "\n",
              "    .dataframe tbody tr th {\n",
              "        vertical-align: top;\n",
              "    }\n",
              "\n",
              "    .dataframe thead th {\n",
              "        text-align: right;\n",
              "    }\n",
              "</style>\n",
              "<table border=\"1\" class=\"dataframe\">\n",
              "  <thead>\n",
              "    <tr style=\"text-align: right;\">\n",
              "      <th></th>\n",
              "      <th>MAE</th>\n",
              "      <th>MSE</th>\n",
              "      <th>RMSE</th>\n",
              "      <th>R2-Score</th>\n",
              "    </tr>\n",
              "  </thead>\n",
              "  <tbody>\n",
              "    <tr>\n",
              "      <th>Decision Tree</th>\n",
              "      <td>13.877475</td>\n",
              "      <td>336.376953</td>\n",
              "      <td>18.340582</td>\n",
              "      <td>0.494964</td>\n",
              "    </tr>\n",
              "  </tbody>\n",
              "</table>\n",
              "</div>\n",
              "    <div class=\"colab-df-buttons\">\n",
              "\n",
              "  <div class=\"colab-df-container\">\n",
              "    <button class=\"colab-df-convert\" onclick=\"convertToInteractive('df-efeda607-f8b4-4789-a975-325c29b75b86')\"\n",
              "            title=\"Convert this dataframe to an interactive table.\"\n",
              "            style=\"display:none;\">\n",
              "\n",
              "  <svg xmlns=\"http://www.w3.org/2000/svg\" height=\"24px\" viewBox=\"0 -960 960 960\">\n",
              "    <path d=\"M120-120v-720h720v720H120Zm60-500h600v-160H180v160Zm220 220h160v-160H400v160Zm0 220h160v-160H400v160ZM180-400h160v-160H180v160Zm440 0h160v-160H620v160ZM180-180h160v-160H180v160Zm440 0h160v-160H620v160Z\"/>\n",
              "  </svg>\n",
              "    </button>\n",
              "\n",
              "  <style>\n",
              "    .colab-df-container {\n",
              "      display:flex;\n",
              "      gap: 12px;\n",
              "    }\n",
              "\n",
              "    .colab-df-convert {\n",
              "      background-color: #E8F0FE;\n",
              "      border: none;\n",
              "      border-radius: 50%;\n",
              "      cursor: pointer;\n",
              "      display: none;\n",
              "      fill: #1967D2;\n",
              "      height: 32px;\n",
              "      padding: 0 0 0 0;\n",
              "      width: 32px;\n",
              "    }\n",
              "\n",
              "    .colab-df-convert:hover {\n",
              "      background-color: #E2EBFA;\n",
              "      box-shadow: 0px 1px 2px rgba(60, 64, 67, 0.3), 0px 1px 3px 1px rgba(60, 64, 67, 0.15);\n",
              "      fill: #174EA6;\n",
              "    }\n",
              "\n",
              "    .colab-df-buttons div {\n",
              "      margin-bottom: 4px;\n",
              "    }\n",
              "\n",
              "    [theme=dark] .colab-df-convert {\n",
              "      background-color: #3B4455;\n",
              "      fill: #D2E3FC;\n",
              "    }\n",
              "\n",
              "    [theme=dark] .colab-df-convert:hover {\n",
              "      background-color: #434B5C;\n",
              "      box-shadow: 0px 1px 3px 1px rgba(0, 0, 0, 0.15);\n",
              "      filter: drop-shadow(0px 1px 2px rgba(0, 0, 0, 0.3));\n",
              "      fill: #FFFFFF;\n",
              "    }\n",
              "  </style>\n",
              "\n",
              "    <script>\n",
              "      const buttonEl =\n",
              "        document.querySelector('#df-efeda607-f8b4-4789-a975-325c29b75b86 button.colab-df-convert');\n",
              "      buttonEl.style.display =\n",
              "        google.colab.kernel.accessAllowed ? 'block' : 'none';\n",
              "\n",
              "      async function convertToInteractive(key) {\n",
              "        const element = document.querySelector('#df-efeda607-f8b4-4789-a975-325c29b75b86');\n",
              "        const dataTable =\n",
              "          await google.colab.kernel.invokeFunction('convertToInteractive',\n",
              "                                                    [key], {});\n",
              "        if (!dataTable) return;\n",
              "\n",
              "        const docLinkHtml = 'Like what you see? Visit the ' +\n",
              "          '<a target=\"_blank\" href=https://colab.research.google.com/notebooks/data_table.ipynb>data table notebook</a>'\n",
              "          + ' to learn more about interactive tables.';\n",
              "        element.innerHTML = '';\n",
              "        dataTable['output_type'] = 'display_data';\n",
              "        await google.colab.output.renderOutput(dataTable, element);\n",
              "        const docLink = document.createElement('div');\n",
              "        docLink.innerHTML = docLinkHtml;\n",
              "        element.appendChild(docLink);\n",
              "      }\n",
              "    </script>\n",
              "  </div>\n",
              "\n",
              "\n",
              "  <div id=\"id_6d59c751-0c06-428d-8aa0-f90d44735fbe\">\n",
              "    <style>\n",
              "      .colab-df-generate {\n",
              "        background-color: #E8F0FE;\n",
              "        border: none;\n",
              "        border-radius: 50%;\n",
              "        cursor: pointer;\n",
              "        display: none;\n",
              "        fill: #1967D2;\n",
              "        height: 32px;\n",
              "        padding: 0 0 0 0;\n",
              "        width: 32px;\n",
              "      }\n",
              "\n",
              "      .colab-df-generate:hover {\n",
              "        background-color: #E2EBFA;\n",
              "        box-shadow: 0px 1px 2px rgba(60, 64, 67, 0.3), 0px 1px 3px 1px rgba(60, 64, 67, 0.15);\n",
              "        fill: #174EA6;\n",
              "      }\n",
              "\n",
              "      [theme=dark] .colab-df-generate {\n",
              "        background-color: #3B4455;\n",
              "        fill: #D2E3FC;\n",
              "      }\n",
              "\n",
              "      [theme=dark] .colab-df-generate:hover {\n",
              "        background-color: #434B5C;\n",
              "        box-shadow: 0px 1px 3px 1px rgba(0, 0, 0, 0.15);\n",
              "        filter: drop-shadow(0px 1px 2px rgba(0, 0, 0, 0.3));\n",
              "        fill: #FFFFFF;\n",
              "      }\n",
              "    </style>\n",
              "    <button class=\"colab-df-generate\" onclick=\"generateWithVariable('tree_gi_df')\"\n",
              "            title=\"Generate code using this dataframe.\"\n",
              "            style=\"display:none;\">\n",
              "\n",
              "  <svg xmlns=\"http://www.w3.org/2000/svg\" height=\"24px\"viewBox=\"0 0 24 24\"\n",
              "       width=\"24px\">\n",
              "    <path d=\"M7,19H8.4L18.45,9,17,7.55,7,17.6ZM5,21V16.75L18.45,3.32a2,2,0,0,1,2.83,0l1.4,1.43a1.91,1.91,0,0,1,.58,1.4,1.91,1.91,0,0,1-.58,1.4L9.25,21ZM18.45,9,17,7.55Zm-12,3A5.31,5.31,0,0,0,4.9,8.1,5.31,5.31,0,0,0,1,6.5,5.31,5.31,0,0,0,4.9,4.9,5.31,5.31,0,0,0,6.5,1,5.31,5.31,0,0,0,8.1,4.9,5.31,5.31,0,0,0,12,6.5,5.46,5.46,0,0,0,6.5,12Z\"/>\n",
              "  </svg>\n",
              "    </button>\n",
              "    <script>\n",
              "      (() => {\n",
              "      const buttonEl =\n",
              "        document.querySelector('#id_6d59c751-0c06-428d-8aa0-f90d44735fbe button.colab-df-generate');\n",
              "      buttonEl.style.display =\n",
              "        google.colab.kernel.accessAllowed ? 'block' : 'none';\n",
              "\n",
              "      buttonEl.onclick = () => {\n",
              "        google.colab.notebook.generateWithVariable('tree_gi_df');\n",
              "      }\n",
              "      })();\n",
              "    </script>\n",
              "  </div>\n",
              "\n",
              "    </div>\n",
              "  </div>\n"
            ],
            "text/plain": [
              "                     MAE         MSE       RMSE  R2-Score\n",
              "Decision Tree  13.877475  336.376953  18.340582  0.494964"
            ]
          },
          "execution_count": 13,
          "metadata": {},
          "output_type": "execute_result"
        }
      ],
      "source": [
        "tree_mae, tree_mse, tree_rmse, tree_r2 = model_evaluation(tree_regressor, X_test_scaled, y_gi_test)\n",
        "\n",
        "tree_gi_df = pd.DataFrame([[tree_mae, tree_mse, tree_rmse, tree_r2]],\n",
        "                                index=['Decision Tree'],\n",
        "                                columns=['MAE', 'MSE', 'RMSE' ,'R2-Score'])\n",
        "\n",
        "tree_gi_df"
      ]
    },
    {
      "cell_type": "markdown",
      "id": "E7Coy-bZV4T7",
      "metadata": {
        "id": "E7Coy-bZV4T7"
      },
      "source": [
        "#### Support Vector Regression"
      ]
    },
    {
      "cell_type": "code",
      "execution_count": null,
      "id": "jEnndTlUV2SD",
      "metadata": {
        "colab": {
          "base_uri": "https://localhost:8080/",
          "height": 74
        },
        "id": "jEnndTlUV2SD",
        "outputId": "f69cfc1a-ba4b-4d0d-8ff1-b2cfc3776dc1"
      },
      "outputs": [
        {
          "data": {
            "text/html": [
              "<style>#sk-container-id-2 {color: black;background-color: white;}#sk-container-id-2 pre{padding: 0;}#sk-container-id-2 div.sk-toggleable {background-color: white;}#sk-container-id-2 label.sk-toggleable__label {cursor: pointer;display: block;width: 100%;margin-bottom: 0;padding: 0.3em;box-sizing: border-box;text-align: center;}#sk-container-id-2 label.sk-toggleable__label-arrow:before {content: \"▸\";float: left;margin-right: 0.25em;color: #696969;}#sk-container-id-2 label.sk-toggleable__label-arrow:hover:before {color: black;}#sk-container-id-2 div.sk-estimator:hover label.sk-toggleable__label-arrow:before {color: black;}#sk-container-id-2 div.sk-toggleable__content {max-height: 0;max-width: 0;overflow: hidden;text-align: left;background-color: #f0f8ff;}#sk-container-id-2 div.sk-toggleable__content pre {margin: 0.2em;color: black;border-radius: 0.25em;background-color: #f0f8ff;}#sk-container-id-2 input.sk-toggleable__control:checked~div.sk-toggleable__content {max-height: 200px;max-width: 100%;overflow: auto;}#sk-container-id-2 input.sk-toggleable__control:checked~label.sk-toggleable__label-arrow:before {content: \"▾\";}#sk-container-id-2 div.sk-estimator input.sk-toggleable__control:checked~label.sk-toggleable__label {background-color: #d4ebff;}#sk-container-id-2 div.sk-label input.sk-toggleable__control:checked~label.sk-toggleable__label {background-color: #d4ebff;}#sk-container-id-2 input.sk-hidden--visually {border: 0;clip: rect(1px 1px 1px 1px);clip: rect(1px, 1px, 1px, 1px);height: 1px;margin: -1px;overflow: hidden;padding: 0;position: absolute;width: 1px;}#sk-container-id-2 div.sk-estimator {font-family: monospace;background-color: #f0f8ff;border: 1px dotted black;border-radius: 0.25em;box-sizing: border-box;margin-bottom: 0.5em;}#sk-container-id-2 div.sk-estimator:hover {background-color: #d4ebff;}#sk-container-id-2 div.sk-parallel-item::after {content: \"\";width: 100%;border-bottom: 1px solid gray;flex-grow: 1;}#sk-container-id-2 div.sk-label:hover label.sk-toggleable__label {background-color: #d4ebff;}#sk-container-id-2 div.sk-serial::before {content: \"\";position: absolute;border-left: 1px solid gray;box-sizing: border-box;top: 0;bottom: 0;left: 50%;z-index: 0;}#sk-container-id-2 div.sk-serial {display: flex;flex-direction: column;align-items: center;background-color: white;padding-right: 0.2em;padding-left: 0.2em;position: relative;}#sk-container-id-2 div.sk-item {position: relative;z-index: 1;}#sk-container-id-2 div.sk-parallel {display: flex;align-items: stretch;justify-content: center;background-color: white;position: relative;}#sk-container-id-2 div.sk-item::before, #sk-container-id-2 div.sk-parallel-item::before {content: \"\";position: absolute;border-left: 1px solid gray;box-sizing: border-box;top: 0;bottom: 0;left: 50%;z-index: -1;}#sk-container-id-2 div.sk-parallel-item {display: flex;flex-direction: column;z-index: 1;position: relative;background-color: white;}#sk-container-id-2 div.sk-parallel-item:first-child::after {align-self: flex-end;width: 50%;}#sk-container-id-2 div.sk-parallel-item:last-child::after {align-self: flex-start;width: 50%;}#sk-container-id-2 div.sk-parallel-item:only-child::after {width: 0;}#sk-container-id-2 div.sk-dashed-wrapped {border: 1px dashed gray;margin: 0 0.4em 0.5em 0.4em;box-sizing: border-box;padding-bottom: 0.4em;background-color: white;}#sk-container-id-2 div.sk-label label {font-family: monospace;font-weight: bold;display: inline-block;line-height: 1.2em;}#sk-container-id-2 div.sk-label-container {text-align: center;}#sk-container-id-2 div.sk-container {/* jupyter's `normalize.less` sets `[hidden] { display: none; }` but bootstrap.min.css set `[hidden] { display: none !important; }` so we also need the `!important` here to be able to override the default hidden behavior on the sphinx rendered scikit-learn.org. See: https://github.com/scikit-learn/scikit-learn/issues/21755 */display: inline-block !important;position: relative;}#sk-container-id-2 div.sk-text-repr-fallback {display: none;}</style><div id=\"sk-container-id-2\" class=\"sk-top-container\"><div class=\"sk-text-repr-fallback\"><pre>SVR(C=30.0, epsilon=0.01)</pre><b>In a Jupyter environment, please rerun this cell to show the HTML representation or trust the notebook. <br />On GitHub, the HTML representation is unable to render, please try loading this page with nbviewer.org.</b></div><div class=\"sk-container\" hidden><div class=\"sk-item\"><div class=\"sk-estimator sk-toggleable\"><input class=\"sk-toggleable__control sk-hidden--visually\" id=\"sk-estimator-id-2\" type=\"checkbox\" checked><label for=\"sk-estimator-id-2\" class=\"sk-toggleable__label sk-toggleable__label-arrow\">SVR</label><div class=\"sk-toggleable__content\"><pre>SVR(C=30.0, epsilon=0.01)</pre></div></div></div></div></div>"
            ],
            "text/plain": [
              "SVR(C=30.0, epsilon=0.01)"
            ]
          },
          "execution_count": 14,
          "metadata": {},
          "output_type": "execute_result"
        }
      ],
      "source": [
        "svr_regressor = SVR(kernel='rbf', C=30.0, epsilon=0.01)\n",
        "svr_regressor.fit(X_train_scaled, y_gi_train)"
      ]
    },
    {
      "cell_type": "code",
      "execution_count": null,
      "id": "uN4CZMBGWE6J",
      "metadata": {
        "colab": {
          "base_uri": "https://localhost:8080/",
          "height": 89
        },
        "id": "uN4CZMBGWE6J",
        "outputId": "c937f82a-2b53-45e8-c48c-96b0a58ad1cb"
      },
      "outputs": [
        {
          "data": {
            "application/vnd.google.colaboratory.intrinsic+json": {
              "summary": "{\n  \"name\": \"svr_gi_df\",\n  \"rows\": 1,\n  \"fields\": [\n    {\n      \"column\": \"MAE\",\n      \"properties\": {\n        \"dtype\": \"number\",\n        \"std\": null,\n        \"min\": 12.715426346871613,\n        \"max\": 12.715426346871613,\n        \"num_unique_values\": 1,\n        \"samples\": [\n          12.715426346871613\n        ],\n        \"semantic_type\": \"\",\n        \"description\": \"\"\n      }\n    },\n    {\n      \"column\": \"MSE\",\n      \"properties\": {\n        \"dtype\": \"number\",\n        \"std\": null,\n        \"min\": 269.5904714928634,\n        \"max\": 269.5904714928634,\n        \"num_unique_values\": 1,\n        \"samples\": [\n          269.5904714928634\n        ],\n        \"semantic_type\": \"\",\n        \"description\": \"\"\n      }\n    },\n    {\n      \"column\": \"RMSE\",\n      \"properties\": {\n        \"dtype\": \"number\",\n        \"std\": null,\n        \"min\": 16.41921044060473,\n        \"max\": 16.41921044060473,\n        \"num_unique_values\": 1,\n        \"samples\": [\n          16.41921044060473\n        ],\n        \"semantic_type\": \"\",\n        \"description\": \"\"\n      }\n    },\n    {\n      \"column\": \"R2-Score\",\n      \"properties\": {\n        \"dtype\": \"number\",\n        \"std\": null,\n        \"min\": 0.5952370876795305,\n        \"max\": 0.5952370876795305,\n        \"num_unique_values\": 1,\n        \"samples\": [\n          0.5952370876795305\n        ],\n        \"semantic_type\": \"\",\n        \"description\": \"\"\n      }\n    }\n  ]\n}",
              "type": "dataframe",
              "variable_name": "svr_gi_df"
            },
            "text/html": [
              "\n",
              "  <div id=\"df-14325940-d8d0-4d99-a9d2-655da975facd\" class=\"colab-df-container\">\n",
              "    <div>\n",
              "<style scoped>\n",
              "    .dataframe tbody tr th:only-of-type {\n",
              "        vertical-align: middle;\n",
              "    }\n",
              "\n",
              "    .dataframe tbody tr th {\n",
              "        vertical-align: top;\n",
              "    }\n",
              "\n",
              "    .dataframe thead th {\n",
              "        text-align: right;\n",
              "    }\n",
              "</style>\n",
              "<table border=\"1\" class=\"dataframe\">\n",
              "  <thead>\n",
              "    <tr style=\"text-align: right;\">\n",
              "      <th></th>\n",
              "      <th>MAE</th>\n",
              "      <th>MSE</th>\n",
              "      <th>RMSE</th>\n",
              "      <th>R2-Score</th>\n",
              "    </tr>\n",
              "  </thead>\n",
              "  <tbody>\n",
              "    <tr>\n",
              "      <th>SVR</th>\n",
              "      <td>12.715426</td>\n",
              "      <td>269.590471</td>\n",
              "      <td>16.41921</td>\n",
              "      <td>0.595237</td>\n",
              "    </tr>\n",
              "  </tbody>\n",
              "</table>\n",
              "</div>\n",
              "    <div class=\"colab-df-buttons\">\n",
              "\n",
              "  <div class=\"colab-df-container\">\n",
              "    <button class=\"colab-df-convert\" onclick=\"convertToInteractive('df-14325940-d8d0-4d99-a9d2-655da975facd')\"\n",
              "            title=\"Convert this dataframe to an interactive table.\"\n",
              "            style=\"display:none;\">\n",
              "\n",
              "  <svg xmlns=\"http://www.w3.org/2000/svg\" height=\"24px\" viewBox=\"0 -960 960 960\">\n",
              "    <path d=\"M120-120v-720h720v720H120Zm60-500h600v-160H180v160Zm220 220h160v-160H400v160Zm0 220h160v-160H400v160ZM180-400h160v-160H180v160Zm440 0h160v-160H620v160ZM180-180h160v-160H180v160Zm440 0h160v-160H620v160Z\"/>\n",
              "  </svg>\n",
              "    </button>\n",
              "\n",
              "  <style>\n",
              "    .colab-df-container {\n",
              "      display:flex;\n",
              "      gap: 12px;\n",
              "    }\n",
              "\n",
              "    .colab-df-convert {\n",
              "      background-color: #E8F0FE;\n",
              "      border: none;\n",
              "      border-radius: 50%;\n",
              "      cursor: pointer;\n",
              "      display: none;\n",
              "      fill: #1967D2;\n",
              "      height: 32px;\n",
              "      padding: 0 0 0 0;\n",
              "      width: 32px;\n",
              "    }\n",
              "\n",
              "    .colab-df-convert:hover {\n",
              "      background-color: #E2EBFA;\n",
              "      box-shadow: 0px 1px 2px rgba(60, 64, 67, 0.3), 0px 1px 3px 1px rgba(60, 64, 67, 0.15);\n",
              "      fill: #174EA6;\n",
              "    }\n",
              "\n",
              "    .colab-df-buttons div {\n",
              "      margin-bottom: 4px;\n",
              "    }\n",
              "\n",
              "    [theme=dark] .colab-df-convert {\n",
              "      background-color: #3B4455;\n",
              "      fill: #D2E3FC;\n",
              "    }\n",
              "\n",
              "    [theme=dark] .colab-df-convert:hover {\n",
              "      background-color: #434B5C;\n",
              "      box-shadow: 0px 1px 3px 1px rgba(0, 0, 0, 0.15);\n",
              "      filter: drop-shadow(0px 1px 2px rgba(0, 0, 0, 0.3));\n",
              "      fill: #FFFFFF;\n",
              "    }\n",
              "  </style>\n",
              "\n",
              "    <script>\n",
              "      const buttonEl =\n",
              "        document.querySelector('#df-14325940-d8d0-4d99-a9d2-655da975facd button.colab-df-convert');\n",
              "      buttonEl.style.display =\n",
              "        google.colab.kernel.accessAllowed ? 'block' : 'none';\n",
              "\n",
              "      async function convertToInteractive(key) {\n",
              "        const element = document.querySelector('#df-14325940-d8d0-4d99-a9d2-655da975facd');\n",
              "        const dataTable =\n",
              "          await google.colab.kernel.invokeFunction('convertToInteractive',\n",
              "                                                    [key], {});\n",
              "        if (!dataTable) return;\n",
              "\n",
              "        const docLinkHtml = 'Like what you see? Visit the ' +\n",
              "          '<a target=\"_blank\" href=https://colab.research.google.com/notebooks/data_table.ipynb>data table notebook</a>'\n",
              "          + ' to learn more about interactive tables.';\n",
              "        element.innerHTML = '';\n",
              "        dataTable['output_type'] = 'display_data';\n",
              "        await google.colab.output.renderOutput(dataTable, element);\n",
              "        const docLink = document.createElement('div');\n",
              "        docLink.innerHTML = docLinkHtml;\n",
              "        element.appendChild(docLink);\n",
              "      }\n",
              "    </script>\n",
              "  </div>\n",
              "\n",
              "\n",
              "  <div id=\"id_d76c380a-6568-428e-beb7-b1d3bf6fa001\">\n",
              "    <style>\n",
              "      .colab-df-generate {\n",
              "        background-color: #E8F0FE;\n",
              "        border: none;\n",
              "        border-radius: 50%;\n",
              "        cursor: pointer;\n",
              "        display: none;\n",
              "        fill: #1967D2;\n",
              "        height: 32px;\n",
              "        padding: 0 0 0 0;\n",
              "        width: 32px;\n",
              "      }\n",
              "\n",
              "      .colab-df-generate:hover {\n",
              "        background-color: #E2EBFA;\n",
              "        box-shadow: 0px 1px 2px rgba(60, 64, 67, 0.3), 0px 1px 3px 1px rgba(60, 64, 67, 0.15);\n",
              "        fill: #174EA6;\n",
              "      }\n",
              "\n",
              "      [theme=dark] .colab-df-generate {\n",
              "        background-color: #3B4455;\n",
              "        fill: #D2E3FC;\n",
              "      }\n",
              "\n",
              "      [theme=dark] .colab-df-generate:hover {\n",
              "        background-color: #434B5C;\n",
              "        box-shadow: 0px 1px 3px 1px rgba(0, 0, 0, 0.15);\n",
              "        filter: drop-shadow(0px 1px 2px rgba(0, 0, 0, 0.3));\n",
              "        fill: #FFFFFF;\n",
              "      }\n",
              "    </style>\n",
              "    <button class=\"colab-df-generate\" onclick=\"generateWithVariable('svr_gi_df')\"\n",
              "            title=\"Generate code using this dataframe.\"\n",
              "            style=\"display:none;\">\n",
              "\n",
              "  <svg xmlns=\"http://www.w3.org/2000/svg\" height=\"24px\"viewBox=\"0 0 24 24\"\n",
              "       width=\"24px\">\n",
              "    <path d=\"M7,19H8.4L18.45,9,17,7.55,7,17.6ZM5,21V16.75L18.45,3.32a2,2,0,0,1,2.83,0l1.4,1.43a1.91,1.91,0,0,1,.58,1.4,1.91,1.91,0,0,1-.58,1.4L9.25,21ZM18.45,9,17,7.55Zm-12,3A5.31,5.31,0,0,0,4.9,8.1,5.31,5.31,0,0,0,1,6.5,5.31,5.31,0,0,0,4.9,4.9,5.31,5.31,0,0,0,6.5,1,5.31,5.31,0,0,0,8.1,4.9,5.31,5.31,0,0,0,12,6.5,5.46,5.46,0,0,0,6.5,12Z\"/>\n",
              "  </svg>\n",
              "    </button>\n",
              "    <script>\n",
              "      (() => {\n",
              "      const buttonEl =\n",
              "        document.querySelector('#id_d76c380a-6568-428e-beb7-b1d3bf6fa001 button.colab-df-generate');\n",
              "      buttonEl.style.display =\n",
              "        google.colab.kernel.accessAllowed ? 'block' : 'none';\n",
              "\n",
              "      buttonEl.onclick = () => {\n",
              "        google.colab.notebook.generateWithVariable('svr_gi_df');\n",
              "      }\n",
              "      })();\n",
              "    </script>\n",
              "  </div>\n",
              "\n",
              "    </div>\n",
              "  </div>\n"
            ],
            "text/plain": [
              "           MAE         MSE      RMSE  R2-Score\n",
              "SVR  12.715426  269.590471  16.41921  0.595237"
            ]
          },
          "execution_count": 15,
          "metadata": {},
          "output_type": "execute_result"
        }
      ],
      "source": [
        "svr_mae, svr_mse, svr_rmse, svr_r2 = model_evaluation(svr_regressor, X_test_scaled, y_gi_test)\n",
        "\n",
        "svr_gi_df = pd.DataFrame([[svr_mae, svr_mse, svr_rmse, svr_r2]],\n",
        "                                index=['SVR'],\n",
        "                                columns=['MAE', 'MSE', 'RMSE' ,'R2-Score'])\n",
        "\n",
        "svr_gi_df"
      ]
    },
    {
      "cell_type": "markdown",
      "id": "hZRTB1guAfbe",
      "metadata": {
        "id": "hZRTB1guAfbe"
      },
      "source": [
        "#### Neural Network"
      ]
    },
    {
      "cell_type": "code",
      "execution_count": null,
      "id": "zxywIA1pczrC",
      "metadata": {
        "id": "zxywIA1pczrC"
      },
      "outputs": [],
      "source": [
        "def create_nn_model_gi():\n",
        "\n",
        "    model = tf.keras.Sequential([\n",
        "      tf.keras.layers.Input(shape=(len(numeric_features),)),\n",
        "      tf.keras.layers.Dense(32, activation='relu'),\n",
        "      tf.keras.layers.Dense(32, activation='relu'),\n",
        "      tf.keras.layers.Dense(64, activation='relu'),\n",
        "      tf.keras.layers.Dense(128, activation='relu'),\n",
        "      tf.keras.layers.Dropout(0.2),\n",
        "      tf.keras.layers.Dense(1, activation='relu')\n",
        "    ])\n",
        "\n",
        "    return model"
      ]
    },
    {
      "cell_type": "code",
      "execution_count": null,
      "id": "2QirMfhudMfj",
      "metadata": {
        "id": "2QirMfhudMfj"
      },
      "outputs": [],
      "source": [
        "def adjust_learning_rate():\n",
        "\n",
        "    model = create_nn_model_gi()\n",
        "\n",
        "    lr_schedule = tf.keras.callbacks.LearningRateScheduler(lambda epoch: 1e-6 * 10**(epoch / 20))\n",
        "\n",
        "    optimizer = tf.keras.optimizers.Adam()\n",
        "\n",
        "    model.compile(loss=tf.keras.losses.Huber(),\n",
        "                  optimizer=optimizer,\n",
        "                  metrics=['mae'])\n",
        "\n",
        "    history = model.fit(X_train_scaled, y_gi_train, epochs=100, callbacks=[lr_schedule], verbose=0)\n",
        "\n",
        "    return history"
      ]
    },
    {
      "cell_type": "code",
      "execution_count": null,
      "id": "UTZSiz8SdnZx",
      "metadata": {
        "id": "UTZSiz8SdnZx"
      },
      "outputs": [],
      "source": [
        "lr_history_gi = adjust_learning_rate()"
      ]
    },
    {
      "cell_type": "code",
      "execution_count": null,
      "id": "dN8Pe9yOdlU1",
      "metadata": {
        "colab": {
          "base_uri": "https://localhost:8080/",
          "height": 440
        },
        "id": "dN8Pe9yOdlU1",
        "outputId": "177a3573-8413-4aab-ddd2-fc275b9f7b1f"
      },
      "outputs": [
        {
          "data": {
            "image/png": "[encoded data removed]",
            "text/plain": [
              "<Figure size 640x480 with 1 Axes>"
            ]
          },
          "metadata": {},
          "output_type": "display_data"
        }
      ],
      "source": [
        "plt.semilogx(lr_history_gi.history['lr'], lr_history_gi.history['loss'])\n",
        "plt.axis([1e-6, 1e-1, 0, 45])\n",
        "plt.show()"
      ]
    },
    {
      "cell_type": "code",
      "execution_count": null,
      "id": "2YU4D7f5vzDh",
      "metadata": {
        "id": "2YU4D7f5vzDh"
      },
      "outputs": [],
      "source": [
        "nn_model = create_nn_model_gi()\n",
        "nn_model.compile(optimizer=tf.keras.optimizers.Adam(learning_rate=7e-3), loss=tf.keras.losses.Huber(), metrics=['mae'])"
      ]
    },
    {
      "cell_type": "code",
      "execution_count": null,
      "id": "tMjJCdHIHVF9",
      "metadata": {
        "id": "tMjJCdHIHVF9"
      },
      "outputs": [],
      "source": [
        "early_stopping = EarlyStopping(monitor='val_mae', patience=10, verbose=1, restore_best_weights=True)"
      ]
    },
    {
      "cell_type": "code",
      "execution_count": null,
      "id": "ER64bR-4wkUP",
      "metadata": {
        "colab": {
          "base_uri": "https://localhost:8080/"
        },
        "id": "ER64bR-4wkUP",
        "outputId": "bbf6f800-4683-4d37-f3cf-7f2e40d355f7"
      },
      "outputs": [
        {
          "name": "stdout",
          "output_type": "stream",
          "text": [
            "Epoch 1/100\n",
            "17/17 - 2s - loss: 30.6138 - mae: 31.1080 - val_loss: 23.9334 - val_mae: 24.4309 - 2s/epoch - 118ms/step\n",
            "Epoch 2/100\n",
            "17/17 - 0s - loss: 19.2929 - mae: 19.7868 - val_loss: 16.0411 - val_mae: 16.5319 - 77ms/epoch - 5ms/step\n",
            "Epoch 3/100\n",
            "17/17 - 0s - loss: 17.4684 - mae: 17.9631 - val_loss: 16.5927 - val_mae: 17.0771 - 75ms/epoch - 4ms/step\n",
            "Epoch 4/100\n",
            "17/17 - 0s - loss: 16.6182 - mae: 17.1128 - val_loss: 16.4001 - val_mae: 16.8783 - 74ms/epoch - 4ms/step\n",
            "Epoch 5/100\n",
            "17/17 - 0s - loss: 15.6377 - mae: 16.1247 - val_loss: 15.0526 - val_mae: 15.5322 - 60ms/epoch - 4ms/step\n",
            "Epoch 6/100\n",
            "17/17 - 0s - loss: 15.2036 - mae: 15.6925 - val_loss: 13.9897 - val_mae: 14.4524 - 94ms/epoch - 6ms/step\n",
            "Epoch 7/100\n",
            "17/17 - 0s - loss: 14.6986 - mae: 15.1711 - val_loss: 14.3514 - val_mae: 14.8226 - 75ms/epoch - 4ms/step\n",
            "Epoch 8/100\n",
            "17/17 - 0s - loss: 14.8537 - mae: 15.3323 - val_loss: 14.1901 - val_mae: 14.6457 - 83ms/epoch - 5ms/step\n",
            "Epoch 9/100\n",
            "17/17 - 0s - loss: 14.5026 - mae: 14.9863 - val_loss: 17.9199 - val_mae: 18.3798 - 77ms/epoch - 5ms/step\n",
            "Epoch 10/100\n",
            "17/17 - 0s - loss: 14.9110 - mae: 15.3816 - val_loss: 14.0027 - val_mae: 14.4535 - 62ms/epoch - 4ms/step\n",
            "Epoch 11/100\n",
            "17/17 - 0s - loss: 14.3837 - mae: 14.8563 - val_loss: 12.7188 - val_mae: 13.1849 - 76ms/epoch - 4ms/step\n",
            "Epoch 12/100\n",
            "17/17 - 0s - loss: 14.6897 - mae: 15.1595 - val_loss: 12.1166 - val_mae: 12.5716 - 62ms/epoch - 4ms/step\n",
            "Epoch 13/100\n",
            "17/17 - 0s - loss: 13.9939 - mae: 14.4646 - val_loss: 14.1448 - val_mae: 14.5943 - 77ms/epoch - 5ms/step\n",
            "Epoch 14/100\n",
            "17/17 - 0s - loss: 14.4389 - mae: 14.9139 - val_loss: 13.8323 - val_mae: 14.2984 - 60ms/epoch - 4ms/step\n",
            "Epoch 15/100\n",
            "17/17 - 0s - loss: 14.3265 - mae: 14.7943 - val_loss: 14.2071 - val_mae: 14.6671 - 65ms/epoch - 4ms/step\n",
            "Epoch 16/100\n",
            "17/17 - 0s - loss: 14.4280 - mae: 14.8952 - val_loss: 14.7663 - val_mae: 15.2400 - 78ms/epoch - 5ms/step\n",
            "Epoch 17/100\n",
            "17/17 - 0s - loss: 13.8829 - mae: 14.3561 - val_loss: 12.0581 - val_mae: 12.5242 - 62ms/epoch - 4ms/step\n",
            "Epoch 18/100\n",
            "17/17 - 0s - loss: 14.0401 - mae: 14.5091 - val_loss: 12.4809 - val_mae: 12.9531 - 61ms/epoch - 4ms/step\n",
            "Epoch 19/100\n",
            "17/17 - 0s - loss: 14.0184 - mae: 14.4961 - val_loss: 11.7912 - val_mae: 12.2491 - 83ms/epoch - 5ms/step\n",
            "Epoch 20/100\n",
            "17/17 - 0s - loss: 14.2147 - mae: 14.6805 - val_loss: 12.2998 - val_mae: 12.7696 - 83ms/epoch - 5ms/step\n",
            "Epoch 21/100\n",
            "17/17 - 0s - loss: 13.6321 - mae: 14.1076 - val_loss: 12.2562 - val_mae: 12.7156 - 87ms/epoch - 5ms/step\n",
            "Epoch 22/100\n",
            "17/17 - 0s - loss: 13.4730 - mae: 13.9391 - val_loss: 13.1503 - val_mae: 13.6330 - 76ms/epoch - 4ms/step\n",
            "Epoch 23/100\n",
            "17/17 - 0s - loss: 13.1522 - mae: 13.6222 - val_loss: 12.4992 - val_mae: 12.9694 - 76ms/epoch - 4ms/step\n",
            "Epoch 24/100\n",
            "17/17 - 0s - loss: 13.4887 - mae: 13.9549 - val_loss: 13.4992 - val_mae: 13.9528 - 59ms/epoch - 3ms/step\n",
            "Epoch 25/100\n",
            "17/17 - 0s - loss: 14.0026 - mae: 14.4737 - val_loss: 12.6255 - val_mae: 13.0939 - 77ms/epoch - 5ms/step\n",
            "Epoch 26/100\n",
            "17/17 - 0s - loss: 13.4680 - mae: 13.9342 - val_loss: 12.2279 - val_mae: 12.6863 - 66ms/epoch - 4ms/step\n",
            "Epoch 27/100\n",
            "17/17 - 0s - loss: 13.3086 - mae: 13.7747 - val_loss: 13.2322 - val_mae: 13.6983 - 87ms/epoch - 5ms/step\n",
            "Epoch 28/100\n",
            "17/17 - 0s - loss: 13.4095 - mae: 13.8766 - val_loss: 12.7299 - val_mae: 13.2013 - 116ms/epoch - 7ms/step\n",
            "Epoch 29/100\n",
            "Restoring model weights from the end of the best epoch: 19.\n",
            "17/17 - 0s - loss: 13.9675 - mae: 14.4347 - val_loss: 14.8899 - val_mae: 15.3578 - 79ms/epoch - 5ms/step\n",
            "Epoch 29: early stopping\n"
          ]
        },
        {
          "data": {
            "text/plain": [
              "<keras.src.callbacks.History at 0x7c669c498ac0>"
            ]
          },
          "execution_count": 76,
          "metadata": {},
          "output_type": "execute_result"
        }
      ],
      "source": [
        "nn_model.fit(X_train_scaled, y_gi_train, epochs=100, validation_data=(X_test_scaled, y_gi_test), verbose=2, callbacks=[early_stopping])"
      ]
    },
    {
      "cell_type": "code",
      "execution_count": null,
      "id": "g022ILDDxz5Y",
      "metadata": {
        "colab": {
          "base_uri": "https://localhost:8080/"
        },
        "id": "g022ILDDxz5Y",
        "outputId": "4da445a8-163d-4d85-8084-30423b13025a"
      },
      "outputs": [
        {
          "name": "stdout",
          "output_type": "stream",
          "text": [
            "Glycemic Index Model MAE: 12.2490873336792\n"
          ]
        }
      ],
      "source": [
        "gi_loss, gi_mae = nn_model.evaluate(X_test_scaled, y_gi_test, verbose=0)\n",
        "print(\"Glycemic Index Model MAE:\", gi_mae)"
      ]
    },
    {
      "cell_type": "code",
      "execution_count": null,
      "id": "MX5nH9ELx4fa",
      "metadata": {
        "colab": {
          "base_uri": "https://localhost:8080/"
        },
        "id": "MX5nH9ELx4fa",
        "outputId": "f8f545f8-dbc1-4db7-b36f-12b8712369ce"
      },
      "outputs": [
        {
          "name": "stdout",
          "output_type": "stream",
          "text": [
            "2/2 [==============================] - 0s 6ms/step\n",
            "Predicted GI values:  ['36.90', '67.68', '36.93', '52.59', '0.00', '56.98', '35.42', '38.63', '37.18', '33.53', '46.22', '29.63', '56.28', '28.44', '58.10', '0.00', '6.83', '55.75', '0.00', '47.02', '48.94', '25.73', '73.90', '51.13', '44.16', '38.19', '27.25', '57.61', '58.59', '23.97']\n",
            "True GI values:       ['60.00', '95.00', '45.00', '60.00', '0.00', '70.00', '47.00', '21.00', '40.00', '30.00', '70.00', '50.00', '25.00', '25.00', '30.00', '0.00', '0.00', '65.00', '30.00', '65.00', '50.00', '15.00', '95.00', '51.00', '50.00', '50.00', '30.00', '45.00', '70.00', '20.00']\n"
          ]
        }
      ],
      "source": [
        "y_gi_prediction = nn_model.predict(X_test_scaled)\n",
        "\n",
        "print('Predicted GI values: ', [f'{val[0]:.2f}' for val in y_gi_prediction[:30]])\n",
        "print('True GI values:      ', [f'{val:.2f}' for val in y_gi_test[:30]])"
      ]
    },
    {
      "cell_type": "markdown",
      "id": "o7qureWoXCfm",
      "metadata": {
        "id": "o7qureWoXCfm"
      },
      "source": [
        "### Compare Model"
      ]
    },
    {
      "cell_type": "code",
      "execution_count": null,
      "id": "uG47emY-XHru",
      "metadata": {
        "colab": {
          "base_uri": "https://localhost:8080/"
        },
        "id": "uG47emY-XHru",
        "outputId": "170e3073-4cc8-4c5e-fed6-ab626f66e939"
      },
      "outputs": [
        {
          "name": "stdout",
          "output_type": "stream",
          "text": [
            "Model with lowest MAE: Neural Network\n",
            "MAE:  11.37283706665039\n"
          ]
        }
      ],
      "source": [
        "mae_dict = {\n",
        "    'Linear Regression': reg_mae,\n",
        "    'Decision Tree': tree_mae,\n",
        "    'SVR': svr_mae,\n",
        "    'Neural Network': gi_mae\n",
        "}\n",
        "\n",
        "best_model = min(mae_dict, key=mae_dict.get)\n",
        "\n",
        "print(\"Model with lowest MAE:\", best_model)\n",
        "print(\"MAE: \", mae_dict[best_model])"
      ]
    }
  ],
  "metadata": {
    "colab": {
      "provenance": []
    },
    "kernelspec": {
      "display_name": "Python 3 (ipykernel)",
      "language": "python",
      "name": "python3"
    },
    "language_info": {
      "codemirror_mode": {
        "name": "ipython",
        "version": 3
      },
      "file_extension": ".py",
      "mimetype": "text/x-python",
      "name": "python",
      "nbconvert_exporter": "python",
      "pygments_lexer": "ipython3",
      "version": "3.12.2"
    }
  },
  "nbformat": 4,
  "nbformat_minor": 5
}
