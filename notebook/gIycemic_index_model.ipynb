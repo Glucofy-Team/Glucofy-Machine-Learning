{
  "cells": [
    {
      "cell_type": "markdown",
      "source": [
        "### Import Library"
      ],
      "metadata": {
        "id": "Qe0JbgdhbShw"
      },
      "id": "Qe0JbgdhbShw"
    },
    {
      "cell_type": "code",
      "source": [
        "import numpy as np\n",
        "import pandas as pd\n",
        "import seaborn as sns\n",
        "import matplotlib.pyplot as plt\n",
        "import tensorflow as tf\n",
        "\n",
        "from keras.callbacks import EarlyStopping\n",
        "from sklearn import metrics\n",
        "from sklearn.preprocessing import LabelEncoder, StandardScaler, OneHotEncoder\n",
        "from sklearn.model_selection import train_test_split"
      ],
      "metadata": {
        "id": "yJnWbX2_iwQQ"
      },
      "id": "yJnWbX2_iwQQ",
      "execution_count": 1,
      "outputs": []
    },
    {
      "cell_type": "markdown",
      "source": [
        "### Load Data"
      ],
      "metadata": {
        "id": "BXctRKGVbVPN"
      },
      "id": "BXctRKGVbVPN"
    },
    {
      "cell_type": "code",
      "source": [
        "data = pd.read_csv('https://raw.githubusercontent.com/Glucofy-Team/Glucofy-Machine-Learning/main/data/nutrition%20food%20dataset%20-%20modified.csv')\n",
        "data"
      ],
      "metadata": {
        "id": "Bqs4xLqazoTX",
        "colab": {
          "base_uri": "https://localhost:8080/",
          "height": 423
        },
        "outputId": "e9874150-a4c7-448c-946f-3f9cb44fdd0f"
      },
      "id": "Bqs4xLqazoTX",
      "execution_count": 2,
      "outputs": [
        {
          "output_type": "execute_result",
          "data": {
            "text/plain": [
              "         category               name  glycemic_index  glycemic_load  calories  \\\n",
              "0         Lainnya               Ragi            35.0            6.3     105.0   \n",
              "1         Lainnya           Ragi bir            35.0            0.0      75.0   \n",
              "2         Lainnya      Maltodekstrin            95.0           94.0     380.0   \n",
              "3         Lainnya          Palm pulp            20.0            1.2     354.0   \n",
              "4         Lainnya        Telur dadar            49.0            7.3     210.0   \n",
              "..            ...                ...             ...            ...       ...   \n",
              "568  Kue dan roti  Roti Pumpernickel            45.0           21.6     250.0   \n",
              "569  Kue dan roti         Roti Beras            70.0           48.0     306.0   \n",
              "570  Kue dan roti         Roti dedak            65.0           29.4     227.0   \n",
              "571  Kue dan roti          Roti labu            40.0           17.0     211.0   \n",
              "572  Kue dan roti          Roti buah            47.0           24.4     370.0   \n",
              "\n",
              "     proteins (g)  carbohydrates (g)  fats (g)  \n",
              "0             8.0               18.0       1.9  \n",
              "1            12.7                0.0       2.7  \n",
              "2             0.0               99.0       0.0  \n",
              "3             3.4                6.2      33.5  \n",
              "4            14.0               15.0       2.1  \n",
              "..            ...                ...       ...  \n",
              "568           9.0               48.0       3.1  \n",
              "569           6.3               68.6       0.7  \n",
              "570           7.0               45.2       1.3  \n",
              "571           5.5               42.6       2.4  \n",
              "572           7.6               52.0       7.4  \n",
              "\n",
              "[573 rows x 8 columns]"
            ],
            "text/html": [
              "\n",
              "  <div id=\"df-4fdc859c-1d89-4484-aca0-022cbb5c413e\" class=\"colab-df-container\">\n",
              "    <div>\n",
              "<style scoped>\n",
              "    .dataframe tbody tr th:only-of-type {\n",
              "        vertical-align: middle;\n",
              "    }\n",
              "\n",
              "    .dataframe tbody tr th {\n",
              "        vertical-align: top;\n",
              "    }\n",
              "\n",
              "    .dataframe thead th {\n",
              "        text-align: right;\n",
              "    }\n",
              "</style>\n",
              "<table border=\"1\" class=\"dataframe\">\n",
              "  <thead>\n",
              "    <tr style=\"text-align: right;\">\n",
              "      <th></th>\n",
              "      <th>category</th>\n",
              "      <th>name</th>\n",
              "      <th>glycemic_index</th>\n",
              "      <th>glycemic_load</th>\n",
              "      <th>calories</th>\n",
              "      <th>proteins (g)</th>\n",
              "      <th>carbohydrates (g)</th>\n",
              "      <th>fats (g)</th>\n",
              "    </tr>\n",
              "  </thead>\n",
              "  <tbody>\n",
              "    <tr>\n",
              "      <th>0</th>\n",
              "      <td>Lainnya</td>\n",
              "      <td>Ragi</td>\n",
              "      <td>35.0</td>\n",
              "      <td>6.3</td>\n",
              "      <td>105.0</td>\n",
              "      <td>8.0</td>\n",
              "      <td>18.0</td>\n",
              "      <td>1.9</td>\n",
              "    </tr>\n",
              "    <tr>\n",
              "      <th>1</th>\n",
              "      <td>Lainnya</td>\n",
              "      <td>Ragi bir</td>\n",
              "      <td>35.0</td>\n",
              "      <td>0.0</td>\n",
              "      <td>75.0</td>\n",
              "      <td>12.7</td>\n",
              "      <td>0.0</td>\n",
              "      <td>2.7</td>\n",
              "    </tr>\n",
              "    <tr>\n",
              "      <th>2</th>\n",
              "      <td>Lainnya</td>\n",
              "      <td>Maltodekstrin</td>\n",
              "      <td>95.0</td>\n",
              "      <td>94.0</td>\n",
              "      <td>380.0</td>\n",
              "      <td>0.0</td>\n",
              "      <td>99.0</td>\n",
              "      <td>0.0</td>\n",
              "    </tr>\n",
              "    <tr>\n",
              "      <th>3</th>\n",
              "      <td>Lainnya</td>\n",
              "      <td>Palm pulp</td>\n",
              "      <td>20.0</td>\n",
              "      <td>1.2</td>\n",
              "      <td>354.0</td>\n",
              "      <td>3.4</td>\n",
              "      <td>6.2</td>\n",
              "      <td>33.5</td>\n",
              "    </tr>\n",
              "    <tr>\n",
              "      <th>4</th>\n",
              "      <td>Lainnya</td>\n",
              "      <td>Telur dadar</td>\n",
              "      <td>49.0</td>\n",
              "      <td>7.3</td>\n",
              "      <td>210.0</td>\n",
              "      <td>14.0</td>\n",
              "      <td>15.0</td>\n",
              "      <td>2.1</td>\n",
              "    </tr>\n",
              "    <tr>\n",
              "      <th>...</th>\n",
              "      <td>...</td>\n",
              "      <td>...</td>\n",
              "      <td>...</td>\n",
              "      <td>...</td>\n",
              "      <td>...</td>\n",
              "      <td>...</td>\n",
              "      <td>...</td>\n",
              "      <td>...</td>\n",
              "    </tr>\n",
              "    <tr>\n",
              "      <th>568</th>\n",
              "      <td>Kue dan roti</td>\n",
              "      <td>Roti Pumpernickel</td>\n",
              "      <td>45.0</td>\n",
              "      <td>21.6</td>\n",
              "      <td>250.0</td>\n",
              "      <td>9.0</td>\n",
              "      <td>48.0</td>\n",
              "      <td>3.1</td>\n",
              "    </tr>\n",
              "    <tr>\n",
              "      <th>569</th>\n",
              "      <td>Kue dan roti</td>\n",
              "      <td>Roti Beras</td>\n",
              "      <td>70.0</td>\n",
              "      <td>48.0</td>\n",
              "      <td>306.0</td>\n",
              "      <td>6.3</td>\n",
              "      <td>68.6</td>\n",
              "      <td>0.7</td>\n",
              "    </tr>\n",
              "    <tr>\n",
              "      <th>570</th>\n",
              "      <td>Kue dan roti</td>\n",
              "      <td>Roti dedak</td>\n",
              "      <td>65.0</td>\n",
              "      <td>29.4</td>\n",
              "      <td>227.0</td>\n",
              "      <td>7.0</td>\n",
              "      <td>45.2</td>\n",
              "      <td>1.3</td>\n",
              "    </tr>\n",
              "    <tr>\n",
              "      <th>571</th>\n",
              "      <td>Kue dan roti</td>\n",
              "      <td>Roti labu</td>\n",
              "      <td>40.0</td>\n",
              "      <td>17.0</td>\n",
              "      <td>211.0</td>\n",
              "      <td>5.5</td>\n",
              "      <td>42.6</td>\n",
              "      <td>2.4</td>\n",
              "    </tr>\n",
              "    <tr>\n",
              "      <th>572</th>\n",
              "      <td>Kue dan roti</td>\n",
              "      <td>Roti buah</td>\n",
              "      <td>47.0</td>\n",
              "      <td>24.4</td>\n",
              "      <td>370.0</td>\n",
              "      <td>7.6</td>\n",
              "      <td>52.0</td>\n",
              "      <td>7.4</td>\n",
              "    </tr>\n",
              "  </tbody>\n",
              "</table>\n",
              "<p>573 rows × 8 columns</p>\n",
              "</div>\n",
              "    <div class=\"colab-df-buttons\">\n",
              "\n",
              "  <div class=\"colab-df-container\">\n",
              "    <button class=\"colab-df-convert\" onclick=\"convertToInteractive('df-4fdc859c-1d89-4484-aca0-022cbb5c413e')\"\n",
              "            title=\"Convert this dataframe to an interactive table.\"\n",
              "            style=\"display:none;\">\n",
              "\n",
              "  <svg xmlns=\"http://www.w3.org/2000/svg\" height=\"24px\" viewBox=\"0 -960 960 960\">\n",
              "    <path d=\"M120-120v-720h720v720H120Zm60-500h600v-160H180v160Zm220 220h160v-160H400v160Zm0 220h160v-160H400v160ZM180-400h160v-160H180v160Zm440 0h160v-160H620v160ZM180-180h160v-160H180v160Zm440 0h160v-160H620v160Z\"/>\n",
              "  </svg>\n",
              "    </button>\n",
              "\n",
              "  <style>\n",
              "    .colab-df-container {\n",
              "      display:flex;\n",
              "      gap: 12px;\n",
              "    }\n",
              "\n",
              "    .colab-df-convert {\n",
              "      background-color: #E8F0FE;\n",
              "      border: none;\n",
              "      border-radius: 50%;\n",
              "      cursor: pointer;\n",
              "      display: none;\n",
              "      fill: #1967D2;\n",
              "      height: 32px;\n",
              "      padding: 0 0 0 0;\n",
              "      width: 32px;\n",
              "    }\n",
              "\n",
              "    .colab-df-convert:hover {\n",
              "      background-color: #E2EBFA;\n",
              "      box-shadow: 0px 1px 2px rgba(60, 64, 67, 0.3), 0px 1px 3px 1px rgba(60, 64, 67, 0.15);\n",
              "      fill: #174EA6;\n",
              "    }\n",
              "\n",
              "    .colab-df-buttons div {\n",
              "      margin-bottom: 4px;\n",
              "    }\n",
              "\n",
              "    [theme=dark] .colab-df-convert {\n",
              "      background-color: #3B4455;\n",
              "      fill: #D2E3FC;\n",
              "    }\n",
              "\n",
              "    [theme=dark] .colab-df-convert:hover {\n",
              "      background-color: #434B5C;\n",
              "      box-shadow: 0px 1px 3px 1px rgba(0, 0, 0, 0.15);\n",
              "      filter: drop-shadow(0px 1px 2px rgba(0, 0, 0, 0.3));\n",
              "      fill: #FFFFFF;\n",
              "    }\n",
              "  </style>\n",
              "\n",
              "    <script>\n",
              "      const buttonEl =\n",
              "        document.querySelector('#df-4fdc859c-1d89-4484-aca0-022cbb5c413e button.colab-df-convert');\n",
              "      buttonEl.style.display =\n",
              "        google.colab.kernel.accessAllowed ? 'block' : 'none';\n",
              "\n",
              "      async function convertToInteractive(key) {\n",
              "        const element = document.querySelector('#df-4fdc859c-1d89-4484-aca0-022cbb5c413e');\n",
              "        const dataTable =\n",
              "          await google.colab.kernel.invokeFunction('convertToInteractive',\n",
              "                                                    [key], {});\n",
              "        if (!dataTable) return;\n",
              "\n",
              "        const docLinkHtml = 'Like what you see? Visit the ' +\n",
              "          '<a target=\"_blank\" href=https://colab.research.google.com/notebooks/data_table.ipynb>data table notebook</a>'\n",
              "          + ' to learn more about interactive tables.';\n",
              "        element.innerHTML = '';\n",
              "        dataTable['output_type'] = 'display_data';\n",
              "        await google.colab.output.renderOutput(dataTable, element);\n",
              "        const docLink = document.createElement('div');\n",
              "        docLink.innerHTML = docLinkHtml;\n",
              "        element.appendChild(docLink);\n",
              "      }\n",
              "    </script>\n",
              "  </div>\n",
              "\n",
              "\n",
              "<div id=\"df-a111de2b-42c0-4c05-be73-4ecce485cf14\">\n",
              "  <button class=\"colab-df-quickchart\" onclick=\"quickchart('df-a111de2b-42c0-4c05-be73-4ecce485cf14')\"\n",
              "            title=\"Suggest charts\"\n",
              "            style=\"display:none;\">\n",
              "\n",
              "<svg xmlns=\"http://www.w3.org/2000/svg\" height=\"24px\"viewBox=\"0 0 24 24\"\n",
              "     width=\"24px\">\n",
              "    <g>\n",
              "        <path d=\"M19 3H5c-1.1 0-2 .9-2 2v14c0 1.1.9 2 2 2h14c1.1 0 2-.9 2-2V5c0-1.1-.9-2-2-2zM9 17H7v-7h2v7zm4 0h-2V7h2v10zm4 0h-2v-4h2v4z\"/>\n",
              "    </g>\n",
              "</svg>\n",
              "  </button>\n",
              "\n",
              "<style>\n",
              "  .colab-df-quickchart {\n",
              "      --bg-color: #E8F0FE;\n",
              "      --fill-color: #1967D2;\n",
              "      --hover-bg-color: #E2EBFA;\n",
              "      --hover-fill-color: #174EA6;\n",
              "      --disabled-fill-color: #AAA;\n",
              "      --disabled-bg-color: #DDD;\n",
              "  }\n",
              "\n",
              "  [theme=dark] .colab-df-quickchart {\n",
              "      --bg-color: #3B4455;\n",
              "      --fill-color: #D2E3FC;\n",
              "      --hover-bg-color: #434B5C;\n",
              "      --hover-fill-color: #FFFFFF;\n",
              "      --disabled-bg-color: #3B4455;\n",
              "      --disabled-fill-color: #666;\n",
              "  }\n",
              "\n",
              "  .colab-df-quickchart {\n",
              "    background-color: var(--bg-color);\n",
              "    border: none;\n",
              "    border-radius: 50%;\n",
              "    cursor: pointer;\n",
              "    display: none;\n",
              "    fill: var(--fill-color);\n",
              "    height: 32px;\n",
              "    padding: 0;\n",
              "    width: 32px;\n",
              "  }\n",
              "\n",
              "  .colab-df-quickchart:hover {\n",
              "    background-color: var(--hover-bg-color);\n",
              "    box-shadow: 0 1px 2px rgba(60, 64, 67, 0.3), 0 1px 3px 1px rgba(60, 64, 67, 0.15);\n",
              "    fill: var(--button-hover-fill-color);\n",
              "  }\n",
              "\n",
              "  .colab-df-quickchart-complete:disabled,\n",
              "  .colab-df-quickchart-complete:disabled:hover {\n",
              "    background-color: var(--disabled-bg-color);\n",
              "    fill: var(--disabled-fill-color);\n",
              "    box-shadow: none;\n",
              "  }\n",
              "\n",
              "  .colab-df-spinner {\n",
              "    border: 2px solid var(--fill-color);\n",
              "    border-color: transparent;\n",
              "    border-bottom-color: var(--fill-color);\n",
              "    animation:\n",
              "      spin 1s steps(1) infinite;\n",
              "  }\n",
              "\n",
              "  @keyframes spin {\n",
              "    0% {\n",
              "      border-color: transparent;\n",
              "      border-bottom-color: var(--fill-color);\n",
              "      border-left-color: var(--fill-color);\n",
              "    }\n",
              "    20% {\n",
              "      border-color: transparent;\n",
              "      border-left-color: var(--fill-color);\n",
              "      border-top-color: var(--fill-color);\n",
              "    }\n",
              "    30% {\n",
              "      border-color: transparent;\n",
              "      border-left-color: var(--fill-color);\n",
              "      border-top-color: var(--fill-color);\n",
              "      border-right-color: var(--fill-color);\n",
              "    }\n",
              "    40% {\n",
              "      border-color: transparent;\n",
              "      border-right-color: var(--fill-color);\n",
              "      border-top-color: var(--fill-color);\n",
              "    }\n",
              "    60% {\n",
              "      border-color: transparent;\n",
              "      border-right-color: var(--fill-color);\n",
              "    }\n",
              "    80% {\n",
              "      border-color: transparent;\n",
              "      border-right-color: var(--fill-color);\n",
              "      border-bottom-color: var(--fill-color);\n",
              "    }\n",
              "    90% {\n",
              "      border-color: transparent;\n",
              "      border-bottom-color: var(--fill-color);\n",
              "    }\n",
              "  }\n",
              "</style>\n",
              "\n",
              "  <script>\n",
              "    async function quickchart(key) {\n",
              "      const quickchartButtonEl =\n",
              "        document.querySelector('#' + key + ' button');\n",
              "      quickchartButtonEl.disabled = true;  // To prevent multiple clicks.\n",
              "      quickchartButtonEl.classList.add('colab-df-spinner');\n",
              "      try {\n",
              "        const charts = await google.colab.kernel.invokeFunction(\n",
              "            'suggestCharts', [key], {});\n",
              "      } catch (error) {\n",
              "        console.error('Error during call to suggestCharts:', error);\n",
              "      }\n",
              "      quickchartButtonEl.classList.remove('colab-df-spinner');\n",
              "      quickchartButtonEl.classList.add('colab-df-quickchart-complete');\n",
              "    }\n",
              "    (() => {\n",
              "      let quickchartButtonEl =\n",
              "        document.querySelector('#df-a111de2b-42c0-4c05-be73-4ecce485cf14 button');\n",
              "      quickchartButtonEl.style.display =\n",
              "        google.colab.kernel.accessAllowed ? 'block' : 'none';\n",
              "    })();\n",
              "  </script>\n",
              "</div>\n",
              "\n",
              "  <div id=\"id_3b339f8a-b99b-4c23-888b-d5b1ef6e582f\">\n",
              "    <style>\n",
              "      .colab-df-generate {\n",
              "        background-color: #E8F0FE;\n",
              "        border: none;\n",
              "        border-radius: 50%;\n",
              "        cursor: pointer;\n",
              "        display: none;\n",
              "        fill: #1967D2;\n",
              "        height: 32px;\n",
              "        padding: 0 0 0 0;\n",
              "        width: 32px;\n",
              "      }\n",
              "\n",
              "      .colab-df-generate:hover {\n",
              "        background-color: #E2EBFA;\n",
              "        box-shadow: 0px 1px 2px rgba(60, 64, 67, 0.3), 0px 1px 3px 1px rgba(60, 64, 67, 0.15);\n",
              "        fill: #174EA6;\n",
              "      }\n",
              "\n",
              "      [theme=dark] .colab-df-generate {\n",
              "        background-color: #3B4455;\n",
              "        fill: #D2E3FC;\n",
              "      }\n",
              "\n",
              "      [theme=dark] .colab-df-generate:hover {\n",
              "        background-color: #434B5C;\n",
              "        box-shadow: 0px 1px 3px 1px rgba(0, 0, 0, 0.15);\n",
              "        filter: drop-shadow(0px 1px 2px rgba(0, 0, 0, 0.3));\n",
              "        fill: #FFFFFF;\n",
              "      }\n",
              "    </style>\n",
              "    <button class=\"colab-df-generate\" onclick=\"generateWithVariable('data')\"\n",
              "            title=\"Generate code using this dataframe.\"\n",
              "            style=\"display:none;\">\n",
              "\n",
              "  <svg xmlns=\"http://www.w3.org/2000/svg\" height=\"24px\"viewBox=\"0 0 24 24\"\n",
              "       width=\"24px\">\n",
              "    <path d=\"M7,19H8.4L18.45,9,17,7.55,7,17.6ZM5,21V16.75L18.45,3.32a2,2,0,0,1,2.83,0l1.4,1.43a1.91,1.91,0,0,1,.58,1.4,1.91,1.91,0,0,1-.58,1.4L9.25,21ZM18.45,9,17,7.55Zm-12,3A5.31,5.31,0,0,0,4.9,8.1,5.31,5.31,0,0,0,1,6.5,5.31,5.31,0,0,0,4.9,4.9,5.31,5.31,0,0,0,6.5,1,5.31,5.31,0,0,0,8.1,4.9,5.31,5.31,0,0,0,12,6.5,5.46,5.46,0,0,0,6.5,12Z\"/>\n",
              "  </svg>\n",
              "    </button>\n",
              "    <script>\n",
              "      (() => {\n",
              "      const buttonEl =\n",
              "        document.querySelector('#id_3b339f8a-b99b-4c23-888b-d5b1ef6e582f button.colab-df-generate');\n",
              "      buttonEl.style.display =\n",
              "        google.colab.kernel.accessAllowed ? 'block' : 'none';\n",
              "\n",
              "      buttonEl.onclick = () => {\n",
              "        google.colab.notebook.generateWithVariable('data');\n",
              "      }\n",
              "      })();\n",
              "    </script>\n",
              "  </div>\n",
              "\n",
              "    </div>\n",
              "  </div>\n"
            ],
            "application/vnd.google.colaboratory.intrinsic+json": {
              "type": "dataframe",
              "variable_name": "data",
              "summary": "{\n  \"name\": \"data\",\n  \"rows\": 573,\n  \"fields\": [\n    {\n      \"column\": \"category\",\n      \"properties\": {\n        \"dtype\": \"category\",\n        \"num_unique_values\": 16,\n        \"samples\": [\n          \"Lainnya\",\n          \"Sayuran\",\n          \"Seafood\"\n        ],\n        \"semantic_type\": \"\",\n        \"description\": \"\"\n      }\n    },\n    {\n      \"column\": \"name\",\n      \"properties\": {\n        \"dtype\": \"string\",\n        \"num_unique_values\": 573,\n        \"samples\": [\n          \"Jus buah pir\",\n          \"Chayote (mentimun Meksiko), diremas dari itu\",\n          \"Oregano\"\n        ],\n        \"semantic_type\": \"\",\n        \"description\": \"\"\n      }\n    },\n    {\n      \"column\": \"glycemic_index\",\n      \"properties\": {\n        \"dtype\": \"number\",\n        \"std\": 24.114566681628197,\n        \"min\": 0.0,\n        \"max\": 115.0,\n        \"num_unique_values\": 64,\n        \"samples\": [\n          79.0,\n          27.0,\n          35.0\n        ],\n        \"semantic_type\": \"\",\n        \"description\": \"\"\n      }\n    },\n    {\n      \"column\": \"glycemic_load\",\n      \"properties\": {\n        \"dtype\": \"number\",\n        \"std\": 18.44184682850696,\n        \"min\": 0.0,\n        \"max\": 95.0,\n        \"num_unique_values\": 275,\n        \"samples\": [\n          4.8,\n          78.9,\n          61.6\n        ],\n        \"semantic_type\": \"\",\n        \"description\": \"\"\n      }\n    },\n    {\n      \"column\": \"calories\",\n      \"properties\": {\n        \"dtype\": \"number\",\n        \"std\": 180.03275290831837,\n        \"min\": 2.0,\n        \"max\": 900.0,\n        \"num_unique_values\": 301,\n        \"samples\": [\n          264.0,\n          452.0,\n          118.0\n        ],\n        \"semantic_type\": \"\",\n        \"description\": \"\"\n      }\n    },\n    {\n      \"column\": \"proteins (g)\",\n      \"properties\": {\n        \"dtype\": \"number\",\n        \"std\": 7.510581391385248,\n        \"min\": 0.0,\n        \"max\": 46.0,\n        \"num_unique_values\": 171,\n        \"samples\": [\n          19.7,\n          19.4,\n          4.4\n        ],\n        \"semantic_type\": \"\",\n        \"description\": \"\"\n      }\n    },\n    {\n      \"column\": \"carbohydrates (g)\",\n      \"properties\": {\n        \"dtype\": \"number\",\n        \"std\": 27.090983012532295,\n        \"min\": 0.0,\n        \"max\": 100.0,\n        \"num_unique_values\": 308,\n        \"samples\": [\n          36.4,\n          20.0,\n          95.0\n        ],\n        \"semantic_type\": \"\",\n        \"description\": \"\"\n      }\n    },\n    {\n      \"column\": \"fats (g)\",\n      \"properties\": {\n        \"dtype\": \"number\",\n        \"std\": 16.995708784774607,\n        \"min\": 0.0,\n        \"max\": 100.0,\n        \"num_unique_values\": 172,\n        \"samples\": [\n          9.3,\n          15.5,\n          18.1\n        ],\n        \"semantic_type\": \"\",\n        \"description\": \"\"\n      }\n    }\n  ]\n}"
            }
          },
          "metadata": {},
          "execution_count": 2
        }
      ]
    },
    {
      "cell_type": "markdown",
      "source": [
        "**Correlation Matrix**"
      ],
      "metadata": {
        "id": "UQkCjyGmbZDM"
      },
      "id": "UQkCjyGmbZDM"
    },
    {
      "cell_type": "code",
      "source": [
        "correlation_matrix = data[['glycemic_index', 'glycemic_load', 'calories (kcal)', 'proteins (g)', 'carbohydrates (g)', 'fats (g)']].corr()\n",
        "\n",
        "plt.figure(figsize=(5, 5))\n",
        "sns.heatmap(correlation_matrix, annot=True, fmt='.2f')\n",
        "plt.title('Correlation Matrix')\n",
        "plt.show()"
      ],
      "metadata": {
        "colab": {
          "base_uri": "https://localhost:8080/",
          "height": 578
        },
        "id": "VN0WsJFibcCE",
        "outputId": "830cc969-572d-4b74-fc81-83643e97183f"
      },
      "id": "VN0WsJFibcCE",
      "execution_count": null,
      "outputs": [
        {
          "output_type": "display_data",
          "data": {
            "text/plain": [
              "<Figure size 500x500 with 2 Axes>"
            ],
            "image/png": "[encoded data removed]"
          },
          "metadata": {}
        }
      ]
    },
    {
      "cell_type": "markdown",
      "source": [
        "### Preprocessing Data"
      ],
      "metadata": {
        "id": "Dui2Z_whcLph"
      },
      "id": "Dui2Z_whcLph"
    },
    {
      "cell_type": "code",
      "source": [
        "def categorize_gi_new(gi):\n",
        "    if gi <= 55:\n",
        "        return 'Low'\n",
        "    elif gi <= 69:\n",
        "        return 'Medium'\n",
        "    else:\n",
        "        return 'High'\n",
        "\n",
        "data['gi_category'] = data['glycemic_index'].apply(categorize_gi_new)"
      ],
      "metadata": {
        "id": "qxj-gk4l_c_T"
      },
      "id": "qxj-gk4l_c_T",
      "execution_count": null,
      "outputs": []
    },
    {
      "cell_type": "markdown",
      "source": [
        "- Separate numeric features and target variables."
      ],
      "metadata": {
        "id": "Ys74RpeScPNM"
      },
      "id": "Ys74RpeScPNM"
    },
    {
      "cell_type": "code",
      "source": [
        "numeric_features = ['calories (kcal)', 'proteins (g)', 'carbohydrates (g)', 'fats (g)']\n",
        "X = data[numeric_features]\n",
        "\n",
        "y_gi = data['glycemic_index']\n",
        "y_gi_category = data['gi_category']"
      ],
      "metadata": {
        "id": "h8Gk91qP0OFN"
      },
      "id": "h8Gk91qP0OFN",
      "execution_count": null,
      "outputs": []
    },
    {
      "cell_type": "markdown",
      "source": [
        "- Using one hot encoding for category classification."
      ],
      "metadata": {
        "id": "aS-n0tVnnskc"
      },
      "id": "aS-n0tVnnskc"
    },
    {
      "cell_type": "code",
      "source": [
        "label_encoder_gi = LabelEncoder()\n",
        "y_gi_category_encoded = label_encoder_gi.fit_transform(y_gi_category)"
      ],
      "metadata": {
        "id": "N-SInVmmCDWi"
      },
      "id": "N-SInVmmCDWi",
      "execution_count": null,
      "outputs": []
    },
    {
      "cell_type": "code",
      "source": [
        "onehot_encoder = OneHotEncoder(sparse_output=False)\n",
        "y_gi_category_onehot = onehot_encoder.fit_transform(y_gi_category_encoded.reshape(-1, 1))"
      ],
      "metadata": {
        "id": "vkf8LBKxefjW"
      },
      "id": "vkf8LBKxefjW",
      "execution_count": null,
      "outputs": []
    },
    {
      "cell_type": "code",
      "source": [
        "y_gi_array = y_gi.to_numpy()"
      ],
      "metadata": {
        "id": "6R8r0jETaAEj"
      },
      "id": "6R8r0jETaAEj",
      "execution_count": null,
      "outputs": []
    },
    {
      "cell_type": "code",
      "source": [
        "y_combined = np.column_stack((y_gi_category_onehot, y_gi_array))"
      ],
      "metadata": {
        "id": "isD-IFZGZ28B"
      },
      "id": "isD-IFZGZ28B",
      "execution_count": null,
      "outputs": []
    },
    {
      "cell_type": "markdown",
      "source": [
        "- Split the data into training and test sets."
      ],
      "metadata": {
        "id": "K6eqEiwucXd1"
      },
      "id": "K6eqEiwucXd1"
    },
    {
      "cell_type": "code",
      "source": [
        "X_train, X_test, y_train, y_test = train_test_split(X, y_combined, test_size=0.1, random_state=42)"
      ],
      "metadata": {
        "id": "a0JUTfmPcaU8"
      },
      "id": "a0JUTfmPcaU8",
      "execution_count": null,
      "outputs": []
    },
    {
      "cell_type": "markdown",
      "source": [
        "- Standardize the data to ensure the input features are balanced."
      ],
      "metadata": {
        "id": "BpecujVMcbB0"
      },
      "id": "BpecujVMcbB0"
    },
    {
      "cell_type": "code",
      "source": [
        "scaler = StandardScaler()\n",
        "X_train_scaled = scaler.fit_transform(X_train)\n",
        "X_test_scaled = scaler.transform(X_test)"
      ],
      "metadata": {
        "id": "lkIzyoF1Cp-h"
      },
      "id": "lkIzyoF1Cp-h",
      "execution_count": null,
      "outputs": []
    },
    {
      "cell_type": "markdown",
      "source": [
        "### Build and Train Model"
      ],
      "metadata": {
        "id": "G4ikvaeRndrZ"
      },
      "id": "G4ikvaeRndrZ"
    },
    {
      "cell_type": "code",
      "source": [
        "input_shape = X_train.shape[1]\n",
        "\n",
        "inputs = tf.keras.Input(shape=(input_shape,))\n",
        "\n",
        "x = tf.keras.layers.Dense(32, activation='relu')(inputs)\n",
        "x = tf.keras.layers.Dense(32, activation='relu')(x)\n",
        "x = tf.keras.layers.Dense(128, activation='relu')(x)\n",
        "x = tf.keras.layers.Dense(128, activation='relu')(x)\n",
        "x = tf.keras.layers.Dropout(0.2)(x)\n",
        "x = tf.keras.layers.Dense(64, activation='relu')(x)\n",
        "\n",
        "num_categories = y_gi_category_onehot.shape[1]\n",
        "output1 = tf.keras.layers.Dense(num_categories, activation='softmax', name='category_output')(x)\n",
        "output2 = tf.keras.layers.Dense(1, activation='relu', name='gi_output')(x)"
      ],
      "metadata": {
        "id": "TighmjhCbrDo"
      },
      "id": "TighmjhCbrDo",
      "execution_count": null,
      "outputs": []
    },
    {
      "cell_type": "code",
      "source": [
        "model = tf.keras.Model(inputs=inputs, outputs=[output1, output2])\n",
        "\n",
        "y_train_category = y_train[:, :num_categories]\n",
        "y_train_gi = y_train[:, num_categories]\n",
        "\n",
        "y_test_category = y_test[:, :num_categories]\n",
        "y_test_gi = y_test[:, num_categories]"
      ],
      "metadata": {
        "id": "Lr6t_e9vc9Hj"
      },
      "id": "Lr6t_e9vc9Hj",
      "execution_count": null,
      "outputs": []
    },
    {
      "cell_type": "code",
      "source": [
        "def adjust_learning_rate():\n",
        "\n",
        "    lr_schedule = tf.keras.callbacks.LearningRateScheduler(lambda epoch: 1e-6 * 10**(epoch / 20))\n",
        "\n",
        "    optimizer = tf.keras.optimizers.Adam()\n",
        "\n",
        "    model.compile(optimizer=optimizer,\n",
        "              loss={'category_output': 'categorical_crossentropy', 'gi_output': 'huber_loss'},\n",
        "              metrics={'category_output': 'accuracy', 'gi_output': 'mae'})\n",
        "\n",
        "    history = model.fit(X_train_scaled,\n",
        "                        {'category_output': y_train_category, 'gi_output': y_train_gi},\n",
        "                        epochs=100,\n",
        "                        callbacks=[lr_schedule],\n",
        "                        verbose=0)\n",
        "\n",
        "    return history"
      ],
      "metadata": {
        "id": "iY6XqWH0cdJP"
      },
      "id": "iY6XqWH0cdJP",
      "execution_count": null,
      "outputs": []
    },
    {
      "cell_type": "code",
      "source": [
        "lr_history = adjust_learning_rate()"
      ],
      "metadata": {
        "id": "RxD3cgGneI-X"
      },
      "id": "RxD3cgGneI-X",
      "execution_count": null,
      "outputs": []
    },
    {
      "cell_type": "code",
      "source": [
        "plt.semilogx(lr_history.history['lr'], lr_history.history['loss'])\n",
        "plt.axis([1e-6, 1e-1, 0, 45])\n",
        "plt.show()"
      ],
      "metadata": {
        "colab": {
          "base_uri": "https://localhost:8080/",
          "height": 440
        },
        "id": "WzNAwb8lfpj4",
        "outputId": "d2bd9a46-99c0-49c1-d067-26b29d9329f0"
      },
      "id": "WzNAwb8lfpj4",
      "execution_count": null,
      "outputs": [
        {
          "output_type": "display_data",
          "data": {
            "text/plain": [
              "<Figure size 640x480 with 1 Axes>"
            ],
            "image/png": "[encoded data removed]"
          },
          "metadata": {}
        }
      ]
    },
    {
      "cell_type": "code",
      "source": [
        "model = tf.keras.Model(inputs=inputs, outputs=[output1, output2])\n",
        "\n",
        "model.compile(optimizer=tf.keras.optimizers.Adam(learning_rate=2e-3),\n",
        "              loss={'category_output': 'categorical_crossentropy', 'gi_output': 'huber_loss'},\n",
        "              metrics={'category_output': 'accuracy', 'gi_output': 'mae'})\n",
        "\n",
        "model.fit(\n",
        "    X_train_scaled,\n",
        "    {'category_output': y_train_category, 'gi_output': y_train_gi},\n",
        "    epochs=75,\n",
        "    validation_data=(X_test_scaled, {'category_output': y_test_category, 'gi_output': y_test_gi}),\n",
        "    verbose=2)"
      ],
      "metadata": {
        "colab": {
          "base_uri": "https://localhost:8080/"
        },
        "id": "ViJSU8eFcS5k",
        "outputId": "49bc1e51-60fa-4fd4-da85-f70930b97a10"
      },
      "id": "ViJSU8eFcS5k",
      "execution_count": null,
      "outputs": [
        {
          "output_type": "stream",
          "name": "stdout",
          "text": [
            "Epoch 1/75\n",
            "17/17 - 2s - loss: 16.0858 - category_output_loss: 1.3582 - gi_output_loss: 14.7277 - category_output_accuracy: 0.7078 - gi_output_mae: 15.2138 - val_loss: 13.9917 - val_category_output_loss: 1.2364 - val_gi_output_loss: 12.7553 - val_category_output_accuracy: 0.6949 - val_gi_output_mae: 13.2286 - 2s/epoch - 125ms/step\n",
            "Epoch 2/75\n",
            "17/17 - 0s - loss: 15.6576 - category_output_loss: 0.8581 - gi_output_loss: 14.7995 - category_output_accuracy: 0.7154 - gi_output_mae: 15.2898 - val_loss: 13.7927 - val_category_output_loss: 0.7957 - val_gi_output_loss: 12.9970 - val_category_output_accuracy: 0.6949 - val_gi_output_mae: 13.4797 - 83ms/epoch - 5ms/step\n",
            "Epoch 3/75\n",
            "17/17 - 0s - loss: 15.5774 - category_output_loss: 0.7963 - gi_output_loss: 14.7810 - category_output_accuracy: 0.7173 - gi_output_mae: 15.2655 - val_loss: 13.2837 - val_category_output_loss: 0.7789 - val_gi_output_loss: 12.5048 - val_category_output_accuracy: 0.6949 - val_gi_output_mae: 12.9884 - 100ms/epoch - 6ms/step\n",
            "Epoch 4/75\n",
            "17/17 - 0s - loss: 15.1689 - category_output_loss: 0.7694 - gi_output_loss: 14.3995 - category_output_accuracy: 0.7173 - gi_output_mae: 14.8847 - val_loss: 13.0265 - val_category_output_loss: 0.7531 - val_gi_output_loss: 12.2734 - val_category_output_accuracy: 0.6949 - val_gi_output_mae: 12.7535 - 101ms/epoch - 6ms/step\n",
            "Epoch 5/75\n",
            "17/17 - 0s - loss: 15.1520 - category_output_loss: 0.7414 - gi_output_loss: 14.4105 - category_output_accuracy: 0.7173 - gi_output_mae: 14.8984 - val_loss: 13.1390 - val_category_output_loss: 0.7037 - val_gi_output_loss: 12.4353 - val_category_output_accuracy: 0.6949 - val_gi_output_mae: 12.9002 - 82ms/epoch - 5ms/step\n",
            "Epoch 6/75\n",
            "17/17 - 0s - loss: 14.7983 - category_output_loss: 0.7349 - gi_output_loss: 14.0633 - category_output_accuracy: 0.7135 - gi_output_mae: 14.5484 - val_loss: 12.8050 - val_category_output_loss: 0.6939 - val_gi_output_loss: 12.1111 - val_category_output_accuracy: 0.6949 - val_gi_output_mae: 12.5871 - 97ms/epoch - 6ms/step\n",
            "Epoch 7/75\n",
            "17/17 - 0s - loss: 15.0195 - category_output_loss: 0.7373 - gi_output_loss: 14.2822 - category_output_accuracy: 0.7097 - gi_output_mae: 14.7653 - val_loss: 12.5731 - val_category_output_loss: 0.6874 - val_gi_output_loss: 11.8857 - val_category_output_accuracy: 0.6949 - val_gi_output_mae: 12.3641 - 129ms/epoch - 8ms/step\n",
            "Epoch 8/75\n",
            "17/17 - 0s - loss: 14.6368 - category_output_loss: 0.7139 - gi_output_loss: 13.9229 - category_output_accuracy: 0.7173 - gi_output_mae: 14.4105 - val_loss: 12.6141 - val_category_output_loss: 0.6875 - val_gi_output_loss: 11.9266 - val_category_output_accuracy: 0.6949 - val_gi_output_mae: 12.4087 - 141ms/epoch - 8ms/step\n",
            "Epoch 9/75\n",
            "17/17 - 0s - loss: 14.5106 - category_output_loss: 0.7289 - gi_output_loss: 13.7817 - category_output_accuracy: 0.7059 - gi_output_mae: 14.2608 - val_loss: 12.5226 - val_category_output_loss: 0.6707 - val_gi_output_loss: 11.8519 - val_category_output_accuracy: 0.7119 - val_gi_output_mae: 12.3332 - 120ms/epoch - 7ms/step\n",
            "Epoch 10/75\n",
            "17/17 - 0s - loss: 14.0060 - category_output_loss: 0.7066 - gi_output_loss: 13.2994 - category_output_accuracy: 0.7116 - gi_output_mae: 13.7764 - val_loss: 12.3064 - val_category_output_loss: 0.6809 - val_gi_output_loss: 11.6255 - val_category_output_accuracy: 0.6949 - val_gi_output_mae: 12.1085 - 131ms/epoch - 8ms/step\n",
            "Epoch 11/75\n",
            "17/17 - 0s - loss: 14.2508 - category_output_loss: 0.7095 - gi_output_loss: 13.5413 - category_output_accuracy: 0.7211 - gi_output_mae: 14.0132 - val_loss: 12.3071 - val_category_output_loss: 0.6434 - val_gi_output_loss: 11.6637 - val_category_output_accuracy: 0.7797 - val_gi_output_mae: 12.1414 - 118ms/epoch - 7ms/step\n",
            "Epoch 12/75\n",
            "17/17 - 0s - loss: 14.1528 - category_output_loss: 0.7193 - gi_output_loss: 13.4335 - category_output_accuracy: 0.7154 - gi_output_mae: 13.9081 - val_loss: 12.1553 - val_category_output_loss: 0.6535 - val_gi_output_loss: 11.5019 - val_category_output_accuracy: 0.7288 - val_gi_output_mae: 11.9800 - 128ms/epoch - 8ms/step\n",
            "Epoch 13/75\n",
            "17/17 - 0s - loss: 13.7186 - category_output_loss: 0.6999 - gi_output_loss: 13.0187 - category_output_accuracy: 0.7192 - gi_output_mae: 13.4919 - val_loss: 12.2696 - val_category_output_loss: 0.6418 - val_gi_output_loss: 11.6278 - val_category_output_accuracy: 0.7288 - val_gi_output_mae: 12.1071 - 128ms/epoch - 8ms/step\n",
            "Epoch 14/75\n",
            "17/17 - 0s - loss: 13.8421 - category_output_loss: 0.7083 - gi_output_loss: 13.1338 - category_output_accuracy: 0.7154 - gi_output_mae: 13.6113 - val_loss: 12.1824 - val_category_output_loss: 0.7058 - val_gi_output_loss: 11.4765 - val_category_output_accuracy: 0.6949 - val_gi_output_mae: 11.9512 - 126ms/epoch - 7ms/step\n",
            "Epoch 15/75\n",
            "17/17 - 0s - loss: 13.8647 - category_output_loss: 0.6954 - gi_output_loss: 13.1693 - category_output_accuracy: 0.7211 - gi_output_mae: 13.6442 - val_loss: 12.6655 - val_category_output_loss: 0.6681 - val_gi_output_loss: 11.9974 - val_category_output_accuracy: 0.7119 - val_gi_output_mae: 12.4735 - 144ms/epoch - 8ms/step\n",
            "Epoch 16/75\n",
            "17/17 - 0s - loss: 13.7244 - category_output_loss: 0.7055 - gi_output_loss: 13.0189 - category_output_accuracy: 0.7173 - gi_output_mae: 13.4922 - val_loss: 12.3085 - val_category_output_loss: 0.6508 - val_gi_output_loss: 11.6577 - val_category_output_accuracy: 0.7288 - val_gi_output_mae: 12.1390 - 123ms/epoch - 7ms/step\n",
            "Epoch 17/75\n",
            "17/17 - 0s - loss: 13.7880 - category_output_loss: 0.6841 - gi_output_loss: 13.1039 - category_output_accuracy: 0.7268 - gi_output_mae: 13.5726 - val_loss: 12.6866 - val_category_output_loss: 0.6492 - val_gi_output_loss: 12.0375 - val_category_output_accuracy: 0.7288 - val_gi_output_mae: 12.5125 - 105ms/epoch - 6ms/step\n",
            "Epoch 18/75\n",
            "17/17 - 0s - loss: 13.6934 - category_output_loss: 0.6910 - gi_output_loss: 13.0024 - category_output_accuracy: 0.7287 - gi_output_mae: 13.4756 - val_loss: 12.1377 - val_category_output_loss: 0.6352 - val_gi_output_loss: 11.5025 - val_category_output_accuracy: 0.7288 - val_gi_output_mae: 11.9781 - 107ms/epoch - 6ms/step\n",
            "Epoch 19/75\n",
            "17/17 - 0s - loss: 13.6269 - category_output_loss: 0.6876 - gi_output_loss: 12.9393 - category_output_accuracy: 0.7192 - gi_output_mae: 13.4199 - val_loss: 12.3156 - val_category_output_loss: 0.6573 - val_gi_output_loss: 11.6583 - val_category_output_accuracy: 0.7119 - val_gi_output_mae: 12.1342 - 128ms/epoch - 8ms/step\n",
            "Epoch 20/75\n",
            "17/17 - 0s - loss: 13.4526 - category_output_loss: 0.6833 - gi_output_loss: 12.7694 - category_output_accuracy: 0.7268 - gi_output_mae: 13.2436 - val_loss: 12.1246 - val_category_output_loss: 0.6369 - val_gi_output_loss: 11.4877 - val_category_output_accuracy: 0.7288 - val_gi_output_mae: 11.9648 - 151ms/epoch - 9ms/step\n",
            "Epoch 21/75\n",
            "17/17 - 0s - loss: 13.3386 - category_output_loss: 0.6866 - gi_output_loss: 12.6520 - category_output_accuracy: 0.7343 - gi_output_mae: 13.1232 - val_loss: 12.3655 - val_category_output_loss: 0.6569 - val_gi_output_loss: 11.7086 - val_category_output_accuracy: 0.7288 - val_gi_output_mae: 12.1775 - 129ms/epoch - 8ms/step\n",
            "Epoch 22/75\n",
            "17/17 - 0s - loss: 13.3307 - category_output_loss: 0.6778 - gi_output_loss: 12.6529 - category_output_accuracy: 0.7249 - gi_output_mae: 13.1230 - val_loss: 12.2890 - val_category_output_loss: 0.6329 - val_gi_output_loss: 11.6561 - val_category_output_accuracy: 0.7288 - val_gi_output_mae: 12.1301 - 125ms/epoch - 7ms/step\n",
            "Epoch 23/75\n",
            "17/17 - 0s - loss: 13.4202 - category_output_loss: 0.6760 - gi_output_loss: 12.7442 - category_output_accuracy: 0.7306 - gi_output_mae: 13.2174 - val_loss: 12.7013 - val_category_output_loss: 0.6579 - val_gi_output_loss: 12.0434 - val_category_output_accuracy: 0.7288 - val_gi_output_mae: 12.5211 - 127ms/epoch - 7ms/step\n",
            "Epoch 24/75\n",
            "17/17 - 0s - loss: 13.4645 - category_output_loss: 0.6836 - gi_output_loss: 12.7809 - category_output_accuracy: 0.7078 - gi_output_mae: 13.2493 - val_loss: 12.1429 - val_category_output_loss: 0.6386 - val_gi_output_loss: 11.5043 - val_category_output_accuracy: 0.7288 - val_gi_output_mae: 11.9832 - 122ms/epoch - 7ms/step\n",
            "Epoch 25/75\n",
            "17/17 - 0s - loss: 13.1611 - category_output_loss: 0.6956 - gi_output_loss: 12.4655 - category_output_accuracy: 0.7419 - gi_output_mae: 12.9383 - val_loss: 11.9988 - val_category_output_loss: 0.6560 - val_gi_output_loss: 11.3428 - val_category_output_accuracy: 0.7288 - val_gi_output_mae: 11.8174 - 122ms/epoch - 7ms/step\n",
            "Epoch 26/75\n",
            "17/17 - 0s - loss: 12.9891 - category_output_loss: 0.6628 - gi_output_loss: 12.3263 - category_output_accuracy: 0.7249 - gi_output_mae: 12.7980 - val_loss: 12.3570 - val_category_output_loss: 0.6402 - val_gi_output_loss: 11.7168 - val_category_output_accuracy: 0.7797 - val_gi_output_mae: 12.1882 - 120ms/epoch - 7ms/step\n",
            "Epoch 27/75\n",
            "17/17 - 0s - loss: 13.0231 - category_output_loss: 0.6808 - gi_output_loss: 12.3423 - category_output_accuracy: 0.7381 - gi_output_mae: 12.8065 - val_loss: 12.5575 - val_category_output_loss: 0.6388 - val_gi_output_loss: 11.9187 - val_category_output_accuracy: 0.7458 - val_gi_output_mae: 12.3853 - 146ms/epoch - 9ms/step\n",
            "Epoch 28/75\n",
            "17/17 - 0s - loss: 13.3365 - category_output_loss: 0.6902 - gi_output_loss: 12.6463 - category_output_accuracy: 0.7154 - gi_output_mae: 13.1108 - val_loss: 12.6005 - val_category_output_loss: 0.6427 - val_gi_output_loss: 11.9578 - val_category_output_accuracy: 0.7288 - val_gi_output_mae: 12.4241 - 149ms/epoch - 9ms/step\n",
            "Epoch 29/75\n",
            "17/17 - 0s - loss: 13.1956 - category_output_loss: 0.6884 - gi_output_loss: 12.5072 - category_output_accuracy: 0.7343 - gi_output_mae: 12.9796 - val_loss: 12.6064 - val_category_output_loss: 0.6406 - val_gi_output_loss: 11.9658 - val_category_output_accuracy: 0.7458 - val_gi_output_mae: 12.4305 - 118ms/epoch - 7ms/step\n",
            "Epoch 30/75\n",
            "17/17 - 0s - loss: 13.0593 - category_output_loss: 0.6795 - gi_output_loss: 12.3797 - category_output_accuracy: 0.7078 - gi_output_mae: 12.8510 - val_loss: 12.6022 - val_category_output_loss: 0.6431 - val_gi_output_loss: 11.9591 - val_category_output_accuracy: 0.7288 - val_gi_output_mae: 12.4251 - 178ms/epoch - 10ms/step\n",
            "Epoch 31/75\n",
            "17/17 - 0s - loss: 12.9397 - category_output_loss: 0.6712 - gi_output_loss: 12.2685 - category_output_accuracy: 0.7476 - gi_output_mae: 12.7326 - val_loss: 12.1234 - val_category_output_loss: 0.6552 - val_gi_output_loss: 11.4681 - val_category_output_accuracy: 0.7288 - val_gi_output_mae: 11.9422 - 139ms/epoch - 8ms/step\n",
            "Epoch 32/75\n",
            "17/17 - 0s - loss: 13.1581 - category_output_loss: 0.6742 - gi_output_loss: 12.4839 - category_output_accuracy: 0.7343 - gi_output_mae: 12.9531 - val_loss: 12.9767 - val_category_output_loss: 0.6489 - val_gi_output_loss: 12.3278 - val_category_output_accuracy: 0.7288 - val_gi_output_mae: 12.7913 - 137ms/epoch - 8ms/step\n",
            "Epoch 33/75\n",
            "17/17 - 0s - loss: 13.4341 - category_output_loss: 0.6817 - gi_output_loss: 12.7524 - category_output_accuracy: 0.7192 - gi_output_mae: 13.2221 - val_loss: 12.8491 - val_category_output_loss: 0.6752 - val_gi_output_loss: 12.1739 - val_category_output_accuracy: 0.7119 - val_gi_output_mae: 12.6428 - 110ms/epoch - 6ms/step\n",
            "Epoch 34/75\n",
            "17/17 - 0s - loss: 12.8820 - category_output_loss: 0.6720 - gi_output_loss: 12.2100 - category_output_accuracy: 0.7362 - gi_output_mae: 12.6766 - val_loss: 12.3927 - val_category_output_loss: 0.6606 - val_gi_output_loss: 11.7321 - val_category_output_accuracy: 0.7288 - val_gi_output_mae: 12.1940 - 92ms/epoch - 5ms/step\n",
            "Epoch 35/75\n",
            "17/17 - 0s - loss: 13.1399 - category_output_loss: 0.6579 - gi_output_loss: 12.4820 - category_output_accuracy: 0.7400 - gi_output_mae: 12.9504 - val_loss: 13.2289 - val_category_output_loss: 0.6363 - val_gi_output_loss: 12.5926 - val_category_output_accuracy: 0.7627 - val_gi_output_mae: 13.0584 - 97ms/epoch - 6ms/step\n",
            "Epoch 36/75\n",
            "17/17 - 0s - loss: 12.9273 - category_output_loss: 0.6731 - gi_output_loss: 12.2542 - category_output_accuracy: 0.7154 - gi_output_mae: 12.7239 - val_loss: 11.9073 - val_category_output_loss: 0.6178 - val_gi_output_loss: 11.2895 - val_category_output_accuracy: 0.7627 - val_gi_output_mae: 11.7587 - 87ms/epoch - 5ms/step\n",
            "Epoch 37/75\n",
            "17/17 - 0s - loss: 13.0569 - category_output_loss: 0.6714 - gi_output_loss: 12.3854 - category_output_accuracy: 0.7343 - gi_output_mae: 12.8578 - val_loss: 12.7661 - val_category_output_loss: 0.6375 - val_gi_output_loss: 12.1286 - val_category_output_accuracy: 0.7458 - val_gi_output_mae: 12.5974 - 88ms/epoch - 5ms/step\n",
            "Epoch 38/75\n",
            "17/17 - 0s - loss: 12.8757 - category_output_loss: 0.6677 - gi_output_loss: 12.2080 - category_output_accuracy: 0.7324 - gi_output_mae: 12.6812 - val_loss: 12.4862 - val_category_output_loss: 0.6563 - val_gi_output_loss: 11.8299 - val_category_output_accuracy: 0.7288 - val_gi_output_mae: 12.2881 - 75ms/epoch - 4ms/step\n",
            "Epoch 39/75\n",
            "17/17 - 0s - loss: 12.8767 - category_output_loss: 0.6595 - gi_output_loss: 12.2173 - category_output_accuracy: 0.7362 - gi_output_mae: 12.6853 - val_loss: 12.5231 - val_category_output_loss: 0.6343 - val_gi_output_loss: 11.8888 - val_category_output_accuracy: 0.7458 - val_gi_output_mae: 12.3518 - 95ms/epoch - 6ms/step\n",
            "Epoch 40/75\n",
            "17/17 - 0s - loss: 12.7395 - category_output_loss: 0.6638 - gi_output_loss: 12.0757 - category_output_accuracy: 0.7419 - gi_output_mae: 12.5421 - val_loss: 12.6592 - val_category_output_loss: 0.6282 - val_gi_output_loss: 12.0310 - val_category_output_accuracy: 0.7458 - val_gi_output_mae: 12.5029 - 98ms/epoch - 6ms/step\n",
            "Epoch 41/75\n",
            "17/17 - 0s - loss: 12.9397 - category_output_loss: 0.6631 - gi_output_loss: 12.2766 - category_output_accuracy: 0.7268 - gi_output_mae: 12.7468 - val_loss: 12.9444 - val_category_output_loss: 0.6552 - val_gi_output_loss: 12.2892 - val_category_output_accuracy: 0.7288 - val_gi_output_mae: 12.7618 - 80ms/epoch - 5ms/step\n",
            "Epoch 42/75\n",
            "17/17 - 0s - loss: 12.6035 - category_output_loss: 0.6636 - gi_output_loss: 11.9398 - category_output_accuracy: 0.7230 - gi_output_mae: 12.4112 - val_loss: 12.5378 - val_category_output_loss: 0.6287 - val_gi_output_loss: 11.9091 - val_category_output_accuracy: 0.7458 - val_gi_output_mae: 12.3785 - 78ms/epoch - 5ms/step\n",
            "Epoch 43/75\n",
            "17/17 - 0s - loss: 12.8873 - category_output_loss: 0.6574 - gi_output_loss: 12.2299 - category_output_accuracy: 0.7306 - gi_output_mae: 12.6976 - val_loss: 12.9736 - val_category_output_loss: 0.6624 - val_gi_output_loss: 12.3112 - val_category_output_accuracy: 0.7288 - val_gi_output_mae: 12.7813 - 92ms/epoch - 5ms/step\n",
            "Epoch 44/75\n",
            "17/17 - 0s - loss: 12.6763 - category_output_loss: 0.6526 - gi_output_loss: 12.0237 - category_output_accuracy: 0.7476 - gi_output_mae: 12.4901 - val_loss: 12.3682 - val_category_output_loss: 0.6295 - val_gi_output_loss: 11.7388 - val_category_output_accuracy: 0.7627 - val_gi_output_mae: 12.2059 - 80ms/epoch - 5ms/step\n",
            "Epoch 45/75\n",
            "17/17 - 0s - loss: 13.0080 - category_output_loss: 0.6564 - gi_output_loss: 12.3516 - category_output_accuracy: 0.7268 - gi_output_mae: 12.8207 - val_loss: 12.5317 - val_category_output_loss: 0.6679 - val_gi_output_loss: 11.8638 - val_category_output_accuracy: 0.6949 - val_gi_output_mae: 12.3327 - 104ms/epoch - 6ms/step\n",
            "Epoch 46/75\n",
            "17/17 - 0s - loss: 12.8205 - category_output_loss: 0.6520 - gi_output_loss: 12.1686 - category_output_accuracy: 0.7268 - gi_output_mae: 12.6405 - val_loss: 12.6670 - val_category_output_loss: 0.6565 - val_gi_output_loss: 12.0105 - val_category_output_accuracy: 0.7458 - val_gi_output_mae: 12.4799 - 94ms/epoch - 6ms/step\n",
            "Epoch 47/75\n",
            "17/17 - 0s - loss: 12.7308 - category_output_loss: 0.6586 - gi_output_loss: 12.0721 - category_output_accuracy: 0.7400 - gi_output_mae: 12.5400 - val_loss: 13.1276 - val_category_output_loss: 0.6573 - val_gi_output_loss: 12.4702 - val_category_output_accuracy: 0.7288 - val_gi_output_mae: 12.9308 - 79ms/epoch - 5ms/step\n",
            "Epoch 48/75\n",
            "17/17 - 0s - loss: 12.3807 - category_output_loss: 0.6465 - gi_output_loss: 11.7342 - category_output_accuracy: 0.7343 - gi_output_mae: 12.1962 - val_loss: 12.2833 - val_category_output_loss: 0.6325 - val_gi_output_loss: 11.6509 - val_category_output_accuracy: 0.7288 - val_gi_output_mae: 12.1205 - 74ms/epoch - 4ms/step\n",
            "Epoch 49/75\n",
            "17/17 - 0s - loss: 12.3355 - category_output_loss: 0.6549 - gi_output_loss: 11.6806 - category_output_accuracy: 0.7306 - gi_output_mae: 12.1458 - val_loss: 12.9894 - val_category_output_loss: 0.6338 - val_gi_output_loss: 12.3556 - val_category_output_accuracy: 0.7458 - val_gi_output_mae: 12.8263 - 83ms/epoch - 5ms/step\n",
            "Epoch 50/75\n",
            "17/17 - 0s - loss: 12.3968 - category_output_loss: 0.6487 - gi_output_loss: 11.7481 - category_output_accuracy: 0.7173 - gi_output_mae: 12.2131 - val_loss: 12.6383 - val_category_output_loss: 0.6535 - val_gi_output_loss: 11.9848 - val_category_output_accuracy: 0.7288 - val_gi_output_mae: 12.4507 - 78ms/epoch - 5ms/step\n",
            "Epoch 51/75\n",
            "17/17 - 0s - loss: 12.7644 - category_output_loss: 0.6484 - gi_output_loss: 12.1160 - category_output_accuracy: 0.7438 - gi_output_mae: 12.5870 - val_loss: 13.0981 - val_category_output_loss: 0.6219 - val_gi_output_loss: 12.4762 - val_category_output_accuracy: 0.7627 - val_gi_output_mae: 12.9384 - 104ms/epoch - 6ms/step\n",
            "Epoch 52/75\n",
            "17/17 - 0s - loss: 12.7422 - category_output_loss: 0.6523 - gi_output_loss: 12.0899 - category_output_accuracy: 0.7400 - gi_output_mae: 12.5554 - val_loss: 13.0557 - val_category_output_loss: 0.6479 - val_gi_output_loss: 12.4077 - val_category_output_accuracy: 0.7288 - val_gi_output_mae: 12.8647 - 74ms/epoch - 4ms/step\n",
            "Epoch 53/75\n",
            "17/17 - 0s - loss: 12.5705 - category_output_loss: 0.6490 - gi_output_loss: 11.9216 - category_output_accuracy: 0.7362 - gi_output_mae: 12.3825 - val_loss: 12.5931 - val_category_output_loss: 0.6608 - val_gi_output_loss: 11.9323 - val_category_output_accuracy: 0.6949 - val_gi_output_mae: 12.3986 - 76ms/epoch - 4ms/step\n",
            "Epoch 54/75\n",
            "17/17 - 0s - loss: 12.5824 - category_output_loss: 0.6570 - gi_output_loss: 11.9253 - category_output_accuracy: 0.7230 - gi_output_mae: 12.3856 - val_loss: 12.1419 - val_category_output_loss: 0.6249 - val_gi_output_loss: 11.5171 - val_category_output_accuracy: 0.7797 - val_gi_output_mae: 11.9861 - 76ms/epoch - 4ms/step\n",
            "Epoch 55/75\n",
            "17/17 - 0s - loss: 12.3470 - category_output_loss: 0.6544 - gi_output_loss: 11.6926 - category_output_accuracy: 0.7249 - gi_output_mae: 12.1550 - val_loss: 12.4136 - val_category_output_loss: 0.6399 - val_gi_output_loss: 11.7737 - val_category_output_accuracy: 0.7288 - val_gi_output_mae: 12.2367 - 81ms/epoch - 5ms/step\n",
            "Epoch 56/75\n",
            "17/17 - 0s - loss: 12.5377 - category_output_loss: 0.6564 - gi_output_loss: 11.8813 - category_output_accuracy: 0.7249 - gi_output_mae: 12.3453 - val_loss: 12.1921 - val_category_output_loss: 0.6144 - val_gi_output_loss: 11.5777 - val_category_output_accuracy: 0.7288 - val_gi_output_mae: 12.0471 - 96ms/epoch - 6ms/step\n",
            "Epoch 57/75\n",
            "17/17 - 0s - loss: 12.3036 - category_output_loss: 0.6512 - gi_output_loss: 11.6523 - category_output_accuracy: 0.7438 - gi_output_mae: 12.1194 - val_loss: 13.1391 - val_category_output_loss: 0.6270 - val_gi_output_loss: 12.5121 - val_category_output_accuracy: 0.7288 - val_gi_output_mae: 12.9728 - 96ms/epoch - 6ms/step\n",
            "Epoch 58/75\n",
            "17/17 - 0s - loss: 12.4884 - category_output_loss: 0.6552 - gi_output_loss: 11.8332 - category_output_accuracy: 0.7343 - gi_output_mae: 12.2989 - val_loss: 11.8953 - val_category_output_loss: 0.6091 - val_gi_output_loss: 11.2861 - val_category_output_accuracy: 0.7966 - val_gi_output_mae: 11.7502 - 76ms/epoch - 4ms/step\n",
            "Epoch 59/75\n",
            "17/17 - 0s - loss: 12.4647 - category_output_loss: 0.6631 - gi_output_loss: 11.8016 - category_output_accuracy: 0.7230 - gi_output_mae: 12.2682 - val_loss: 12.8038 - val_category_output_loss: 0.6651 - val_gi_output_loss: 12.1387 - val_category_output_accuracy: 0.6949 - val_gi_output_mae: 12.5975 - 76ms/epoch - 4ms/step\n",
            "Epoch 60/75\n",
            "17/17 - 0s - loss: 12.0771 - category_output_loss: 0.6571 - gi_output_loss: 11.4200 - category_output_accuracy: 0.7287 - gi_output_mae: 11.8901 - val_loss: 12.8306 - val_category_output_loss: 0.6591 - val_gi_output_loss: 12.1715 - val_category_output_accuracy: 0.7288 - val_gi_output_mae: 12.6446 - 89ms/epoch - 5ms/step\n",
            "Epoch 61/75\n",
            "17/17 - 0s - loss: 12.3396 - category_output_loss: 0.6650 - gi_output_loss: 11.6746 - category_output_accuracy: 0.7343 - gi_output_mae: 12.1392 - val_loss: 12.1564 - val_category_output_loss: 0.6563 - val_gi_output_loss: 11.5001 - val_category_output_accuracy: 0.6949 - val_gi_output_mae: 11.9690 - 98ms/epoch - 6ms/step\n",
            "Epoch 62/75\n",
            "17/17 - 0s - loss: 12.4577 - category_output_loss: 0.6577 - gi_output_loss: 11.8000 - category_output_accuracy: 0.7249 - gi_output_mae: 12.2653 - val_loss: 12.8421 - val_category_output_loss: 0.6253 - val_gi_output_loss: 12.2168 - val_category_output_accuracy: 0.7458 - val_gi_output_mae: 12.6709 - 93ms/epoch - 5ms/step\n",
            "Epoch 63/75\n",
            "17/17 - 0s - loss: 12.3807 - category_output_loss: 0.6483 - gi_output_loss: 11.7324 - category_output_accuracy: 0.7400 - gi_output_mae: 12.1971 - val_loss: 12.6765 - val_category_output_loss: 0.6460 - val_gi_output_loss: 12.0305 - val_category_output_accuracy: 0.7119 - val_gi_output_mae: 12.4957 - 82ms/epoch - 5ms/step\n",
            "Epoch 64/75\n",
            "17/17 - 0s - loss: 12.0645 - category_output_loss: 0.6538 - gi_output_loss: 11.4107 - category_output_accuracy: 0.7381 - gi_output_mae: 11.8722 - val_loss: 11.7877 - val_category_output_loss: 0.5980 - val_gi_output_loss: 11.1898 - val_category_output_accuracy: 0.7966 - val_gi_output_mae: 11.6622 - 95ms/epoch - 6ms/step\n",
            "Epoch 65/75\n",
            "17/17 - 0s - loss: 12.1382 - category_output_loss: 0.6445 - gi_output_loss: 11.4937 - category_output_accuracy: 0.7324 - gi_output_mae: 11.9599 - val_loss: 12.7001 - val_category_output_loss: 0.6242 - val_gi_output_loss: 12.0759 - val_category_output_accuracy: 0.7288 - val_gi_output_mae: 12.5414 - 83ms/epoch - 5ms/step\n",
            "Epoch 66/75\n",
            "17/17 - 0s - loss: 11.9338 - category_output_loss: 0.6462 - gi_output_loss: 11.2875 - category_output_accuracy: 0.7362 - gi_output_mae: 11.7541 - val_loss: 13.4423 - val_category_output_loss: 0.6405 - val_gi_output_loss: 12.8018 - val_category_output_accuracy: 0.7288 - val_gi_output_mae: 13.2764 - 93ms/epoch - 5ms/step\n",
            "Epoch 67/75\n",
            "17/17 - 0s - loss: 12.3916 - category_output_loss: 0.6590 - gi_output_loss: 11.7326 - category_output_accuracy: 0.7400 - gi_output_mae: 12.2030 - val_loss: 12.4714 - val_category_output_loss: 0.6490 - val_gi_output_loss: 11.8225 - val_category_output_accuracy: 0.7288 - val_gi_output_mae: 12.2700 - 92ms/epoch - 5ms/step\n",
            "Epoch 68/75\n",
            "17/17 - 0s - loss: 12.0885 - category_output_loss: 0.6539 - gi_output_loss: 11.4345 - category_output_accuracy: 0.7287 - gi_output_mae: 11.8979 - val_loss: 12.2907 - val_category_output_loss: 0.6165 - val_gi_output_loss: 11.6742 - val_category_output_accuracy: 0.7288 - val_gi_output_mae: 12.1294 - 79ms/epoch - 5ms/step\n",
            "Epoch 69/75\n",
            "17/17 - 0s - loss: 11.9354 - category_output_loss: 0.6390 - gi_output_loss: 11.2964 - category_output_accuracy: 0.7306 - gi_output_mae: 11.7593 - val_loss: 12.5008 - val_category_output_loss: 0.6028 - val_gi_output_loss: 11.8980 - val_category_output_accuracy: 0.8136 - val_gi_output_mae: 12.3561 - 90ms/epoch - 5ms/step\n",
            "Epoch 70/75\n",
            "17/17 - 0s - loss: 11.8860 - category_output_loss: 0.6303 - gi_output_loss: 11.2557 - category_output_accuracy: 0.7268 - gi_output_mae: 11.7172 - val_loss: 12.1985 - val_category_output_loss: 0.6132 - val_gi_output_loss: 11.5854 - val_category_output_accuracy: 0.7288 - val_gi_output_mae: 12.0550 - 79ms/epoch - 5ms/step\n",
            "Epoch 71/75\n",
            "17/17 - 0s - loss: 11.9758 - category_output_loss: 0.6385 - gi_output_loss: 11.3373 - category_output_accuracy: 0.7571 - gi_output_mae: 11.7989 - val_loss: 11.8706 - val_category_output_loss: 0.6314 - val_gi_output_loss: 11.2393 - val_category_output_accuracy: 0.7627 - val_gi_output_mae: 11.6982 - 78ms/epoch - 5ms/step\n",
            "Epoch 72/75\n",
            "17/17 - 0s - loss: 12.0168 - category_output_loss: 0.6463 - gi_output_loss: 11.3705 - category_output_accuracy: 0.7438 - gi_output_mae: 11.8326 - val_loss: 13.3084 - val_category_output_loss: 0.6315 - val_gi_output_loss: 12.6769 - val_category_output_accuracy: 0.7288 - val_gi_output_mae: 13.1427 - 77ms/epoch - 5ms/step\n",
            "Epoch 73/75\n",
            "17/17 - 0s - loss: 12.1123 - category_output_loss: 0.6396 - gi_output_loss: 11.4727 - category_output_accuracy: 0.7306 - gi_output_mae: 11.9344 - val_loss: 12.7271 - val_category_output_loss: 0.6337 - val_gi_output_loss: 12.0934 - val_category_output_accuracy: 0.7288 - val_gi_output_mae: 12.5583 - 92ms/epoch - 5ms/step\n",
            "Epoch 74/75\n",
            "17/17 - 0s - loss: 11.9986 - category_output_loss: 0.6302 - gi_output_loss: 11.3683 - category_output_accuracy: 0.7419 - gi_output_mae: 11.8353 - val_loss: 12.3055 - val_category_output_loss: 0.5993 - val_gi_output_loss: 11.7063 - val_category_output_accuracy: 0.7797 - val_gi_output_mae: 12.1685 - 82ms/epoch - 5ms/step\n",
            "Epoch 75/75\n",
            "17/17 - 0s - loss: 11.9759 - category_output_loss: 0.6290 - gi_output_loss: 11.3469 - category_output_accuracy: 0.7457 - gi_output_mae: 11.8069 - val_loss: 12.0743 - val_category_output_loss: 0.6155 - val_gi_output_loss: 11.4588 - val_category_output_accuracy: 0.7966 - val_gi_output_mae: 11.9127 - 75ms/epoch - 4ms/step\n"
          ]
        },
        {
          "output_type": "execute_result",
          "data": {
            "text/plain": [
              "<keras.src.callbacks.History at 0x7fad709c7970>"
            ]
          },
          "metadata": {},
          "execution_count": 111
        }
      ]
    },
    {
      "cell_type": "markdown",
      "source": [
        "### Evaluate Model"
      ],
      "metadata": {
        "id": "_O_LtZbdnZQB"
      },
      "id": "_O_LtZbdnZQB"
    },
    {
      "cell_type": "code",
      "source": [
        "results = model.evaluate(X_test_scaled, {'category_output': y_test_category, 'gi_output': y_test_gi})\n",
        "\n",
        "print(f\"GI Category Accuracy: {results[3]:.4f}\")\n",
        "print(f\"GI MAE: {results[4]:.4f}\")"
      ],
      "metadata": {
        "colab": {
          "base_uri": "https://localhost:8080/"
        },
        "id": "KDVQkfTunNLv",
        "outputId": "ddaec177-93c8-4248-9ac0-1e01e108c868"
      },
      "id": "KDVQkfTunNLv",
      "execution_count": null,
      "outputs": [
        {
          "output_type": "stream",
          "name": "stdout",
          "text": [
            "2/2 [==============================] - 0s 15ms/step - loss: 12.0743 - category_output_loss: 0.6155 - gi_output_loss: 11.4588 - category_output_accuracy: 0.7966 - gi_output_mae: 11.9127\n",
            "GI Category Accuracy: 0.7966\n",
            "GI MAE: 11.9127\n"
          ]
        }
      ]
    },
    {
      "cell_type": "code",
      "source": [
        "new_data = np.array([[105.0, 8.1, 18.5, 1.9]])\n",
        "new_data_scaled = scaler.transform(new_data)\n",
        "\n",
        "new_prediction = model.predict(new_data_scaled)\n",
        "gi_new_prediction = round((new_prediction[1])[0][0])\n",
        "gi_new_category = new_prediction[0]\n",
        "\n",
        "category_index = np.argmax(gi_new_category, axis=1)\n",
        "category_label = label_encoder_gi.inverse_transform(category_index)\n",
        "\n",
        "print('Glycemic Index Prediction: ', gi_new_prediction)\n",
        "print('Glycemic Index Category:', category_label[0])"
      ],
      "metadata": {
        "colab": {
          "base_uri": "https://localhost:8080/"
        },
        "id": "yr3AoJWHlNim",
        "outputId": "9663c9e5-1333-4929-aeb9-76704928e74e"
      },
      "id": "yr3AoJWHlNim",
      "execution_count": null,
      "outputs": [
        {
          "output_type": "stream",
          "name": "stdout",
          "text": [
            "1/1 [==============================] - 0s 37ms/step\n",
            "Glycemic Index Prediction:  39\n",
            "Glycemic Index Category: Low\n"
          ]
        },
        {
          "output_type": "stream",
          "name": "stderr",
          "text": [
            "/usr/local/lib/python3.10/dist-packages/sklearn/base.py:439: UserWarning: X does not have valid feature names, but StandardScaler was fitted with feature names\n",
            "  warnings.warn(\n"
          ]
        }
      ]
    },
    {
      "cell_type": "markdown",
      "source": [
        "### Save Model"
      ],
      "metadata": {
        "id": "o7qureWoXCfm"
      },
      "id": "o7qureWoXCfm"
    },
    {
      "cell_type": "code",
      "source": [
        "model.save('Glycemic Index Model.h5')"
      ],
      "metadata": {
        "colab": {
          "base_uri": "https://localhost:8080/"
        },
        "id": "atwgfUL2Xkqe",
        "outputId": "56622f14-3c49-4f54-9e5c-a7220cdaef50"
      },
      "id": "atwgfUL2Xkqe",
      "execution_count": null,
      "outputs": [
        {
          "output_type": "stream",
          "name": "stderr",
          "text": [
            "/usr/local/lib/python3.10/dist-packages/keras/src/engine/training.py:3103: UserWarning: You are saving your model as an HDF5 file via `model.save()`. This file format is considered legacy. We recommend using instead the native Keras format, e.g. `model.save('my_model.keras')`.\n",
            "  saving_api.save_model(\n"
          ]
        }
      ]
    }
  ],
  "metadata": {
    "kernelspec": {
      "display_name": "Python 3 (ipykernel)",
      "language": "python",
      "name": "python3"
    },
    "language_info": {
      "codemirror_mode": {
        "name": "ipython",
        "version": 3
      },
      "file_extension": ".py",
      "mimetype": "text/x-python",
      "name": "python",
      "nbconvert_exporter": "python",
      "pygments_lexer": "ipython3",
      "version": "3.12.2"
    },
    "colab": {
      "provenance": []
    }
  },
  "nbformat": 4,
  "nbformat_minor": 5
}