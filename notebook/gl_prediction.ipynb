{
  "cells": [
    {
      "cell_type": "markdown",
      "id": "Qe0JbgdhbShw",
      "metadata": {
        "id": "Qe0JbgdhbShw"
      },
      "source": [
        "### Import Library"
      ]
    },
    {
      "cell_type": "code",
      "execution_count": null,
      "id": "yJnWbX2_iwQQ",
      "metadata": {
        "id": "yJnWbX2_iwQQ"
      },
      "outputs": [],
      "source": [
        "import numpy as np\n",
        "import pandas as pd\n",
        "import seaborn as sns\n",
        "import matplotlib.pyplot as plt\n",
        "import tensorflow as tf\n",
        "\n",
        "from sklearn import metrics\n",
        "from sklearn.linear_model import LinearRegression\n",
        "from sklearn.tree import DecisionTreeRegressor\n",
        "from sklearn.svm import SVR\n",
        "from sklearn.model_selection import train_test_split\n",
        "from sklearn.preprocessing import StandardScaler"
      ]
    },
    {
      "cell_type": "markdown",
      "id": "BXctRKGVbVPN",
      "metadata": {
        "id": "BXctRKGVbVPN"
      },
      "source": [
        "### Load Data"
      ]
    },
    {
      "cell_type": "code",
      "execution_count": null,
      "id": "Bqs4xLqazoTX",
      "metadata": {
        "colab": {
          "base_uri": "https://localhost:8080/",
          "height": 423
        },
        "id": "Bqs4xLqazoTX",
        "outputId": "e0226961-5189-467c-ce4c-acdac350cbaf"
      },
      "outputs": [
        {
          "data": {
            "application/vnd.google.colaboratory.intrinsic+json": {
              "summary": "{\n  \"name\": \"data\",\n  \"rows\": 586,\n  \"fields\": [\n    {\n      \"column\": \"category\",\n      \"properties\": {\n        \"dtype\": \"category\",\n        \"num_unique_values\": 17,\n        \"samples\": [\n          \"Other\",\n          \"Vegetables\",\n          \"Seafood\"\n        ],\n        \"semantic_type\": \"\",\n        \"description\": \"\"\n      }\n    },\n    {\n      \"column\": \"name\",\n      \"properties\": {\n        \"dtype\": \"string\",\n        \"num_unique_values\": 578,\n        \"samples\": [\n          \"Fennel\",\n          \"Rice Bread\",\n          \"Cream (30%)\"\n        ],\n        \"semantic_type\": \"\",\n        \"description\": \"\"\n      }\n    },\n    {\n      \"column\": \"glycemic_index\",\n      \"properties\": {\n        \"dtype\": \"number\",\n        \"std\": 24.13100778240758,\n        \"min\": 0.0,\n        \"max\": 115.0,\n        \"num_unique_values\": 65,\n        \"samples\": [\n          79.0,\n          69.0,\n          35.0\n        ],\n        \"semantic_type\": \"\",\n        \"description\": \"\"\n      }\n    },\n    {\n      \"column\": \"glycemic_load\",\n      \"properties\": {\n        \"dtype\": \"number\",\n        \"std\": 18.316096606085676,\n        \"min\": 0.0,\n        \"max\": 95.0,\n        \"num_unique_values\": 279,\n        \"samples\": [\n          4.8,\n          17.2,\n          61.6\n        ],\n        \"semantic_type\": \"\",\n        \"description\": \"\"\n      }\n    },\n    {\n      \"column\": \"calories (kcal)\",\n      \"properties\": {\n        \"dtype\": \"number\",\n        \"std\": 180.10245401229338,\n        \"min\": 2.0,\n        \"max\": 900.0,\n        \"num_unique_values\": 302,\n        \"samples\": [\n          310.0,\n          384.0,\n          208.0\n        ],\n        \"semantic_type\": \"\",\n        \"description\": \"\"\n      }\n    },\n    {\n      \"column\": \"proteins (g)\",\n      \"properties\": {\n        \"dtype\": \"number\",\n        \"std\": 7.618161679973942,\n        \"min\": 0.0,\n        \"max\": 46.0,\n        \"num_unique_values\": 172,\n        \"samples\": [\n          1.6,\n          36.5,\n          10.5\n        ],\n        \"semantic_type\": \"\",\n        \"description\": \"\"\n      }\n    },\n    {\n      \"column\": \"carbohydrates (g)\",\n      \"properties\": {\n        \"dtype\": \"number\",\n        \"std\": 27.074133443881706,\n        \"min\": 0.0,\n        \"max\": 100.0,\n        \"num_unique_values\": 312,\n        \"samples\": [\n          34.9,\n          20.0,\n          95.0\n        ],\n        \"semantic_type\": \"\",\n        \"description\": \"\"\n      }\n    },\n    {\n      \"column\": \"fats (g)\",\n      \"properties\": {\n        \"dtype\": \"number\",\n        \"std\": 16.96051919180265,\n        \"min\": 0.0,\n        \"max\": 100.0,\n        \"num_unique_values\": 174,\n        \"samples\": [\n          21.0,\n          3.5,\n          10.4\n        ],\n        \"semantic_type\": \"\",\n        \"description\": \"\"\n      }\n    }\n  ]\n}",
              "type": "dataframe",
              "variable_name": "data"
            },
            "text/html": [
              "\n",
              "  <div id=\"df-efdd62a0-3b8e-4c96-9777-e7c093fc095a\" class=\"colab-df-container\">\n",
              "    <div>\n",
              "<style scoped>\n",
              "    .dataframe tbody tr th:only-of-type {\n",
              "        vertical-align: middle;\n",
              "    }\n",
              "\n",
              "    .dataframe tbody tr th {\n",
              "        vertical-align: top;\n",
              "    }\n",
              "\n",
              "    .dataframe thead th {\n",
              "        text-align: right;\n",
              "    }\n",
              "</style>\n",
              "<table border=\"1\" class=\"dataframe\">\n",
              "  <thead>\n",
              "    <tr style=\"text-align: right;\">\n",
              "      <th></th>\n",
              "      <th>category</th>\n",
              "      <th>name</th>\n",
              "      <th>glycemic_index</th>\n",
              "      <th>glycemic_load</th>\n",
              "      <th>calories (kcal)</th>\n",
              "      <th>proteins (g)</th>\n",
              "      <th>carbohydrates (g)</th>\n",
              "      <th>fats (g)</th>\n",
              "    </tr>\n",
              "  </thead>\n",
              "  <tbody>\n",
              "    <tr>\n",
              "      <th>0</th>\n",
              "      <td>Other</td>\n",
              "      <td>Yeast</td>\n",
              "      <td>35.0</td>\n",
              "      <td>6.3</td>\n",
              "      <td>105.0</td>\n",
              "      <td>8.0</td>\n",
              "      <td>18.0</td>\n",
              "      <td>1.9</td>\n",
              "    </tr>\n",
              "    <tr>\n",
              "      <th>1</th>\n",
              "      <td>Other</td>\n",
              "      <td>Brewer’s yeast</td>\n",
              "      <td>35.0</td>\n",
              "      <td>0.0</td>\n",
              "      <td>75.0</td>\n",
              "      <td>12.7</td>\n",
              "      <td>0.0</td>\n",
              "      <td>2.7</td>\n",
              "    </tr>\n",
              "    <tr>\n",
              "      <th>2</th>\n",
              "      <td>Other</td>\n",
              "      <td>Maltodextrin</td>\n",
              "      <td>95.0</td>\n",
              "      <td>94.0</td>\n",
              "      <td>380.0</td>\n",
              "      <td>0.0</td>\n",
              "      <td>99.0</td>\n",
              "      <td>0.0</td>\n",
              "    </tr>\n",
              "    <tr>\n",
              "      <th>3</th>\n",
              "      <td>Other</td>\n",
              "      <td>Palm pulp</td>\n",
              "      <td>20.0</td>\n",
              "      <td>1.2</td>\n",
              "      <td>354.0</td>\n",
              "      <td>3.4</td>\n",
              "      <td>6.2</td>\n",
              "      <td>33.5</td>\n",
              "    </tr>\n",
              "    <tr>\n",
              "      <th>4</th>\n",
              "      <td>Other</td>\n",
              "      <td>Omelette</td>\n",
              "      <td>49.0</td>\n",
              "      <td>7.3</td>\n",
              "      <td>210.0</td>\n",
              "      <td>14.0</td>\n",
              "      <td>15.0</td>\n",
              "      <td>2.1</td>\n",
              "    </tr>\n",
              "    <tr>\n",
              "      <th>...</th>\n",
              "      <td>...</td>\n",
              "      <td>...</td>\n",
              "      <td>...</td>\n",
              "      <td>...</td>\n",
              "      <td>...</td>\n",
              "      <td>...</td>\n",
              "      <td>...</td>\n",
              "      <td>...</td>\n",
              "    </tr>\n",
              "    <tr>\n",
              "      <th>581</th>\n",
              "      <td>Baked products</td>\n",
              "      <td>Pumpernickel Bread</td>\n",
              "      <td>45.0</td>\n",
              "      <td>21.6</td>\n",
              "      <td>250.0</td>\n",
              "      <td>9.0</td>\n",
              "      <td>48.0</td>\n",
              "      <td>3.1</td>\n",
              "    </tr>\n",
              "    <tr>\n",
              "      <th>582</th>\n",
              "      <td>Baked products</td>\n",
              "      <td>Rice Bread</td>\n",
              "      <td>70.0</td>\n",
              "      <td>48.0</td>\n",
              "      <td>306.0</td>\n",
              "      <td>6.3</td>\n",
              "      <td>68.6</td>\n",
              "      <td>0.7</td>\n",
              "    </tr>\n",
              "    <tr>\n",
              "      <th>583</th>\n",
              "      <td>Baked products</td>\n",
              "      <td>Bran bread</td>\n",
              "      <td>65.0</td>\n",
              "      <td>29.4</td>\n",
              "      <td>227.0</td>\n",
              "      <td>7.0</td>\n",
              "      <td>45.2</td>\n",
              "      <td>1.3</td>\n",
              "    </tr>\n",
              "    <tr>\n",
              "      <th>584</th>\n",
              "      <td>Baked products</td>\n",
              "      <td>Pumpkin bread</td>\n",
              "      <td>40.0</td>\n",
              "      <td>17.0</td>\n",
              "      <td>211.0</td>\n",
              "      <td>5.5</td>\n",
              "      <td>42.6</td>\n",
              "      <td>2.4</td>\n",
              "    </tr>\n",
              "    <tr>\n",
              "      <th>585</th>\n",
              "      <td>Baked products</td>\n",
              "      <td>Fruit bread</td>\n",
              "      <td>47.0</td>\n",
              "      <td>24.4</td>\n",
              "      <td>370.0</td>\n",
              "      <td>7.6</td>\n",
              "      <td>52.0</td>\n",
              "      <td>7.4</td>\n",
              "    </tr>\n",
              "  </tbody>\n",
              "</table>\n",
              "<p>586 rows × 8 columns</p>\n",
              "</div>\n",
              "    <div class=\"colab-df-buttons\">\n",
              "\n",
              "  <div class=\"colab-df-container\">\n",
              "    <button class=\"colab-df-convert\" onclick=\"convertToInteractive('df-efdd62a0-3b8e-4c96-9777-e7c093fc095a')\"\n",
              "            title=\"Convert this dataframe to an interactive table.\"\n",
              "            style=\"display:none;\">\n",
              "\n",
              "  <svg xmlns=\"http://www.w3.org/2000/svg\" height=\"24px\" viewBox=\"0 -960 960 960\">\n",
              "    <path d=\"M120-120v-720h720v720H120Zm60-500h600v-160H180v160Zm220 220h160v-160H400v160Zm0 220h160v-160H400v160ZM180-400h160v-160H180v160Zm440 0h160v-160H620v160ZM180-180h160v-160H180v160Zm440 0h160v-160H620v160Z\"/>\n",
              "  </svg>\n",
              "    </button>\n",
              "\n",
              "  <style>\n",
              "    .colab-df-container {\n",
              "      display:flex;\n",
              "      gap: 12px;\n",
              "    }\n",
              "\n",
              "    .colab-df-convert {\n",
              "      background-color: #E8F0FE;\n",
              "      border: none;\n",
              "      border-radius: 50%;\n",
              "      cursor: pointer;\n",
              "      display: none;\n",
              "      fill: #1967D2;\n",
              "      height: 32px;\n",
              "      padding: 0 0 0 0;\n",
              "      width: 32px;\n",
              "    }\n",
              "\n",
              "    .colab-df-convert:hover {\n",
              "      background-color: #E2EBFA;\n",
              "      box-shadow: 0px 1px 2px rgba(60, 64, 67, 0.3), 0px 1px 3px 1px rgba(60, 64, 67, 0.15);\n",
              "      fill: #174EA6;\n",
              "    }\n",
              "\n",
              "    .colab-df-buttons div {\n",
              "      margin-bottom: 4px;\n",
              "    }\n",
              "\n",
              "    [theme=dark] .colab-df-convert {\n",
              "      background-color: #3B4455;\n",
              "      fill: #D2E3FC;\n",
              "    }\n",
              "\n",
              "    [theme=dark] .colab-df-convert:hover {\n",
              "      background-color: #434B5C;\n",
              "      box-shadow: 0px 1px 3px 1px rgba(0, 0, 0, 0.15);\n",
              "      filter: drop-shadow(0px 1px 2px rgba(0, 0, 0, 0.3));\n",
              "      fill: #FFFFFF;\n",
              "    }\n",
              "  </style>\n",
              "\n",
              "    <script>\n",
              "      const buttonEl =\n",
              "        document.querySelector('#df-efdd62a0-3b8e-4c96-9777-e7c093fc095a button.colab-df-convert');\n",
              "      buttonEl.style.display =\n",
              "        google.colab.kernel.accessAllowed ? 'block' : 'none';\n",
              "\n",
              "      async function convertToInteractive(key) {\n",
              "        const element = document.querySelector('#df-efdd62a0-3b8e-4c96-9777-e7c093fc095a');\n",
              "        const dataTable =\n",
              "          await google.colab.kernel.invokeFunction('convertToInteractive',\n",
              "                                                    [key], {});\n",
              "        if (!dataTable) return;\n",
              "\n",
              "        const docLinkHtml = 'Like what you see? Visit the ' +\n",
              "          '<a target=\"_blank\" href=https://colab.research.google.com/notebooks/data_table.ipynb>data table notebook</a>'\n",
              "          + ' to learn more about interactive tables.';\n",
              "        element.innerHTML = '';\n",
              "        dataTable['output_type'] = 'display_data';\n",
              "        await google.colab.output.renderOutput(dataTable, element);\n",
              "        const docLink = document.createElement('div');\n",
              "        docLink.innerHTML = docLinkHtml;\n",
              "        element.appendChild(docLink);\n",
              "      }\n",
              "    </script>\n",
              "  </div>\n",
              "\n",
              "\n",
              "<div id=\"df-cabcdaa3-1b4c-4b56-96b5-4b81b8781f84\">\n",
              "  <button class=\"colab-df-quickchart\" onclick=\"quickchart('df-cabcdaa3-1b4c-4b56-96b5-4b81b8781f84')\"\n",
              "            title=\"Suggest charts\"\n",
              "            style=\"display:none;\">\n",
              "\n",
              "<svg xmlns=\"http://www.w3.org/2000/svg\" height=\"24px\"viewBox=\"0 0 24 24\"\n",
              "     width=\"24px\">\n",
              "    <g>\n",
              "        <path d=\"M19 3H5c-1.1 0-2 .9-2 2v14c0 1.1.9 2 2 2h14c1.1 0 2-.9 2-2V5c0-1.1-.9-2-2-2zM9 17H7v-7h2v7zm4 0h-2V7h2v10zm4 0h-2v-4h2v4z\"/>\n",
              "    </g>\n",
              "</svg>\n",
              "  </button>\n",
              "\n",
              "<style>\n",
              "  .colab-df-quickchart {\n",
              "      --bg-color: #E8F0FE;\n",
              "      --fill-color: #1967D2;\n",
              "      --hover-bg-color: #E2EBFA;\n",
              "      --hover-fill-color: #174EA6;\n",
              "      --disabled-fill-color: #AAA;\n",
              "      --disabled-bg-color: #DDD;\n",
              "  }\n",
              "\n",
              "  [theme=dark] .colab-df-quickchart {\n",
              "      --bg-color: #3B4455;\n",
              "      --fill-color: #D2E3FC;\n",
              "      --hover-bg-color: #434B5C;\n",
              "      --hover-fill-color: #FFFFFF;\n",
              "      --disabled-bg-color: #3B4455;\n",
              "      --disabled-fill-color: #666;\n",
              "  }\n",
              "\n",
              "  .colab-df-quickchart {\n",
              "    background-color: var(--bg-color);\n",
              "    border: none;\n",
              "    border-radius: 50%;\n",
              "    cursor: pointer;\n",
              "    display: none;\n",
              "    fill: var(--fill-color);\n",
              "    height: 32px;\n",
              "    padding: 0;\n",
              "    width: 32px;\n",
              "  }\n",
              "\n",
              "  .colab-df-quickchart:hover {\n",
              "    background-color: var(--hover-bg-color);\n",
              "    box-shadow: 0 1px 2px rgba(60, 64, 67, 0.3), 0 1px 3px 1px rgba(60, 64, 67, 0.15);\n",
              "    fill: var(--button-hover-fill-color);\n",
              "  }\n",
              "\n",
              "  .colab-df-quickchart-complete:disabled,\n",
              "  .colab-df-quickchart-complete:disabled:hover {\n",
              "    background-color: var(--disabled-bg-color);\n",
              "    fill: var(--disabled-fill-color);\n",
              "    box-shadow: none;\n",
              "  }\n",
              "\n",
              "  .colab-df-spinner {\n",
              "    border: 2px solid var(--fill-color);\n",
              "    border-color: transparent;\n",
              "    border-bottom-color: var(--fill-color);\n",
              "    animation:\n",
              "      spin 1s steps(1) infinite;\n",
              "  }\n",
              "\n",
              "  @keyframes spin {\n",
              "    0% {\n",
              "      border-color: transparent;\n",
              "      border-bottom-color: var(--fill-color);\n",
              "      border-left-color: var(--fill-color);\n",
              "    }\n",
              "    20% {\n",
              "      border-color: transparent;\n",
              "      border-left-color: var(--fill-color);\n",
              "      border-top-color: var(--fill-color);\n",
              "    }\n",
              "    30% {\n",
              "      border-color: transparent;\n",
              "      border-left-color: var(--fill-color);\n",
              "      border-top-color: var(--fill-color);\n",
              "      border-right-color: var(--fill-color);\n",
              "    }\n",
              "    40% {\n",
              "      border-color: transparent;\n",
              "      border-right-color: var(--fill-color);\n",
              "      border-top-color: var(--fill-color);\n",
              "    }\n",
              "    60% {\n",
              "      border-color: transparent;\n",
              "      border-right-color: var(--fill-color);\n",
              "    }\n",
              "    80% {\n",
              "      border-color: transparent;\n",
              "      border-right-color: var(--fill-color);\n",
              "      border-bottom-color: var(--fill-color);\n",
              "    }\n",
              "    90% {\n",
              "      border-color: transparent;\n",
              "      border-bottom-color: var(--fill-color);\n",
              "    }\n",
              "  }\n",
              "</style>\n",
              "\n",
              "  <script>\n",
              "    async function quickchart(key) {\n",
              "      const quickchartButtonEl =\n",
              "        document.querySelector('#' + key + ' button');\n",
              "      quickchartButtonEl.disabled = true;  // To prevent multiple clicks.\n",
              "      quickchartButtonEl.classList.add('colab-df-spinner');\n",
              "      try {\n",
              "        const charts = await google.colab.kernel.invokeFunction(\n",
              "            'suggestCharts', [key], {});\n",
              "      } catch (error) {\n",
              "        console.error('Error during call to suggestCharts:', error);\n",
              "      }\n",
              "      quickchartButtonEl.classList.remove('colab-df-spinner');\n",
              "      quickchartButtonEl.classList.add('colab-df-quickchart-complete');\n",
              "    }\n",
              "    (() => {\n",
              "      let quickchartButtonEl =\n",
              "        document.querySelector('#df-cabcdaa3-1b4c-4b56-96b5-4b81b8781f84 button');\n",
              "      quickchartButtonEl.style.display =\n",
              "        google.colab.kernel.accessAllowed ? 'block' : 'none';\n",
              "    })();\n",
              "  </script>\n",
              "</div>\n",
              "    </div>\n",
              "  </div>\n"
            ],
            "text/plain": [
              "           category                name  glycemic_index  glycemic_load  \\\n",
              "0             Other               Yeast            35.0            6.3   \n",
              "1             Other      Brewer’s yeast            35.0            0.0   \n",
              "2             Other        Maltodextrin            95.0           94.0   \n",
              "3             Other           Palm pulp            20.0            1.2   \n",
              "4             Other            Omelette            49.0            7.3   \n",
              "..              ...                 ...             ...            ...   \n",
              "581  Baked products  Pumpernickel Bread            45.0           21.6   \n",
              "582  Baked products          Rice Bread            70.0           48.0   \n",
              "583  Baked products          Bran bread            65.0           29.4   \n",
              "584  Baked products       Pumpkin bread            40.0           17.0   \n",
              "585  Baked products         Fruit bread            47.0           24.4   \n",
              "\n",
              "     calories (kcal)  proteins (g)  carbohydrates (g)  fats (g)  \n",
              "0              105.0           8.0               18.0       1.9  \n",
              "1               75.0          12.7                0.0       2.7  \n",
              "2              380.0           0.0               99.0       0.0  \n",
              "3              354.0           3.4                6.2      33.5  \n",
              "4              210.0          14.0               15.0       2.1  \n",
              "..               ...           ...                ...       ...  \n",
              "581            250.0           9.0               48.0       3.1  \n",
              "582            306.0           6.3               68.6       0.7  \n",
              "583            227.0           7.0               45.2       1.3  \n",
              "584            211.0           5.5               42.6       2.4  \n",
              "585            370.0           7.6               52.0       7.4  \n",
              "\n",
              "[586 rows x 8 columns]"
            ]
          },
          "execution_count": 2,
          "metadata": {},
          "output_type": "execute_result"
        }
      ],
      "source": [
        "data = pd.read_csv('https://raw.githubusercontent.com/Glucofy-Team/Glucofy-Machine-Learning/main/data/(modified)%20nutrition%20food%20dataset.csv')\n",
        "data"
      ]
    },
    {
      "cell_type": "markdown",
      "id": "Dui2Z_whcLph",
      "metadata": {
        "id": "Dui2Z_whcLph"
      },
      "source": [
        "### Preprocessing Data"
      ]
    },
    {
      "cell_type": "code",
      "execution_count": null,
      "id": "h8Gk91qP0OFN",
      "metadata": {
        "id": "h8Gk91qP0OFN"
      },
      "outputs": [],
      "source": [
        "numeric_features = ['glycemic_index', 'calories (kcal)', 'proteins (g)', 'carbohydrates (g)', 'fats (g)']\n",
        "X = data[numeric_features]\n",
        "y_gl = data['glycemic_load']"
      ]
    },
    {
      "cell_type": "code",
      "execution_count": null,
      "id": "a0JUTfmPcaU8",
      "metadata": {
        "id": "a0JUTfmPcaU8"
      },
      "outputs": [],
      "source": [
        "X_train, X_test, y_gl_train, y_gl_test = train_test_split(X, y_gl, test_size=0.1, random_state=42)"
      ]
    },
    {
      "cell_type": "markdown",
      "id": "BpecujVMcbB0",
      "metadata": {
        "id": "BpecujVMcbB0"
      },
      "source": [
        "- Standardize the data to ensure the input features are balanced."
      ]
    },
    {
      "cell_type": "code",
      "execution_count": null,
      "id": "lkIzyoF1Cp-h",
      "metadata": {
        "id": "lkIzyoF1Cp-h"
      },
      "outputs": [],
      "source": [
        "scaler = StandardScaler()\n",
        "X_train_scaled = scaler.fit_transform(X_train)\n",
        "X_test_scaled = scaler.transform(X_test)"
      ]
    },
    {
      "cell_type": "markdown",
      "id": "9Vn-B4fjco4E",
      "metadata": {
        "id": "9Vn-B4fjco4E"
      },
      "source": [
        "### Glycemic Index Prediction"
      ]
    },
    {
      "cell_type": "code",
      "execution_count": null,
      "id": "OnYGzTOirpHA",
      "metadata": {
        "colab": {
          "base_uri": "https://localhost:8080/"
        },
        "id": "OnYGzTOirpHA",
        "outputId": "0cd7a7d1-e3e1-4113-8d58-b94958ec5dc3"
      },
      "outputs": [
        {
          "name": "stdout",
          "output_type": "stream",
          "text": [
            "Baseline MAE Loss: 15.076435210497541\n"
          ]
        }
      ],
      "source": [
        "baseline_pred = np.mean(y_gl_train)\n",
        "baseline_loss = np.mean(np.abs(y_gl_test - baseline_pred))\n",
        "print(f'Baseline MAE Loss: {baseline_loss}')"
      ]
    },
    {
      "cell_type": "markdown",
      "id": "0tHLd0OnPqr2",
      "metadata": {
        "id": "0tHLd0OnPqr2"
      },
      "source": [
        "#### Linear Regression"
      ]
    },
    {
      "cell_type": "code",
      "execution_count": null,
      "id": "je8XWMflPpx9",
      "metadata": {
        "id": "je8XWMflPpx9"
      },
      "outputs": [],
      "source": [
        "regression = LinearRegression()\n",
        "regression_gi = regression.fit(X_train_scaled, y_gl_train)"
      ]
    },
    {
      "cell_type": "code",
      "execution_count": null,
      "id": "4-jkmRflS067",
      "metadata": {
        "id": "4-jkmRflS067"
      },
      "outputs": [],
      "source": [
        "def model_evaluation(model, X_test, y_test):\n",
        "    y_pred = model.predict(X_test)\n",
        "\n",
        "    MAE = metrics.mean_absolute_error(y_test, y_pred)\n",
        "    MSE = metrics.mean_squared_error(y_test, y_pred)\n",
        "    RMSE = np.sqrt(MSE)\n",
        "    R2_Score = metrics.r2_score(y_test, y_pred)\n",
        "\n",
        "    return MAE, MSE, RMSE, R2_Score"
      ]
    },
    {
      "cell_type": "code",
      "execution_count": null,
      "id": "t26FyvwoVn-8",
      "metadata": {
        "id": "t26FyvwoVn-8"
      },
      "outputs": [],
      "source": [
        "reg_mae, reg_mse, reg_rmse, reg_r2 = model_evaluation(regression_gi, X_test_scaled, y_gl_test)"
      ]
    },
    {
      "cell_type": "code",
      "execution_count": null,
      "id": "d4WmkgayT2qy",
      "metadata": {
        "colab": {
          "base_uri": "https://localhost:8080/",
          "height": 80
        },
        "id": "d4WmkgayT2qy",
        "outputId": "066efd62-60e7-4ad8-dacf-4275a32af0ef"
      },
      "outputs": [
        {
          "data": {
            "application/vnd.google.colaboratory.intrinsic+json": {
              "summary": "{\n  \"name\": \"regression_gi_df\",\n  \"rows\": 1,\n  \"fields\": [\n    {\n      \"column\": \"MAE\",\n      \"properties\": {\n        \"dtype\": \"number\",\n        \"std\": null,\n        \"min\": 5.335808327027494,\n        \"max\": 5.335808327027494,\n        \"num_unique_values\": 1,\n        \"samples\": [\n          5.335808327027494\n        ],\n        \"semantic_type\": \"\",\n        \"description\": \"\"\n      }\n    },\n    {\n      \"column\": \"MSE\",\n      \"properties\": {\n        \"dtype\": \"number\",\n        \"std\": null,\n        \"min\": 68.64077484252026,\n        \"max\": 68.64077484252026,\n        \"num_unique_values\": 1,\n        \"samples\": [\n          68.64077484252026\n        ],\n        \"semantic_type\": \"\",\n        \"description\": \"\"\n      }\n    },\n    {\n      \"column\": \"RMSE\",\n      \"properties\": {\n        \"dtype\": \"number\",\n        \"std\": null,\n        \"min\": 8.284972832937973,\n        \"max\": 8.284972832937973,\n        \"num_unique_values\": 1,\n        \"samples\": [\n          8.284972832937973\n        ],\n        \"semantic_type\": \"\",\n        \"description\": \"\"\n      }\n    },\n    {\n      \"column\": \"R2-Score\",\n      \"properties\": {\n        \"dtype\": \"number\",\n        \"std\": null,\n        \"min\": 0.8544872634061855,\n        \"max\": 0.8544872634061855,\n        \"num_unique_values\": 1,\n        \"samples\": [\n          0.8544872634061855\n        ],\n        \"semantic_type\": \"\",\n        \"description\": \"\"\n      }\n    }\n  ]\n}",
              "type": "dataframe",
              "variable_name": "regression_gi_df"
            },
            "text/html": [
              "\n",
              "  <div id=\"df-f307f272-10e1-4997-8956-0392dda1b45e\" class=\"colab-df-container\">\n",
              "    <div>\n",
              "<style scoped>\n",
              "    .dataframe tbody tr th:only-of-type {\n",
              "        vertical-align: middle;\n",
              "    }\n",
              "\n",
              "    .dataframe tbody tr th {\n",
              "        vertical-align: top;\n",
              "    }\n",
              "\n",
              "    .dataframe thead th {\n",
              "        text-align: right;\n",
              "    }\n",
              "</style>\n",
              "<table border=\"1\" class=\"dataframe\">\n",
              "  <thead>\n",
              "    <tr style=\"text-align: right;\">\n",
              "      <th></th>\n",
              "      <th>MAE</th>\n",
              "      <th>MSE</th>\n",
              "      <th>RMSE</th>\n",
              "      <th>R2-Score</th>\n",
              "    </tr>\n",
              "  </thead>\n",
              "  <tbody>\n",
              "    <tr>\n",
              "      <th>Linear Reg.</th>\n",
              "      <td>5.335808</td>\n",
              "      <td>68.640775</td>\n",
              "      <td>8.284973</td>\n",
              "      <td>0.854487</td>\n",
              "    </tr>\n",
              "  </tbody>\n",
              "</table>\n",
              "</div>\n",
              "    <div class=\"colab-df-buttons\">\n",
              "\n",
              "  <div class=\"colab-df-container\">\n",
              "    <button class=\"colab-df-convert\" onclick=\"convertToInteractive('df-f307f272-10e1-4997-8956-0392dda1b45e')\"\n",
              "            title=\"Convert this dataframe to an interactive table.\"\n",
              "            style=\"display:none;\">\n",
              "\n",
              "  <svg xmlns=\"http://www.w3.org/2000/svg\" height=\"24px\" viewBox=\"0 -960 960 960\">\n",
              "    <path d=\"M120-120v-720h720v720H120Zm60-500h600v-160H180v160Zm220 220h160v-160H400v160Zm0 220h160v-160H400v160ZM180-400h160v-160H180v160Zm440 0h160v-160H620v160ZM180-180h160v-160H180v160Zm440 0h160v-160H620v160Z\"/>\n",
              "  </svg>\n",
              "    </button>\n",
              "\n",
              "  <style>\n",
              "    .colab-df-container {\n",
              "      display:flex;\n",
              "      gap: 12px;\n",
              "    }\n",
              "\n",
              "    .colab-df-convert {\n",
              "      background-color: #E8F0FE;\n",
              "      border: none;\n",
              "      border-radius: 50%;\n",
              "      cursor: pointer;\n",
              "      display: none;\n",
              "      fill: #1967D2;\n",
              "      height: 32px;\n",
              "      padding: 0 0 0 0;\n",
              "      width: 32px;\n",
              "    }\n",
              "\n",
              "    .colab-df-convert:hover {\n",
              "      background-color: #E2EBFA;\n",
              "      box-shadow: 0px 1px 2px rgba(60, 64, 67, 0.3), 0px 1px 3px 1px rgba(60, 64, 67, 0.15);\n",
              "      fill: #174EA6;\n",
              "    }\n",
              "\n",
              "    .colab-df-buttons div {\n",
              "      margin-bottom: 4px;\n",
              "    }\n",
              "\n",
              "    [theme=dark] .colab-df-convert {\n",
              "      background-color: #3B4455;\n",
              "      fill: #D2E3FC;\n",
              "    }\n",
              "\n",
              "    [theme=dark] .colab-df-convert:hover {\n",
              "      background-color: #434B5C;\n",
              "      box-shadow: 0px 1px 3px 1px rgba(0, 0, 0, 0.15);\n",
              "      filter: drop-shadow(0px 1px 2px rgba(0, 0, 0, 0.3));\n",
              "      fill: #FFFFFF;\n",
              "    }\n",
              "  </style>\n",
              "\n",
              "    <script>\n",
              "      const buttonEl =\n",
              "        document.querySelector('#df-f307f272-10e1-4997-8956-0392dda1b45e button.colab-df-convert');\n",
              "      buttonEl.style.display =\n",
              "        google.colab.kernel.accessAllowed ? 'block' : 'none';\n",
              "\n",
              "      async function convertToInteractive(key) {\n",
              "        const element = document.querySelector('#df-f307f272-10e1-4997-8956-0392dda1b45e');\n",
              "        const dataTable =\n",
              "          await google.colab.kernel.invokeFunction('convertToInteractive',\n",
              "                                                    [key], {});\n",
              "        if (!dataTable) return;\n",
              "\n",
              "        const docLinkHtml = 'Like what you see? Visit the ' +\n",
              "          '<a target=\"_blank\" href=https://colab.research.google.com/notebooks/data_table.ipynb>data table notebook</a>'\n",
              "          + ' to learn more about interactive tables.';\n",
              "        element.innerHTML = '';\n",
              "        dataTable['output_type'] = 'display_data';\n",
              "        await google.colab.output.renderOutput(dataTable, element);\n",
              "        const docLink = document.createElement('div');\n",
              "        docLink.innerHTML = docLinkHtml;\n",
              "        element.appendChild(docLink);\n",
              "      }\n",
              "    </script>\n",
              "  </div>\n",
              "\n",
              "    </div>\n",
              "  </div>\n"
            ],
            "text/plain": [
              "                  MAE        MSE      RMSE  R2-Score\n",
              "Linear Reg.  5.335808  68.640775  8.284973  0.854487"
            ]
          },
          "execution_count": 14,
          "metadata": {},
          "output_type": "execute_result"
        }
      ],
      "source": [
        "regression_gi_df = pd.DataFrame([[reg_mae, reg_mse, reg_rmse, reg_r2]],\n",
        "                                index=['Linear Reg.'],\n",
        "                                columns=['MAE', 'MSE', 'RMSE' ,'R2-Score'])\n",
        "\n",
        "regression_gi_df"
      ]
    },
    {
      "cell_type": "markdown",
      "id": "dxVJdFRQVk8P",
      "metadata": {
        "id": "dxVJdFRQVk8P"
      },
      "source": [
        "#### Decision Tree"
      ]
    },
    {
      "cell_type": "code",
      "execution_count": null,
      "id": "_nymw1BoVEPu",
      "metadata": {
        "colab": {
          "base_uri": "https://localhost:8080/",
          "height": 74
        },
        "id": "_nymw1BoVEPu",
        "outputId": "24311ec0-871d-40ff-8f52-f9a7def7dd1e"
      },
      "outputs": [
        {
          "data": {
            "text/html": [
              "<style>#sk-container-id-1 {color: black;background-color: white;}#sk-container-id-1 pre{padding: 0;}#sk-container-id-1 div.sk-toggleable {background-color: white;}#sk-container-id-1 label.sk-toggleable__label {cursor: pointer;display: block;width: 100%;margin-bottom: 0;padding: 0.3em;box-sizing: border-box;text-align: center;}#sk-container-id-1 label.sk-toggleable__label-arrow:before {content: \"▸\";float: left;margin-right: 0.25em;color: #696969;}#sk-container-id-1 label.sk-toggleable__label-arrow:hover:before {color: black;}#sk-container-id-1 div.sk-estimator:hover label.sk-toggleable__label-arrow:before {color: black;}#sk-container-id-1 div.sk-toggleable__content {max-height: 0;max-width: 0;overflow: hidden;text-align: left;background-color: #f0f8ff;}#sk-container-id-1 div.sk-toggleable__content pre {margin: 0.2em;color: black;border-radius: 0.25em;background-color: #f0f8ff;}#sk-container-id-1 input.sk-toggleable__control:checked~div.sk-toggleable__content {max-height: 200px;max-width: 100%;overflow: auto;}#sk-container-id-1 input.sk-toggleable__control:checked~label.sk-toggleable__label-arrow:before {content: \"▾\";}#sk-container-id-1 div.sk-estimator input.sk-toggleable__control:checked~label.sk-toggleable__label {background-color: #d4ebff;}#sk-container-id-1 div.sk-label input.sk-toggleable__control:checked~label.sk-toggleable__label {background-color: #d4ebff;}#sk-container-id-1 input.sk-hidden--visually {border: 0;clip: rect(1px 1px 1px 1px);clip: rect(1px, 1px, 1px, 1px);height: 1px;margin: -1px;overflow: hidden;padding: 0;position: absolute;width: 1px;}#sk-container-id-1 div.sk-estimator {font-family: monospace;background-color: #f0f8ff;border: 1px dotted black;border-radius: 0.25em;box-sizing: border-box;margin-bottom: 0.5em;}#sk-container-id-1 div.sk-estimator:hover {background-color: #d4ebff;}#sk-container-id-1 div.sk-parallel-item::after {content: \"\";width: 100%;border-bottom: 1px solid gray;flex-grow: 1;}#sk-container-id-1 div.sk-label:hover label.sk-toggleable__label {background-color: #d4ebff;}#sk-container-id-1 div.sk-serial::before {content: \"\";position: absolute;border-left: 1px solid gray;box-sizing: border-box;top: 0;bottom: 0;left: 50%;z-index: 0;}#sk-container-id-1 div.sk-serial {display: flex;flex-direction: column;align-items: center;background-color: white;padding-right: 0.2em;padding-left: 0.2em;position: relative;}#sk-container-id-1 div.sk-item {position: relative;z-index: 1;}#sk-container-id-1 div.sk-parallel {display: flex;align-items: stretch;justify-content: center;background-color: white;position: relative;}#sk-container-id-1 div.sk-item::before, #sk-container-id-1 div.sk-parallel-item::before {content: \"\";position: absolute;border-left: 1px solid gray;box-sizing: border-box;top: 0;bottom: 0;left: 50%;z-index: -1;}#sk-container-id-1 div.sk-parallel-item {display: flex;flex-direction: column;z-index: 1;position: relative;background-color: white;}#sk-container-id-1 div.sk-parallel-item:first-child::after {align-self: flex-end;width: 50%;}#sk-container-id-1 div.sk-parallel-item:last-child::after {align-self: flex-start;width: 50%;}#sk-container-id-1 div.sk-parallel-item:only-child::after {width: 0;}#sk-container-id-1 div.sk-dashed-wrapped {border: 1px dashed gray;margin: 0 0.4em 0.5em 0.4em;box-sizing: border-box;padding-bottom: 0.4em;background-color: white;}#sk-container-id-1 div.sk-label label {font-family: monospace;font-weight: bold;display: inline-block;line-height: 1.2em;}#sk-container-id-1 div.sk-label-container {text-align: center;}#sk-container-id-1 div.sk-container {/* jupyter's `normalize.less` sets `[hidden] { display: none; }` but bootstrap.min.css set `[hidden] { display: none !important; }` so we also need the `!important` here to be able to override the default hidden behavior on the sphinx rendered scikit-learn.org. See: https://github.com/scikit-learn/scikit-learn/issues/21755 */display: inline-block !important;position: relative;}#sk-container-id-1 div.sk-text-repr-fallback {display: none;}</style><div id=\"sk-container-id-1\" class=\"sk-top-container\"><div class=\"sk-text-repr-fallback\"><pre>DecisionTreeRegressor()</pre><b>In a Jupyter environment, please rerun this cell to show the HTML representation or trust the notebook. <br />On GitHub, the HTML representation is unable to render, please try loading this page with nbviewer.org.</b></div><div class=\"sk-container\" hidden><div class=\"sk-item\"><div class=\"sk-estimator sk-toggleable\"><input class=\"sk-toggleable__control sk-hidden--visually\" id=\"sk-estimator-id-1\" type=\"checkbox\" checked><label for=\"sk-estimator-id-1\" class=\"sk-toggleable__label sk-toggleable__label-arrow\">DecisionTreeRegressor</label><div class=\"sk-toggleable__content\"><pre>DecisionTreeRegressor()</pre></div></div></div></div></div>"
            ],
            "text/plain": [
              "DecisionTreeRegressor()"
            ]
          },
          "execution_count": 15,
          "metadata": {},
          "output_type": "execute_result"
        }
      ],
      "source": [
        "tree_regressor = DecisionTreeRegressor()\n",
        "tree_regressor.fit(X_train_scaled, y_gl_train)"
      ]
    },
    {
      "cell_type": "code",
      "execution_count": null,
      "id": "PlB5ehKFVWAD",
      "metadata": {
        "colab": {
          "base_uri": "https://localhost:8080/",
          "height": 80
        },
        "id": "PlB5ehKFVWAD",
        "outputId": "0e4b723e-fd36-4e80-ad8b-8eca00ff86da"
      },
      "outputs": [
        {
          "data": {
            "application/vnd.google.colaboratory.intrinsic+json": {
              "summary": "{\n  \"name\": \"tree_gi_df\",\n  \"rows\": 1,\n  \"fields\": [\n    {\n      \"column\": \"MAE\",\n      \"properties\": {\n        \"dtype\": \"number\",\n        \"std\": null,\n        \"min\": 1.469491525423729,\n        \"max\": 1.469491525423729,\n        \"num_unique_values\": 1,\n        \"samples\": [\n          1.469491525423729\n        ],\n        \"semantic_type\": \"\",\n        \"description\": \"\"\n      }\n    },\n    {\n      \"column\": \"MSE\",\n      \"properties\": {\n        \"dtype\": \"number\",\n        \"std\": null,\n        \"min\": 10.469322033898306,\n        \"max\": 10.469322033898306,\n        \"num_unique_values\": 1,\n        \"samples\": [\n          10.469322033898306\n        ],\n        \"semantic_type\": \"\",\n        \"description\": \"\"\n      }\n    },\n    {\n      \"column\": \"RMSE\",\n      \"properties\": {\n        \"dtype\": \"number\",\n        \"std\": null,\n        \"min\": 3.235633173568708,\n        \"max\": 3.235633173568708,\n        \"num_unique_values\": 1,\n        \"samples\": [\n          3.235633173568708\n        ],\n        \"semantic_type\": \"\",\n        \"description\": \"\"\n      }\n    },\n    {\n      \"column\": \"R2-Score\",\n      \"properties\": {\n        \"dtype\": \"number\",\n        \"std\": null,\n        \"min\": 0.9778059075974946,\n        \"max\": 0.9778059075974946,\n        \"num_unique_values\": 1,\n        \"samples\": [\n          0.9778059075974946\n        ],\n        \"semantic_type\": \"\",\n        \"description\": \"\"\n      }\n    }\n  ]\n}",
              "type": "dataframe",
              "variable_name": "tree_gi_df"
            },
            "text/html": [
              "\n",
              "  <div id=\"df-eb3968b5-dc90-434c-bf80-6374e5c56fa6\" class=\"colab-df-container\">\n",
              "    <div>\n",
              "<style scoped>\n",
              "    .dataframe tbody tr th:only-of-type {\n",
              "        vertical-align: middle;\n",
              "    }\n",
              "\n",
              "    .dataframe tbody tr th {\n",
              "        vertical-align: top;\n",
              "    }\n",
              "\n",
              "    .dataframe thead th {\n",
              "        text-align: right;\n",
              "    }\n",
              "</style>\n",
              "<table border=\"1\" class=\"dataframe\">\n",
              "  <thead>\n",
              "    <tr style=\"text-align: right;\">\n",
              "      <th></th>\n",
              "      <th>MAE</th>\n",
              "      <th>MSE</th>\n",
              "      <th>RMSE</th>\n",
              "      <th>R2-Score</th>\n",
              "    </tr>\n",
              "  </thead>\n",
              "  <tbody>\n",
              "    <tr>\n",
              "      <th>Decision Tree</th>\n",
              "      <td>1.469492</td>\n",
              "      <td>10.469322</td>\n",
              "      <td>3.235633</td>\n",
              "      <td>0.977806</td>\n",
              "    </tr>\n",
              "  </tbody>\n",
              "</table>\n",
              "</div>\n",
              "    <div class=\"colab-df-buttons\">\n",
              "\n",
              "  <div class=\"colab-df-container\">\n",
              "    <button class=\"colab-df-convert\" onclick=\"convertToInteractive('df-eb3968b5-dc90-434c-bf80-6374e5c56fa6')\"\n",
              "            title=\"Convert this dataframe to an interactive table.\"\n",
              "            style=\"display:none;\">\n",
              "\n",
              "  <svg xmlns=\"http://www.w3.org/2000/svg\" height=\"24px\" viewBox=\"0 -960 960 960\">\n",
              "    <path d=\"M120-120v-720h720v720H120Zm60-500h600v-160H180v160Zm220 220h160v-160H400v160Zm0 220h160v-160H400v160ZM180-400h160v-160H180v160Zm440 0h160v-160H620v160ZM180-180h160v-160H180v160Zm440 0h160v-160H620v160Z\"/>\n",
              "  </svg>\n",
              "    </button>\n",
              "\n",
              "  <style>\n",
              "    .colab-df-container {\n",
              "      display:flex;\n",
              "      gap: 12px;\n",
              "    }\n",
              "\n",
              "    .colab-df-convert {\n",
              "      background-color: #E8F0FE;\n",
              "      border: none;\n",
              "      border-radius: 50%;\n",
              "      cursor: pointer;\n",
              "      display: none;\n",
              "      fill: #1967D2;\n",
              "      height: 32px;\n",
              "      padding: 0 0 0 0;\n",
              "      width: 32px;\n",
              "    }\n",
              "\n",
              "    .colab-df-convert:hover {\n",
              "      background-color: #E2EBFA;\n",
              "      box-shadow: 0px 1px 2px rgba(60, 64, 67, 0.3), 0px 1px 3px 1px rgba(60, 64, 67, 0.15);\n",
              "      fill: #174EA6;\n",
              "    }\n",
              "\n",
              "    .colab-df-buttons div {\n",
              "      margin-bottom: 4px;\n",
              "    }\n",
              "\n",
              "    [theme=dark] .colab-df-convert {\n",
              "      background-color: #3B4455;\n",
              "      fill: #D2E3FC;\n",
              "    }\n",
              "\n",
              "    [theme=dark] .colab-df-convert:hover {\n",
              "      background-color: #434B5C;\n",
              "      box-shadow: 0px 1px 3px 1px rgba(0, 0, 0, 0.15);\n",
              "      filter: drop-shadow(0px 1px 2px rgba(0, 0, 0, 0.3));\n",
              "      fill: #FFFFFF;\n",
              "    }\n",
              "  </style>\n",
              "\n",
              "    <script>\n",
              "      const buttonEl =\n",
              "        document.querySelector('#df-eb3968b5-dc90-434c-bf80-6374e5c56fa6 button.colab-df-convert');\n",
              "      buttonEl.style.display =\n",
              "        google.colab.kernel.accessAllowed ? 'block' : 'none';\n",
              "\n",
              "      async function convertToInteractive(key) {\n",
              "        const element = document.querySelector('#df-eb3968b5-dc90-434c-bf80-6374e5c56fa6');\n",
              "        const dataTable =\n",
              "          await google.colab.kernel.invokeFunction('convertToInteractive',\n",
              "                                                    [key], {});\n",
              "        if (!dataTable) return;\n",
              "\n",
              "        const docLinkHtml = 'Like what you see? Visit the ' +\n",
              "          '<a target=\"_blank\" href=https://colab.research.google.com/notebooks/data_table.ipynb>data table notebook</a>'\n",
              "          + ' to learn more about interactive tables.';\n",
              "        element.innerHTML = '';\n",
              "        dataTable['output_type'] = 'display_data';\n",
              "        await google.colab.output.renderOutput(dataTable, element);\n",
              "        const docLink = document.createElement('div');\n",
              "        docLink.innerHTML = docLinkHtml;\n",
              "        element.appendChild(docLink);\n",
              "      }\n",
              "    </script>\n",
              "  </div>\n",
              "\n",
              "    </div>\n",
              "  </div>\n"
            ],
            "text/plain": [
              "                    MAE        MSE      RMSE  R2-Score\n",
              "Decision Tree  1.469492  10.469322  3.235633  0.977806"
            ]
          },
          "execution_count": 17,
          "metadata": {},
          "output_type": "execute_result"
        }
      ],
      "source": [
        "tree_mae, tree_mse, tree_rmse, tree_r2 = model_evaluation(tree_regressor, X_test_scaled, y_gl_test)\n",
        "\n",
        "tree_gi_df = pd.DataFrame([[tree_mae, tree_mse, tree_rmse, tree_r2]],\n",
        "                                index=['Decision Tree'],\n",
        "                                columns=['MAE', 'MSE', 'RMSE' ,'R2-Score'])\n",
        "\n",
        "tree_gi_df"
      ]
    },
    {
      "cell_type": "markdown",
      "id": "E7Coy-bZV4T7",
      "metadata": {
        "id": "E7Coy-bZV4T7"
      },
      "source": [
        "#### Support Vector Regression"
      ]
    },
    {
      "cell_type": "code",
      "execution_count": null,
      "id": "jEnndTlUV2SD",
      "metadata": {
        "colab": {
          "base_uri": "https://localhost:8080/",
          "height": 74
        },
        "id": "jEnndTlUV2SD",
        "outputId": "04368f51-0ef4-4438-e59f-6a2653afaa1e"
      },
      "outputs": [
        {
          "data": {
            "text/html": [
              "<style>#sk-container-id-2 {color: black;background-color: white;}#sk-container-id-2 pre{padding: 0;}#sk-container-id-2 div.sk-toggleable {background-color: white;}#sk-container-id-2 label.sk-toggleable__label {cursor: pointer;display: block;width: 100%;margin-bottom: 0;padding: 0.3em;box-sizing: border-box;text-align: center;}#sk-container-id-2 label.sk-toggleable__label-arrow:before {content: \"▸\";float: left;margin-right: 0.25em;color: #696969;}#sk-container-id-2 label.sk-toggleable__label-arrow:hover:before {color: black;}#sk-container-id-2 div.sk-estimator:hover label.sk-toggleable__label-arrow:before {color: black;}#sk-container-id-2 div.sk-toggleable__content {max-height: 0;max-width: 0;overflow: hidden;text-align: left;background-color: #f0f8ff;}#sk-container-id-2 div.sk-toggleable__content pre {margin: 0.2em;color: black;border-radius: 0.25em;background-color: #f0f8ff;}#sk-container-id-2 input.sk-toggleable__control:checked~div.sk-toggleable__content {max-height: 200px;max-width: 100%;overflow: auto;}#sk-container-id-2 input.sk-toggleable__control:checked~label.sk-toggleable__label-arrow:before {content: \"▾\";}#sk-container-id-2 div.sk-estimator input.sk-toggleable__control:checked~label.sk-toggleable__label {background-color: #d4ebff;}#sk-container-id-2 div.sk-label input.sk-toggleable__control:checked~label.sk-toggleable__label {background-color: #d4ebff;}#sk-container-id-2 input.sk-hidden--visually {border: 0;clip: rect(1px 1px 1px 1px);clip: rect(1px, 1px, 1px, 1px);height: 1px;margin: -1px;overflow: hidden;padding: 0;position: absolute;width: 1px;}#sk-container-id-2 div.sk-estimator {font-family: monospace;background-color: #f0f8ff;border: 1px dotted black;border-radius: 0.25em;box-sizing: border-box;margin-bottom: 0.5em;}#sk-container-id-2 div.sk-estimator:hover {background-color: #d4ebff;}#sk-container-id-2 div.sk-parallel-item::after {content: \"\";width: 100%;border-bottom: 1px solid gray;flex-grow: 1;}#sk-container-id-2 div.sk-label:hover label.sk-toggleable__label {background-color: #d4ebff;}#sk-container-id-2 div.sk-serial::before {content: \"\";position: absolute;border-left: 1px solid gray;box-sizing: border-box;top: 0;bottom: 0;left: 50%;z-index: 0;}#sk-container-id-2 div.sk-serial {display: flex;flex-direction: column;align-items: center;background-color: white;padding-right: 0.2em;padding-left: 0.2em;position: relative;}#sk-container-id-2 div.sk-item {position: relative;z-index: 1;}#sk-container-id-2 div.sk-parallel {display: flex;align-items: stretch;justify-content: center;background-color: white;position: relative;}#sk-container-id-2 div.sk-item::before, #sk-container-id-2 div.sk-parallel-item::before {content: \"\";position: absolute;border-left: 1px solid gray;box-sizing: border-box;top: 0;bottom: 0;left: 50%;z-index: -1;}#sk-container-id-2 div.sk-parallel-item {display: flex;flex-direction: column;z-index: 1;position: relative;background-color: white;}#sk-container-id-2 div.sk-parallel-item:first-child::after {align-self: flex-end;width: 50%;}#sk-container-id-2 div.sk-parallel-item:last-child::after {align-self: flex-start;width: 50%;}#sk-container-id-2 div.sk-parallel-item:only-child::after {width: 0;}#sk-container-id-2 div.sk-dashed-wrapped {border: 1px dashed gray;margin: 0 0.4em 0.5em 0.4em;box-sizing: border-box;padding-bottom: 0.4em;background-color: white;}#sk-container-id-2 div.sk-label label {font-family: monospace;font-weight: bold;display: inline-block;line-height: 1.2em;}#sk-container-id-2 div.sk-label-container {text-align: center;}#sk-container-id-2 div.sk-container {/* jupyter's `normalize.less` sets `[hidden] { display: none; }` but bootstrap.min.css set `[hidden] { display: none !important; }` so we also need the `!important` here to be able to override the default hidden behavior on the sphinx rendered scikit-learn.org. See: https://github.com/scikit-learn/scikit-learn/issues/21755 */display: inline-block !important;position: relative;}#sk-container-id-2 div.sk-text-repr-fallback {display: none;}</style><div id=\"sk-container-id-2\" class=\"sk-top-container\"><div class=\"sk-text-repr-fallback\"><pre>SVR()</pre><b>In a Jupyter environment, please rerun this cell to show the HTML representation or trust the notebook. <br />On GitHub, the HTML representation is unable to render, please try loading this page with nbviewer.org.</b></div><div class=\"sk-container\" hidden><div class=\"sk-item\"><div class=\"sk-estimator sk-toggleable\"><input class=\"sk-toggleable__control sk-hidden--visually\" id=\"sk-estimator-id-2\" type=\"checkbox\" checked><label for=\"sk-estimator-id-2\" class=\"sk-toggleable__label sk-toggleable__label-arrow\">SVR</label><div class=\"sk-toggleable__content\"><pre>SVR()</pre></div></div></div></div></div>"
            ],
            "text/plain": [
              "SVR()"
            ]
          },
          "execution_count": 18,
          "metadata": {},
          "output_type": "execute_result"
        }
      ],
      "source": [
        "svr_regressor = SVR(kernel = 'rbf')\n",
        "svr_regressor.fit(X_train_scaled, y_gl_train)"
      ]
    },
    {
      "cell_type": "code",
      "execution_count": null,
      "id": "uN4CZMBGWE6J",
      "metadata": {
        "colab": {
          "base_uri": "https://localhost:8080/",
          "height": 80
        },
        "id": "uN4CZMBGWE6J",
        "outputId": "bf4c5ef0-43bc-43c0-8787-7db02c6bdd36"
      },
      "outputs": [
        {
          "data": {
            "application/vnd.google.colaboratory.intrinsic+json": {
              "summary": "{\n  \"name\": \"svr_gi_df\",\n  \"rows\": 1,\n  \"fields\": [\n    {\n      \"column\": \"MAE\",\n      \"properties\": {\n        \"dtype\": \"number\",\n        \"std\": null,\n        \"min\": 1.469491525423729,\n        \"max\": 1.469491525423729,\n        \"num_unique_values\": 1,\n        \"samples\": [\n          1.469491525423729\n        ],\n        \"semantic_type\": \"\",\n        \"description\": \"\"\n      }\n    },\n    {\n      \"column\": \"MSE\",\n      \"properties\": {\n        \"dtype\": \"number\",\n        \"std\": null,\n        \"min\": 10.469322033898306,\n        \"max\": 10.469322033898306,\n        \"num_unique_values\": 1,\n        \"samples\": [\n          10.469322033898306\n        ],\n        \"semantic_type\": \"\",\n        \"description\": \"\"\n      }\n    },\n    {\n      \"column\": \"RMSE\",\n      \"properties\": {\n        \"dtype\": \"number\",\n        \"std\": null,\n        \"min\": 3.235633173568708,\n        \"max\": 3.235633173568708,\n        \"num_unique_values\": 1,\n        \"samples\": [\n          3.235633173568708\n        ],\n        \"semantic_type\": \"\",\n        \"description\": \"\"\n      }\n    },\n    {\n      \"column\": \"R2-Score\",\n      \"properties\": {\n        \"dtype\": \"number\",\n        \"std\": null,\n        \"min\": 0.9778059075974946,\n        \"max\": 0.9778059075974946,\n        \"num_unique_values\": 1,\n        \"samples\": [\n          0.9778059075974946\n        ],\n        \"semantic_type\": \"\",\n        \"description\": \"\"\n      }\n    }\n  ]\n}",
              "type": "dataframe",
              "variable_name": "svr_gi_df"
            },
            "text/html": [
              "\n",
              "  <div id=\"df-ab79a839-f837-402f-9797-cf448c0757eb\" class=\"colab-df-container\">\n",
              "    <div>\n",
              "<style scoped>\n",
              "    .dataframe tbody tr th:only-of-type {\n",
              "        vertical-align: middle;\n",
              "    }\n",
              "\n",
              "    .dataframe tbody tr th {\n",
              "        vertical-align: top;\n",
              "    }\n",
              "\n",
              "    .dataframe thead th {\n",
              "        text-align: right;\n",
              "    }\n",
              "</style>\n",
              "<table border=\"1\" class=\"dataframe\">\n",
              "  <thead>\n",
              "    <tr style=\"text-align: right;\">\n",
              "      <th></th>\n",
              "      <th>MAE</th>\n",
              "      <th>MSE</th>\n",
              "      <th>RMSE</th>\n",
              "      <th>R2-Score</th>\n",
              "    </tr>\n",
              "  </thead>\n",
              "  <tbody>\n",
              "    <tr>\n",
              "      <th>SVR</th>\n",
              "      <td>1.469492</td>\n",
              "      <td>10.469322</td>\n",
              "      <td>3.235633</td>\n",
              "      <td>0.977806</td>\n",
              "    </tr>\n",
              "  </tbody>\n",
              "</table>\n",
              "</div>\n",
              "    <div class=\"colab-df-buttons\">\n",
              "\n",
              "  <div class=\"colab-df-container\">\n",
              "    <button class=\"colab-df-convert\" onclick=\"convertToInteractive('df-ab79a839-f837-402f-9797-cf448c0757eb')\"\n",
              "            title=\"Convert this dataframe to an interactive table.\"\n",
              "            style=\"display:none;\">\n",
              "\n",
              "  <svg xmlns=\"http://www.w3.org/2000/svg\" height=\"24px\" viewBox=\"0 -960 960 960\">\n",
              "    <path d=\"M120-120v-720h720v720H120Zm60-500h600v-160H180v160Zm220 220h160v-160H400v160Zm0 220h160v-160H400v160ZM180-400h160v-160H180v160Zm440 0h160v-160H620v160ZM180-180h160v-160H180v160Zm440 0h160v-160H620v160Z\"/>\n",
              "  </svg>\n",
              "    </button>\n",
              "\n",
              "  <style>\n",
              "    .colab-df-container {\n",
              "      display:flex;\n",
              "      gap: 12px;\n",
              "    }\n",
              "\n",
              "    .colab-df-convert {\n",
              "      background-color: #E8F0FE;\n",
              "      border: none;\n",
              "      border-radius: 50%;\n",
              "      cursor: pointer;\n",
              "      display: none;\n",
              "      fill: #1967D2;\n",
              "      height: 32px;\n",
              "      padding: 0 0 0 0;\n",
              "      width: 32px;\n",
              "    }\n",
              "\n",
              "    .colab-df-convert:hover {\n",
              "      background-color: #E2EBFA;\n",
              "      box-shadow: 0px 1px 2px rgba(60, 64, 67, 0.3), 0px 1px 3px 1px rgba(60, 64, 67, 0.15);\n",
              "      fill: #174EA6;\n",
              "    }\n",
              "\n",
              "    .colab-df-buttons div {\n",
              "      margin-bottom: 4px;\n",
              "    }\n",
              "\n",
              "    [theme=dark] .colab-df-convert {\n",
              "      background-color: #3B4455;\n",
              "      fill: #D2E3FC;\n",
              "    }\n",
              "\n",
              "    [theme=dark] .colab-df-convert:hover {\n",
              "      background-color: #434B5C;\n",
              "      box-shadow: 0px 1px 3px 1px rgba(0, 0, 0, 0.15);\n",
              "      filter: drop-shadow(0px 1px 2px rgba(0, 0, 0, 0.3));\n",
              "      fill: #FFFFFF;\n",
              "    }\n",
              "  </style>\n",
              "\n",
              "    <script>\n",
              "      const buttonEl =\n",
              "        document.querySelector('#df-ab79a839-f837-402f-9797-cf448c0757eb button.colab-df-convert');\n",
              "      buttonEl.style.display =\n",
              "        google.colab.kernel.accessAllowed ? 'block' : 'none';\n",
              "\n",
              "      async function convertToInteractive(key) {\n",
              "        const element = document.querySelector('#df-ab79a839-f837-402f-9797-cf448c0757eb');\n",
              "        const dataTable =\n",
              "          await google.colab.kernel.invokeFunction('convertToInteractive',\n",
              "                                                    [key], {});\n",
              "        if (!dataTable) return;\n",
              "\n",
              "        const docLinkHtml = 'Like what you see? Visit the ' +\n",
              "          '<a target=\"_blank\" href=https://colab.research.google.com/notebooks/data_table.ipynb>data table notebook</a>'\n",
              "          + ' to learn more about interactive tables.';\n",
              "        element.innerHTML = '';\n",
              "        dataTable['output_type'] = 'display_data';\n",
              "        await google.colab.output.renderOutput(dataTable, element);\n",
              "        const docLink = document.createElement('div');\n",
              "        docLink.innerHTML = docLinkHtml;\n",
              "        element.appendChild(docLink);\n",
              "      }\n",
              "    </script>\n",
              "  </div>\n",
              "\n",
              "    </div>\n",
              "  </div>\n"
            ],
            "text/plain": [
              "          MAE        MSE      RMSE  R2-Score\n",
              "SVR  1.469492  10.469322  3.235633  0.977806"
            ]
          },
          "execution_count": 19,
          "metadata": {},
          "output_type": "execute_result"
        }
      ],
      "source": [
        "svr_mae, svr_mse, svr_rmse, svr_r2 = model_evaluation(tree_regressor, X_test_scaled, y_gl_test)\n",
        "\n",
        "svr_gi_df = pd.DataFrame([[svr_mae, svr_mse, svr_rmse, svr_r2]],\n",
        "                                index=['SVR'],\n",
        "                                columns=['MAE', 'MSE', 'RMSE' ,'R2-Score'])\n",
        "\n",
        "svr_gi_df"
      ]
    },
    {
      "cell_type": "markdown",
      "id": "hZRTB1guAfbe",
      "metadata": {
        "id": "hZRTB1guAfbe"
      },
      "source": [
        "#### Neural Network"
      ]
    },
    {
      "cell_type": "code",
      "execution_count": null,
      "id": "zxywIA1pczrC",
      "metadata": {
        "id": "zxywIA1pczrC"
      },
      "outputs": [],
      "source": [
        "def create_nn_model_gl():\n",
        "\n",
        "    model_gl = tf.keras.Sequential([\n",
        "      tf.keras.layers.Input(shape=(len(numeric_features),)),\n",
        "      tf.keras.layers.Dense(32, activation='relu'),\n",
        "      tf.keras.layers.Dense(32, activation='relu'),\n",
        "      tf.keras.layers.Dense(64, activation='relu'),\n",
        "      tf.keras.layers.Dense(128, activation='relu'),\n",
        "      tf.keras.layers.Dropout(0.2),\n",
        "      tf.keras.layers.Dense(1, activation='relu')\n",
        "    ])\n",
        "\n",
        "    return model_gl"
      ]
    },
    {
      "cell_type": "code",
      "execution_count": null,
      "id": "2QirMfhudMfj",
      "metadata": {
        "id": "2QirMfhudMfj"
      },
      "outputs": [],
      "source": [
        "def adjust_learning_rate():\n",
        "\n",
        "    model = create_nn_model_gl()\n",
        "\n",
        "    lr_schedule = tf.keras.callbacks.LearningRateScheduler(lambda epoch: 1e-6 * 10**(epoch / 20))\n",
        "\n",
        "    optimizer = tf.keras.optimizers.Adam()\n",
        "\n",
        "    model.compile(loss=tf.keras.losses.Huber(),\n",
        "                  optimizer=optimizer,\n",
        "                  metrics=['mae'])\n",
        "\n",
        "    history = model.fit(X_train_scaled, y_gl_train, epochs=100, callbacks=[lr_schedule], verbose=0)\n",
        "\n",
        "    return history"
      ]
    },
    {
      "cell_type": "code",
      "execution_count": null,
      "id": "UTZSiz8SdnZx",
      "metadata": {
        "id": "UTZSiz8SdnZx"
      },
      "outputs": [],
      "source": [
        "lr_history_gl = adjust_learning_rate()"
      ]
    },
    {
      "cell_type": "code",
      "execution_count": null,
      "id": "dN8Pe9yOdlU1",
      "metadata": {
        "colab": {
          "base_uri": "https://localhost:8080/",
          "height": 434
        },
        "id": "dN8Pe9yOdlU1",
        "outputId": "a54d5428-df77-420b-d0c9-2dbb07d0b42d"
      },
      "outputs": [
        {
          "data": {
            "image/png": "[encoded data removed]",
            "text/plain": [
              "<Figure size 640x480 with 1 Axes>"
            ]
          },
          "metadata": {},
          "output_type": "display_data"
        }
      ],
      "source": [
        "plt.semilogx(lr_history_gl.history['lr'], lr_history_gl.history['loss'])\n",
        "plt.axis([1e-6, 1e-1, 0, 15])\n",
        "plt.show()"
      ]
    },
    {
      "cell_type": "code",
      "execution_count": null,
      "id": "2YU4D7f5vzDh",
      "metadata": {
        "id": "2YU4D7f5vzDh"
      },
      "outputs": [],
      "source": [
        "nn_model_gl = create_nn_model_gl()\n",
        "nn_model_gl.compile(optimizer=tf.keras.optimizers.Adam(learning_rate=4e-3), loss=tf.keras.losses.Huber(), metrics=['mae'])"
      ]
    },
    {
      "cell_type": "code",
      "execution_count": null,
      "id": "ER64bR-4wkUP",
      "metadata": {
        "colab": {
          "base_uri": "https://localhost:8080/"
        },
        "id": "ER64bR-4wkUP",
        "outputId": "4d71e71a-9fc8-4fb5-b807-ab3b020ffecd"
      },
      "outputs": [
        {
          "name": "stdout",
          "output_type": "stream",
          "text": [
            "Epoch 1/100\n",
            "17/17 - 3s - loss: 12.3320 - mae: 12.7976 - val_loss: 9.1950 - val_mae: 9.6790 - 3s/epoch - 153ms/step\n",
            "Epoch 2/100\n",
            "17/17 - 0s - loss: 4.5928 - mae: 5.0457 - val_loss: 2.2059 - val_mae: 2.6232 - 93ms/epoch - 5ms/step\n",
            "Epoch 3/100\n",
            "17/17 - 0s - loss: 2.7633 - mae: 3.1995 - val_loss: 2.2087 - val_mae: 2.6497 - 80ms/epoch - 5ms/step\n",
            "Epoch 4/100\n",
            "17/17 - 0s - loss: 1.9339 - mae: 2.3539 - val_loss: 1.0970 - val_mae: 1.4726 - 81ms/epoch - 5ms/step\n",
            "Epoch 5/100\n",
            "17/17 - 0s - loss: 1.6391 - mae: 2.0208 - val_loss: 1.4291 - val_mae: 1.8437 - 81ms/epoch - 5ms/step\n",
            "Epoch 6/100\n",
            "17/17 - 0s - loss: 1.4429 - mae: 1.8268 - val_loss: 1.0212 - val_mae: 1.3682 - 71ms/epoch - 4ms/step\n",
            "Epoch 7/100\n",
            "17/17 - 0s - loss: 1.2918 - mae: 1.6515 - val_loss: 0.8962 - val_mae: 1.2353 - 64ms/epoch - 4ms/step\n",
            "Epoch 8/100\n",
            "17/17 - 0s - loss: 1.3578 - mae: 1.7044 - val_loss: 0.9050 - val_mae: 1.2591 - 64ms/epoch - 4ms/step\n",
            "Epoch 9/100\n",
            "17/17 - 0s - loss: 1.2001 - mae: 1.5516 - val_loss: 1.4313 - val_mae: 1.8144 - 86ms/epoch - 5ms/step\n",
            "Epoch 10/100\n",
            "17/17 - 0s - loss: 1.1742 - mae: 1.5192 - val_loss: 1.4009 - val_mae: 1.7893 - 86ms/epoch - 5ms/step\n",
            "Epoch 11/100\n",
            "17/17 - 0s - loss: 1.4778 - mae: 1.8486 - val_loss: 0.7992 - val_mae: 1.1141 - 66ms/epoch - 4ms/step\n",
            "Epoch 12/100\n",
            "17/17 - 0s - loss: 1.1557 - mae: 1.5059 - val_loss: 0.7898 - val_mae: 1.1201 - 83ms/epoch - 5ms/step\n",
            "Epoch 13/100\n",
            "17/17 - 0s - loss: 1.2733 - mae: 1.6256 - val_loss: 1.7235 - val_mae: 2.1379 - 80ms/epoch - 5ms/step\n",
            "Epoch 14/100\n",
            "17/17 - 0s - loss: 1.3280 - mae: 1.6908 - val_loss: 1.3460 - val_mae: 1.6888 - 66ms/epoch - 4ms/step\n",
            "Epoch 15/100\n",
            "17/17 - 0s - loss: 1.4456 - mae: 1.8110 - val_loss: 1.3689 - val_mae: 1.7743 - 62ms/epoch - 4ms/step\n",
            "Epoch 16/100\n",
            "17/17 - 0s - loss: 1.0567 - mae: 1.3932 - val_loss: 0.8313 - val_mae: 1.1518 - 78ms/epoch - 5ms/step\n",
            "Epoch 17/100\n",
            "17/17 - 0s - loss: 0.9961 - mae: 1.3264 - val_loss: 0.7923 - val_mae: 1.1034 - 78ms/epoch - 5ms/step\n",
            "Epoch 18/100\n",
            "17/17 - 0s - loss: 0.9797 - mae: 1.2965 - val_loss: 0.9995 - val_mae: 1.3148 - 82ms/epoch - 5ms/step\n",
            "Epoch 19/100\n",
            "17/17 - 0s - loss: 1.0511 - mae: 1.3679 - val_loss: 0.8014 - val_mae: 1.1072 - 71ms/epoch - 4ms/step\n",
            "Epoch 20/100\n",
            "17/17 - 0s - loss: 1.0451 - mae: 1.3670 - val_loss: 0.7924 - val_mae: 1.0918 - 61ms/epoch - 4ms/step\n",
            "Epoch 21/100\n",
            "17/17 - 0s - loss: 0.9793 - mae: 1.2893 - val_loss: 0.8609 - val_mae: 1.1956 - 64ms/epoch - 4ms/step\n",
            "Epoch 22/100\n",
            "17/17 - 0s - loss: 1.0593 - mae: 1.3911 - val_loss: 0.7582 - val_mae: 1.0716 - 63ms/epoch - 4ms/step\n",
            "Epoch 23/100\n",
            "17/17 - 0s - loss: 1.2235 - mae: 1.5514 - val_loss: 0.9321 - val_mae: 1.2384 - 76ms/epoch - 4ms/step\n",
            "Epoch 24/100\n",
            "17/17 - 0s - loss: 1.0651 - mae: 1.3847 - val_loss: 0.7613 - val_mae: 1.0802 - 68ms/epoch - 4ms/step\n",
            "Epoch 25/100\n",
            "17/17 - 0s - loss: 0.9872 - mae: 1.3140 - val_loss: 0.7884 - val_mae: 1.1709 - 80ms/epoch - 5ms/step\n",
            "Epoch 26/100\n",
            "17/17 - 0s - loss: 1.0809 - mae: 1.4192 - val_loss: 0.6664 - val_mae: 1.0290 - 67ms/epoch - 4ms/step\n",
            "Epoch 27/100\n",
            "17/17 - 0s - loss: 0.9966 - mae: 1.3244 - val_loss: 0.6664 - val_mae: 0.9682 - 79ms/epoch - 5ms/step\n",
            "Epoch 28/100\n",
            "17/17 - 0s - loss: 0.9070 - mae: 1.2156 - val_loss: 0.5881 - val_mae: 0.8625 - 64ms/epoch - 4ms/step\n",
            "Epoch 29/100\n",
            "17/17 - 0s - loss: 1.0070 - mae: 1.3132 - val_loss: 0.6386 - val_mae: 0.9479 - 86ms/epoch - 5ms/step\n",
            "Epoch 30/100\n",
            "17/17 - 0s - loss: 0.9795 - mae: 1.2931 - val_loss: 0.6639 - val_mae: 0.9862 - 78ms/epoch - 5ms/step\n",
            "Epoch 31/100\n",
            "17/17 - 0s - loss: 0.9788 - mae: 1.2868 - val_loss: 0.5818 - val_mae: 0.8878 - 78ms/epoch - 5ms/step\n",
            "Epoch 32/100\n",
            "17/17 - 0s - loss: 0.9670 - mae: 1.2778 - val_loss: 0.7355 - val_mae: 1.0681 - 82ms/epoch - 5ms/step\n",
            "Epoch 33/100\n",
            "17/17 - 0s - loss: 0.9528 - mae: 1.2863 - val_loss: 0.5291 - val_mae: 0.8111 - 62ms/epoch - 4ms/step\n",
            "Epoch 34/100\n",
            "17/17 - 0s - loss: 1.0254 - mae: 1.3652 - val_loss: 1.1899 - val_mae: 1.5403 - 65ms/epoch - 4ms/step\n",
            "Epoch 35/100\n",
            "17/17 - 0s - loss: 1.2323 - mae: 1.5796 - val_loss: 0.9715 - val_mae: 1.3666 - 61ms/epoch - 4ms/step\n",
            "Epoch 36/100\n",
            "17/17 - 0s - loss: 1.2078 - mae: 1.5690 - val_loss: 1.0244 - val_mae: 1.4057 - 79ms/epoch - 5ms/step\n",
            "Epoch 37/100\n",
            "17/17 - 0s - loss: 1.0550 - mae: 1.4112 - val_loss: 0.5812 - val_mae: 0.8953 - 76ms/epoch - 4ms/step\n",
            "Epoch 38/100\n",
            "17/17 - 0s - loss: 0.9143 - mae: 1.2285 - val_loss: 0.4997 - val_mae: 0.7695 - 100ms/epoch - 6ms/step\n",
            "Epoch 39/100\n",
            "17/17 - 0s - loss: 0.9076 - mae: 1.2144 - val_loss: 0.5410 - val_mae: 0.8458 - 110ms/epoch - 6ms/step\n",
            "Epoch 40/100\n",
            "17/17 - 0s - loss: 0.9758 - mae: 1.2870 - val_loss: 0.5627 - val_mae: 0.8702 - 105ms/epoch - 6ms/step\n",
            "Epoch 41/100\n",
            "17/17 - 0s - loss: 0.9612 - mae: 1.2605 - val_loss: 0.5499 - val_mae: 0.8511 - 114ms/epoch - 7ms/step\n",
            "Epoch 42/100\n",
            "17/17 - 0s - loss: 1.2624 - mae: 1.5900 - val_loss: 1.3708 - val_mae: 1.7479 - 93ms/epoch - 5ms/step\n",
            "Epoch 43/100\n",
            "17/17 - 0s - loss: 1.0796 - mae: 1.4089 - val_loss: 0.5928 - val_mae: 0.8916 - 110ms/epoch - 6ms/step\n",
            "Epoch 44/100\n",
            "17/17 - 0s - loss: 1.0252 - mae: 1.3181 - val_loss: 0.5749 - val_mae: 0.8751 - 108ms/epoch - 6ms/step\n",
            "Epoch 45/100\n",
            "17/17 - 0s - loss: 1.0366 - mae: 1.3627 - val_loss: 0.6490 - val_mae: 0.9851 - 99ms/epoch - 6ms/step\n",
            "Epoch 46/100\n",
            "17/17 - 0s - loss: 0.9535 - mae: 1.2886 - val_loss: 0.5660 - val_mae: 0.8966 - 124ms/epoch - 7ms/step\n",
            "Epoch 47/100\n",
            "17/17 - 0s - loss: 0.9337 - mae: 1.2777 - val_loss: 0.5397 - val_mae: 0.8422 - 97ms/epoch - 6ms/step\n",
            "Epoch 48/100\n",
            "17/17 - 0s - loss: 0.9131 - mae: 1.2121 - val_loss: 0.7104 - val_mae: 0.9842 - 102ms/epoch - 6ms/step\n",
            "Epoch 49/100\n",
            "17/17 - 0s - loss: 0.8742 - mae: 1.1677 - val_loss: 0.4755 - val_mae: 0.7426 - 110ms/epoch - 6ms/step\n",
            "Epoch 50/100\n",
            "17/17 - 0s - loss: 0.9203 - mae: 1.2163 - val_loss: 0.6439 - val_mae: 0.9386 - 91ms/epoch - 5ms/step\n",
            "Epoch 51/100\n",
            "17/17 - 0s - loss: 0.8577 - mae: 1.1649 - val_loss: 0.5202 - val_mae: 0.8299 - 107ms/epoch - 6ms/step\n",
            "Epoch 52/100\n",
            "17/17 - 0s - loss: 0.9920 - mae: 1.3017 - val_loss: 0.6897 - val_mae: 0.9629 - 109ms/epoch - 6ms/step\n",
            "Epoch 53/100\n",
            "17/17 - 0s - loss: 0.8851 - mae: 1.1793 - val_loss: 0.5233 - val_mae: 0.8319 - 112ms/epoch - 7ms/step\n",
            "Epoch 54/100\n",
            "17/17 - 0s - loss: 1.0210 - mae: 1.3345 - val_loss: 0.8216 - val_mae: 1.1541 - 112ms/epoch - 7ms/step\n",
            "Epoch 55/100\n",
            "17/17 - 0s - loss: 0.9901 - mae: 1.3017 - val_loss: 0.4424 - val_mae: 0.7003 - 105ms/epoch - 6ms/step\n",
            "Epoch 56/100\n",
            "17/17 - 0s - loss: 0.8653 - mae: 1.1584 - val_loss: 0.5457 - val_mae: 0.8343 - 119ms/epoch - 7ms/step\n",
            "Epoch 57/100\n",
            "17/17 - 0s - loss: 0.8863 - mae: 1.1814 - val_loss: 0.5050 - val_mae: 0.7973 - 115ms/epoch - 7ms/step\n",
            "Epoch 58/100\n",
            "17/17 - 0s - loss: 0.9870 - mae: 1.2843 - val_loss: 1.0603 - val_mae: 1.3841 - 127ms/epoch - 7ms/step\n",
            "Epoch 59/100\n",
            "17/17 - 0s - loss: 0.9599 - mae: 1.2477 - val_loss: 0.4632 - val_mae: 0.7411 - 108ms/epoch - 6ms/step\n",
            "Epoch 60/100\n",
            "17/17 - 0s - loss: 1.1617 - mae: 1.4927 - val_loss: 0.6606 - val_mae: 0.9785 - 110ms/epoch - 6ms/step\n",
            "Epoch 61/100\n",
            "17/17 - 0s - loss: 1.0433 - mae: 1.3795 - val_loss: 0.4090 - val_mae: 0.6694 - 108ms/epoch - 6ms/step\n",
            "Epoch 62/100\n",
            "17/17 - 0s - loss: 0.9520 - mae: 1.2543 - val_loss: 0.5865 - val_mae: 0.8918 - 118ms/epoch - 7ms/step\n",
            "Epoch 63/100\n",
            "17/17 - 0s - loss: 0.9452 - mae: 1.2350 - val_loss: 0.3381 - val_mae: 0.5847 - 99ms/epoch - 6ms/step\n",
            "Epoch 64/100\n",
            "17/17 - 0s - loss: 0.9286 - mae: 1.2331 - val_loss: 0.4102 - val_mae: 0.6512 - 111ms/epoch - 7ms/step\n",
            "Epoch 65/100\n",
            "17/17 - 0s - loss: 0.7908 - mae: 1.0831 - val_loss: 0.4735 - val_mae: 0.7246 - 117ms/epoch - 7ms/step\n",
            "Epoch 66/100\n",
            "17/17 - 0s - loss: 0.8545 - mae: 1.1489 - val_loss: 0.5209 - val_mae: 0.7993 - 77ms/epoch - 5ms/step\n",
            "Epoch 67/100\n",
            "17/17 - 0s - loss: 0.7832 - mae: 1.0703 - val_loss: 0.3896 - val_mae: 0.6577 - 81ms/epoch - 5ms/step\n",
            "Epoch 68/100\n",
            "17/17 - 0s - loss: 0.8382 - mae: 1.1364 - val_loss: 0.9604 - val_mae: 1.2818 - 65ms/epoch - 4ms/step\n",
            "Epoch 69/100\n",
            "17/17 - 0s - loss: 0.9376 - mae: 1.2310 - val_loss: 0.3862 - val_mae: 0.6354 - 61ms/epoch - 4ms/step\n",
            "Epoch 70/100\n",
            "17/17 - 0s - loss: 0.8429 - mae: 1.1259 - val_loss: 0.4227 - val_mae: 0.6644 - 80ms/epoch - 5ms/step\n",
            "Epoch 71/100\n",
            "17/17 - 0s - loss: 0.8767 - mae: 1.1690 - val_loss: 0.3224 - val_mae: 0.5702 - 87ms/epoch - 5ms/step\n",
            "Epoch 72/100\n",
            "17/17 - 0s - loss: 0.9180 - mae: 1.1993 - val_loss: 0.8360 - val_mae: 1.1223 - 66ms/epoch - 4ms/step\n",
            "Epoch 73/100\n",
            "17/17 - 0s - loss: 0.8906 - mae: 1.1794 - val_loss: 0.4597 - val_mae: 0.7384 - 79ms/epoch - 5ms/step\n",
            "Epoch 74/100\n",
            "17/17 - 0s - loss: 0.9520 - mae: 1.2597 - val_loss: 1.1810 - val_mae: 1.5432 - 63ms/epoch - 4ms/step\n",
            "Epoch 75/100\n",
            "17/17 - 0s - loss: 1.0835 - mae: 1.4062 - val_loss: 0.7417 - val_mae: 1.0550 - 64ms/epoch - 4ms/step\n",
            "Epoch 76/100\n",
            "17/17 - 0s - loss: 1.0699 - mae: 1.3833 - val_loss: 0.4390 - val_mae: 0.7014 - 85ms/epoch - 5ms/step\n",
            "Epoch 77/100\n",
            "17/17 - 0s - loss: 0.9376 - mae: 1.2432 - val_loss: 0.8201 - val_mae: 1.1641 - 68ms/epoch - 4ms/step\n",
            "Epoch 78/100\n",
            "17/17 - 0s - loss: 0.9284 - mae: 1.2248 - val_loss: 0.5619 - val_mae: 0.8372 - 70ms/epoch - 4ms/step\n",
            "Epoch 79/100\n",
            "17/17 - 0s - loss: 0.9382 - mae: 1.2612 - val_loss: 0.4771 - val_mae: 0.7568 - 68ms/epoch - 4ms/step\n",
            "Epoch 80/100\n",
            "17/17 - 0s - loss: 0.8754 - mae: 1.1697 - val_loss: 0.3272 - val_mae: 0.6059 - 82ms/epoch - 5ms/step\n",
            "Epoch 81/100\n",
            "17/17 - 0s - loss: 0.8555 - mae: 1.1455 - val_loss: 0.2865 - val_mae: 0.5393 - 92ms/epoch - 5ms/step\n",
            "Epoch 82/100\n",
            "17/17 - 0s - loss: 0.9048 - mae: 1.1994 - val_loss: 0.6668 - val_mae: 0.9940 - 66ms/epoch - 4ms/step\n",
            "Epoch 83/100\n",
            "17/17 - 0s - loss: 0.8818 - mae: 1.1790 - val_loss: 0.3765 - val_mae: 0.6339 - 68ms/epoch - 4ms/step\n",
            "Epoch 84/100\n",
            "17/17 - 0s - loss: 0.7905 - mae: 1.0856 - val_loss: 0.4430 - val_mae: 0.6908 - 81ms/epoch - 5ms/step\n",
            "Epoch 85/100\n",
            "17/17 - 0s - loss: 0.8994 - mae: 1.1787 - val_loss: 0.3260 - val_mae: 0.5920 - 67ms/epoch - 4ms/step\n",
            "Epoch 86/100\n",
            "17/17 - 0s - loss: 1.1936 - mae: 1.5342 - val_loss: 0.6439 - val_mae: 1.0055 - 77ms/epoch - 5ms/step\n",
            "Epoch 87/100\n",
            "17/17 - 0s - loss: 0.9921 - mae: 1.3040 - val_loss: 0.3241 - val_mae: 0.5382 - 78ms/epoch - 5ms/step\n",
            "Epoch 88/100\n",
            "17/17 - 0s - loss: 0.8807 - mae: 1.1815 - val_loss: 0.7511 - val_mae: 1.0465 - 64ms/epoch - 4ms/step\n",
            "Epoch 89/100\n",
            "17/17 - 0s - loss: 0.8392 - mae: 1.1325 - val_loss: 0.3209 - val_mae: 0.5412 - 86ms/epoch - 5ms/step\n",
            "Epoch 90/100\n",
            "17/17 - 0s - loss: 0.8222 - mae: 1.1038 - val_loss: 0.3177 - val_mae: 0.5379 - 83ms/epoch - 5ms/step\n",
            "Epoch 91/100\n",
            "17/17 - 0s - loss: 0.8655 - mae: 1.1566 - val_loss: 0.4015 - val_mae: 0.6354 - 78ms/epoch - 5ms/step\n",
            "Epoch 92/100\n",
            "17/17 - 0s - loss: 1.1699 - mae: 1.4827 - val_loss: 0.3758 - val_mae: 0.6638 - 71ms/epoch - 4ms/step\n",
            "Epoch 93/100\n",
            "17/17 - 0s - loss: 1.0576 - mae: 1.3680 - val_loss: 0.4301 - val_mae: 0.7023 - 80ms/epoch - 5ms/step\n",
            "Epoch 94/100\n",
            "17/17 - 0s - loss: 0.8943 - mae: 1.1795 - val_loss: 0.5375 - val_mae: 0.8401 - 68ms/epoch - 4ms/step\n",
            "Epoch 95/100\n",
            "17/17 - 0s - loss: 0.9790 - mae: 1.2678 - val_loss: 0.2859 - val_mae: 0.5478 - 64ms/epoch - 4ms/step\n",
            "Epoch 96/100\n",
            "17/17 - 0s - loss: 0.7957 - mae: 1.0785 - val_loss: 0.5789 - val_mae: 0.8273 - 79ms/epoch - 5ms/step\n",
            "Epoch 97/100\n",
            "17/17 - 0s - loss: 0.7899 - mae: 1.0749 - val_loss: 0.3131 - val_mae: 0.5344 - 64ms/epoch - 4ms/step\n",
            "Epoch 98/100\n",
            "17/17 - 0s - loss: 0.8709 - mae: 1.1563 - val_loss: 0.5263 - val_mae: 0.8076 - 67ms/epoch - 4ms/step\n",
            "Epoch 99/100\n",
            "17/17 - 0s - loss: 0.7793 - mae: 1.0700 - val_loss: 0.2511 - val_mae: 0.4843 - 64ms/epoch - 4ms/step\n",
            "Epoch 100/100\n",
            "17/17 - 0s - loss: 0.9513 - mae: 1.2478 - val_loss: 0.2434 - val_mae: 0.4740 - 78ms/epoch - 5ms/step\n"
          ]
        },
        {
          "data": {
            "text/plain": [
              "<keras.src.callbacks.History at 0x7bd11c272380>"
            ]
          },
          "execution_count": 59,
          "metadata": {},
          "output_type": "execute_result"
        }
      ],
      "source": [
        "nn_model_gl.fit(X_train_scaled, y_gl_train, epochs=100, validation_data=(X_test_scaled, y_gl_test), verbose=2)"
      ]
    },
    {
      "cell_type": "code",
      "execution_count": null,
      "id": "g022ILDDxz5Y",
      "metadata": {
        "colab": {
          "base_uri": "https://localhost:8080/"
        },
        "id": "g022ILDDxz5Y",
        "outputId": "a240f622-80b4-4d6b-f058-d4891563ff9f"
      },
      "outputs": [
        {
          "name": "stdout",
          "output_type": "stream",
          "text": [
            "Glycemic Load Model MAE: 0.47395607829093933\n"
          ]
        }
      ],
      "source": [
        "nn_gl, nn_mae = nn_model_gl.evaluate(X_test_scaled, y_gl_test, verbose=0)\n",
        "print(\"Glycemic Load Model MAE:\", nn_mae)"
      ]
    },
    {
      "cell_type": "code",
      "execution_count": null,
      "id": "MX5nH9ELx4fa",
      "metadata": {
        "colab": {
          "base_uri": "https://localhost:8080/"
        },
        "id": "MX5nH9ELx4fa",
        "outputId": "8ce38cbc-2ff7-4494-875d-21136f476c9e"
      },
      "outputs": [
        {
          "name": "stdout",
          "output_type": "stream",
          "text": [
            "2/2 [==============================] - 0s 10ms/step\n",
            "Predicted GL values:  ['6.12', '76.92', '4.69', '9.11', '0.00', '56.77', '6.75', '9.33', '3.25', '9.10', '33.53', '2.00', '3.77', '15.43', '6.61', '0.00', '0.00', '18.09', '1.19', '41.25', '22.85', '1.54', '91.22', '32.55', '9.58', '6.62', '1.66', '21.23', '14.61', '0.78']\n",
            "True GL values:       ['6.00', '78.90', '4.80', '9.00', '0.00', '54.80', '7.00', '9.80', '3.60', '9.00', '32.90', '2.30', '4.00', '15.80', '6.90', '0.00', '0.00', '18.20', '1.20', '40.80', '23.40', '1.50', '94.00', '33.20', '9.80', '6.40', '1.90', '21.60', '14.70', '0.80']\n"
          ]
        }
      ],
      "source": [
        "y_gl_prediction = nn_model_gl.predict(X_test_scaled)\n",
        "\n",
        "print('Predicted GL values: ', [f'{val[0]:.2f}' for val in y_gl_prediction[:30]])\n",
        "print('True GL values:      ', [f'{val:.2f}' for val in y_gl_test[:30]])"
      ]
    },
    {
      "cell_type": "markdown",
      "id": "o7qureWoXCfm",
      "metadata": {
        "id": "o7qureWoXCfm"
      },
      "source": [
        "### Compare Model"
      ]
    },
    {
      "cell_type": "code",
      "execution_count": null,
      "id": "uG47emY-XHru",
      "metadata": {
        "colab": {
          "base_uri": "https://localhost:8080/"
        },
        "id": "uG47emY-XHru",
        "outputId": "07f5a4f9-e82a-44ea-8ef4-d9acbd3a157b"
      },
      "outputs": [
        {
          "name": "stdout",
          "output_type": "stream",
          "text": [
            "Model with lowest MAE: Neural Network\n",
            "MAE:  0.47395607829093933\n"
          ]
        }
      ],
      "source": [
        "mae_dict = {\n",
        "    'Linear Regression': reg_mae,\n",
        "    'Decision Tree': tree_mae,\n",
        "    'SVR': svr_mae,\n",
        "    'Neural Network': nn_mae\n",
        "}\n",
        "\n",
        "best_model = min(mae_dict, key=mae_dict.get)\n",
        "\n",
        "print(\"Model with lowest MAE:\", best_model)\n",
        "print(\"MAE: \", mae_dict[best_model])"
      ]
    }
  ],
  "metadata": {
    "colab": {
      "provenance": []
    },
    "kernelspec": {
      "display_name": "Python 3 (ipykernel)",
      "language": "python",
      "name": "python3"
    },
    "language_info": {
      "codemirror_mode": {
        "name": "ipython",
        "version": 3
      },
      "file_extension": ".py",
      "mimetype": "text/x-python",
      "name": "python",
      "nbconvert_exporter": "python",
      "pygments_lexer": "ipython3",
      "version": "3.12.2"
    }
  },
  "nbformat": 4,
  "nbformat_minor": 5
}
